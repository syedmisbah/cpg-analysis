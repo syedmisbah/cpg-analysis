{
 "cells": [
  {
   "cell_type": "code",
   "execution_count": 2,
   "metadata": {},
   "outputs": [],
   "source": [
    "import statsmodels.api as sm \n",
    "import pandas as pd"
   ]
  },
  {
   "cell_type": "code",
   "execution_count": 3,
   "metadata": {},
   "outputs": [
    {
     "data": {
      "text/plain": [
       "(125776, 29)"
      ]
     },
     "execution_count": 3,
     "metadata": {},
     "output_type": "execute_result"
    }
   ],
   "source": [
    "df_rolled = pd.read_parquet(\"../data/processed/df_preprocessed.parquet\")\n",
    "df_rolled.shape"
   ]
  },
  {
   "cell_type": "code",
   "execution_count": 4,
   "metadata": {},
   "outputs": [
    {
     "name": "stdout",
     "output_type": "stream",
     "text": [
      "(70475, 29)\n"
     ]
    }
   ],
   "source": [
    "df_rolled = df_rolled.loc[df_rolled['No_Total_Sales_Flag']==0]\n",
    "print(df_rolled.shape)"
   ]
  },
  {
   "cell_type": "code",
   "execution_count": 5,
   "metadata": {},
   "outputs": [],
   "source": [
    "model_levels = [\"PPG\",\"Retailer_Name\"] \n"
   ]
  },
  {
   "cell_type": "code",
   "execution_count": 23,
   "metadata": {},
   "outputs": [
    {
     "name": "stdout",
     "output_type": "stream",
     "text": [
      "['Total_Volume', 'Avg_Price_Per_KG', 'Distribution_wtd', 'Distribution_numeric']\n"
     ]
    },
    {
     "data": {
      "text/plain": [
       "Total_Volume              0\n",
       "Avg_Price_Per_KG          0\n",
       "Distribution_wtd        270\n",
       "Distribution_numeric    371\n",
       "dtype: int64"
      ]
     },
     "execution_count": 23,
     "metadata": {},
     "output_type": "execute_result"
    }
   ],
   "source": [
    "var_dep = 'Total_Volume'\n",
    "vars_ind = ['Avg_Price_Per_KG','Distribution_wtd','Distribution_numeric']\n",
    "vars_all = [var_dep] + vars_ind\n",
    "print(vars_all)\n",
    "\n",
    "df_rolled[vars_all].isnull().sum()"
   ]
  },
  {
   "cell_type": "code",
   "execution_count": 22,
   "metadata": {},
   "outputs": [],
   "source": [
    "df_rolled['Distribution_numeric'] = df_rolled['Distribution_numeric'].fillna(df_rolled.groupby(model_levels)['Distribution_numeric'].transform('mean'))\n",
    "df_rolled['Distribution_wtd'] = df_rolled['Distribution_wtd'].fillna(df_rolled.groupby(model_levels)['Distribution_wtd'].transform('mean'))"
   ]
  },
  {
   "cell_type": "code",
   "execution_count": 25,
   "metadata": {},
   "outputs": [
    {
     "data": {
      "text/plain": [
       "(70104, 29)"
      ]
     },
     "execution_count": 25,
     "metadata": {},
     "output_type": "execute_result"
    }
   ],
   "source": [
    "df_rolled = df_rolled.loc[~df_rolled['Distribution_numeric'].isna()]\n",
    "df_rolled = df_rolled.loc[~df_rolled['Distribution_wtd'].isna()]\n",
    "df_rolled.shape"
   ]
  },
  {
   "cell_type": "code",
   "execution_count": 41,
   "metadata": {},
   "outputs": [],
   "source": [
    "def regress(data, yvar, xvars):\n",
    "    Y = data[yvar]\n",
    "    X = data[xvars]\n",
    "    X['intercept'] = 1.\n",
    "    result = sm.OLS(Y, X).fit()\n",
    "    return result.rsquared"
   ]
  },
  {
   "cell_type": "code",
   "execution_count": 42,
   "metadata": {},
   "outputs": [
    {
     "data": {
      "text/html": [
       "<div>\n",
       "<style scoped>\n",
       "    .dataframe tbody tr th:only-of-type {\n",
       "        vertical-align: middle;\n",
       "    }\n",
       "\n",
       "    .dataframe tbody tr th {\n",
       "        vertical-align: top;\n",
       "    }\n",
       "\n",
       "    .dataframe thead th {\n",
       "        text-align: right;\n",
       "    }\n",
       "</style>\n",
       "<table border=\"1\" class=\"dataframe\">\n",
       "  <thead>\n",
       "    <tr style=\"text-align: right;\">\n",
       "      <th></th>\n",
       "      <th>PPG</th>\n",
       "      <th>Retailer_Name</th>\n",
       "      <th>None</th>\n",
       "    </tr>\n",
       "  </thead>\n",
       "  <tbody>\n",
       "    <tr>\n",
       "      <th>0</th>\n",
       "      <td>BRAND A SUBBRAND A.1 ADULT ZAK GROENTE_KIP_RIJ...</td>\n",
       "      <td>Retailer A</td>\n",
       "      <td>0.820305</td>\n",
       "    </tr>\n",
       "    <tr>\n",
       "      <th>1</th>\n",
       "      <td>BRAND A SUBBRAND A.1 ADULT ZAK GROENTE_KIP_RIJ...</td>\n",
       "      <td>Retailer B</td>\n",
       "      <td>0.802672</td>\n",
       "    </tr>\n",
       "    <tr>\n",
       "      <th>2</th>\n",
       "      <td>BRAND A SUBBRAND A.1 ADULT ZAK GROENTE_KIP_RIJ...</td>\n",
       "      <td>Retailer C</td>\n",
       "      <td>0.643769</td>\n",
       "    </tr>\n",
       "    <tr>\n",
       "      <th>3</th>\n",
       "      <td>BRAND A SUBBRAND A.2 ADULT ZAK GRONT_RND 1400_G</td>\n",
       "      <td>Retailer A</td>\n",
       "      <td>0.862448</td>\n",
       "    </tr>\n",
       "    <tr>\n",
       "      <th>4</th>\n",
       "      <td>BRAND A SUBBRAND A.2 ADULT ZAK GRONT_RND 1400_G</td>\n",
       "      <td>Retailer B</td>\n",
       "      <td>0.832114</td>\n",
       "    </tr>\n",
       "    <tr>\n",
       "      <th>...</th>\n",
       "      <td>...</td>\n",
       "      <td>...</td>\n",
       "      <td>...</td>\n",
       "    </tr>\n",
       "    <tr>\n",
       "      <th>527</th>\n",
       "      <td>BRAND O SUBBRAND O.6 ADULT BAK RUND 60_G</td>\n",
       "      <td>Retailer C</td>\n",
       "      <td>0.423185</td>\n",
       "    </tr>\n",
       "    <tr>\n",
       "      <th>528</th>\n",
       "      <td>BRAND O SUBBRAND O.6 ADULT BAK ZALM 60_G</td>\n",
       "      <td>Retailer A</td>\n",
       "      <td>0.828068</td>\n",
       "    </tr>\n",
       "    <tr>\n",
       "      <th>529</th>\n",
       "      <td>BRAND O SUBBRAND O.6 ADULT BAK ZALM 60_G</td>\n",
       "      <td>Retailer B</td>\n",
       "      <td>0.654889</td>\n",
       "    </tr>\n",
       "    <tr>\n",
       "      <th>530</th>\n",
       "      <td>BRAND O SUBBRAND O.6 ADULT BAK ZALM 60_G</td>\n",
       "      <td>Retailer C</td>\n",
       "      <td>0.615018</td>\n",
       "    </tr>\n",
       "    <tr>\n",
       "      <th>531</th>\n",
       "      <td>BRAND O SUBBRAND O.6 ADULT BAK ZEEVRUCHTEN 60_G</td>\n",
       "      <td>Retailer C</td>\n",
       "      <td>0.575010</td>\n",
       "    </tr>\n",
       "  </tbody>\n",
       "</table>\n",
       "<p>532 rows × 3 columns</p>\n",
       "</div>"
      ],
      "text/plain": [
       "                                                   PPG Retailer_Name      None\n",
       "0    BRAND A SUBBRAND A.1 ADULT ZAK GROENTE_KIP_RIJ...    Retailer A  0.820305\n",
       "1    BRAND A SUBBRAND A.1 ADULT ZAK GROENTE_KIP_RIJ...    Retailer B  0.802672\n",
       "2    BRAND A SUBBRAND A.1 ADULT ZAK GROENTE_KIP_RIJ...    Retailer C  0.643769\n",
       "3      BRAND A SUBBRAND A.2 ADULT ZAK GRONT_RND 1400_G    Retailer A  0.862448\n",
       "4      BRAND A SUBBRAND A.2 ADULT ZAK GRONT_RND 1400_G    Retailer B  0.832114\n",
       "..                                                 ...           ...       ...\n",
       "527           BRAND O SUBBRAND O.6 ADULT BAK RUND 60_G    Retailer C  0.423185\n",
       "528           BRAND O SUBBRAND O.6 ADULT BAK ZALM 60_G    Retailer A  0.828068\n",
       "529           BRAND O SUBBRAND O.6 ADULT BAK ZALM 60_G    Retailer B  0.654889\n",
       "530           BRAND O SUBBRAND O.6 ADULT BAK ZALM 60_G    Retailer C  0.615018\n",
       "531    BRAND O SUBBRAND O.6 ADULT BAK ZEEVRUCHTEN 60_G    Retailer C  0.575010\n",
       "\n",
       "[532 rows x 3 columns]"
      ]
     },
     "execution_count": 42,
     "metadata": {},
     "output_type": "execute_result"
    }
   ],
   "source": [
    "df_rolled.groupby(model_levels,as_index=False).apply(regress, var_dep, vars_ind)"
   ]
  },
  {
   "cell_type": "code",
   "execution_count": null,
   "metadata": {},
   "outputs": [],
   "source": []
  }
 ],
 "metadata": {
  "kernelspec": {
   "display_name": "base",
   "language": "python",
   "name": "python3"
  },
  "language_info": {
   "codemirror_mode": {
    "name": "ipython",
    "version": 3
   },
   "file_extension": ".py",
   "mimetype": "text/x-python",
   "name": "python",
   "nbconvert_exporter": "python",
   "pygments_lexer": "ipython3",
   "version": "3.9.12"
  },
  "orig_nbformat": 4
 },
 "nbformat": 4,
 "nbformat_minor": 2
}
