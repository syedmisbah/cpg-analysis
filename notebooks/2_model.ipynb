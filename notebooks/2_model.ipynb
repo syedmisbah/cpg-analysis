{
 "cells": [
  {
   "cell_type": "code",
   "execution_count": 1,
   "metadata": {},
   "outputs": [],
   "source": [
    "import statsmodels.api as sm \n",
    "import pandas as pd\n",
    "import numpy as np\n",
    "import warnings\n",
    "warnings.filterwarnings(action=\"ignore\")\n",
    "import plotly.express as px\n",
    "import plotly.graph_objects as go"
   ]
  },
  {
   "cell_type": "code",
   "execution_count": 2,
   "metadata": {},
   "outputs": [
    {
     "data": {
      "text/plain": [
       "(125776, 31)"
      ]
     },
     "execution_count": 2,
     "metadata": {},
     "output_type": "execute_result"
    }
   ],
   "source": [
    "df_rolled = pd.read_parquet(\"../data/output/df_model.parquet\")\n",
    "df_rolled.shape"
   ]
  },
  {
   "cell_type": "code",
   "execution_count": 3,
   "metadata": {},
   "outputs": [
    {
     "data": {
      "text/plain": [
       "314"
      ]
     },
     "execution_count": 3,
     "metadata": {},
     "output_type": "execute_result"
    }
   ],
   "source": [
    "df_rolled['PPG'].nunique()"
   ]
  },
  {
   "cell_type": "code",
   "execution_count": 4,
   "metadata": {},
   "outputs": [
    {
     "name": "stdout",
     "output_type": "stream",
     "text": [
      "Number of unique retailer PPG combinations 743\n"
     ]
    }
   ],
   "source": [
    "print(\"Number of unique retailer PPG combinations\",df_rolled[['PPG','Retailer_Name']].drop_duplicates().shape[0])"
   ]
  },
  {
   "cell_type": "code",
   "execution_count": 5,
   "metadata": {},
   "outputs": [
    {
     "name": "stdout",
     "output_type": "stream",
     "text": [
      "(14709, 31)\n"
     ]
    }
   ],
   "source": [
    "df_rolled = df_rolled.loc[df_rolled['No_Total_Sales_Flag']==0]\n",
    "print(df_rolled.shape)"
   ]
  },
  {
   "cell_type": "code",
   "execution_count": 6,
   "metadata": {},
   "outputs": [
    {
     "name": "stdout",
     "output_type": "stream",
     "text": [
      "Number of unique retailer PPG combinations 465\n"
     ]
    }
   ],
   "source": [
    "print(\"Number of unique retailer PPG combinations\",df_rolled[['PPG','Retailer_Name']].drop_duplicates().shape[0])"
   ]
  },
  {
   "cell_type": "code",
   "execution_count": 7,
   "metadata": {},
   "outputs": [],
   "source": [
    "model_levels = [\"PPG\",\"Retailer_Name\"] "
   ]
  },
  {
   "cell_type": "code",
   "execution_count": 8,
   "metadata": {},
   "outputs": [],
   "source": [
    "#Log of price and sales to  build log-log model\n",
    "df_rolled['log_sales'] = np.log(df_rolled['Total_Volume'])\n",
    "df_rolled['log_price'] = np.log(df_rolled['Avg_Price_Per_KG'])"
   ]
  },
  {
   "cell_type": "code",
   "execution_count": 9,
   "metadata": {},
   "outputs": [
    {
     "name": "stdout",
     "output_type": "stream",
     "text": [
      "['log_sales', 'log_price', 'Distribution_wtd', 'Category_Seasonality', 'Category_Trend']\n"
     ]
    },
    {
     "data": {
      "text/plain": [
       "log_sales               0\n",
       "log_price               0\n",
       "Distribution_wtd        1\n",
       "Category_Seasonality    0\n",
       "Category_Trend          0\n",
       "dtype: int64"
      ]
     },
     "execution_count": 9,
     "metadata": {},
     "output_type": "execute_result"
    }
   ],
   "source": [
    "var_dep = 'log_sales'\n",
    "vars_ind = ['log_price','Distribution_wtd','Category_Seasonality','Category_Trend']\n",
    "vars_all = [var_dep] + vars_ind\n",
    "print(vars_all)\n",
    "\n",
    "df_rolled[vars_all].isnull().sum()"
   ]
  },
  {
   "cell_type": "code",
   "execution_count": 10,
   "metadata": {},
   "outputs": [],
   "source": [
    "#Distribution can be replaced with mean for now, should be okay more or less\n",
    "df_rolled['Distribution_numeric'] = df_rolled['Distribution_numeric'].fillna(df_rolled.groupby(model_levels)['Distribution_numeric'].transform('mean'))\n",
    "df_rolled['Distribution_wtd'] = df_rolled['Distribution_wtd'].fillna(df_rolled.groupby(model_levels)['Distribution_wtd'].transform('mean'))"
   ]
  },
  {
   "cell_type": "code",
   "execution_count": 11,
   "metadata": {},
   "outputs": [
    {
     "data": {
      "text/plain": [
       "(14709, 33)"
      ]
     },
     "execution_count": 11,
     "metadata": {},
     "output_type": "execute_result"
    }
   ],
   "source": [
    "df_rolled = df_rolled.loc[~df_rolled['Distribution_numeric'].isna()]\n",
    "df_rolled = df_rolled.loc[~df_rolled['Distribution_wtd'].isna()]\n",
    "df_rolled.shape"
   ]
  },
  {
   "cell_type": "code",
   "execution_count": 12,
   "metadata": {},
   "outputs": [
    {
     "data": {
      "text/html": [
       "<div>\n",
       "<style scoped>\n",
       "    .dataframe tbody tr th:only-of-type {\n",
       "        vertical-align: middle;\n",
       "    }\n",
       "\n",
       "    .dataframe tbody tr th {\n",
       "        vertical-align: top;\n",
       "    }\n",
       "\n",
       "    .dataframe thead th {\n",
       "        text-align: right;\n",
       "    }\n",
       "</style>\n",
       "<table border=\"1\" class=\"dataframe\">\n",
       "  <thead>\n",
       "    <tr style=\"text-align: right;\">\n",
       "      <th></th>\n",
       "      <th>PPG</th>\n",
       "      <th>Retailer_Name</th>\n",
       "      <th>log_price</th>\n",
       "      <th>Distribution_wtd</th>\n",
       "      <th>Category_Seasonality</th>\n",
       "      <th>Category_Trend</th>\n",
       "      <th>intercept</th>\n",
       "    </tr>\n",
       "  </thead>\n",
       "  <tbody>\n",
       "    <tr>\n",
       "      <th>0</th>\n",
       "      <td>BRAND A SUBBRAND A.1 ADULT ZAK GROENTE_KIP_RIJ...</td>\n",
       "      <td>Retailer A</td>\n",
       "      <td>-0.852109</td>\n",
       "      <td>0.123530</td>\n",
       "      <td>0.197584</td>\n",
       "      <td>-6.403994</td>\n",
       "      <td>8.002612</td>\n",
       "    </tr>\n",
       "    <tr>\n",
       "      <th>1</th>\n",
       "      <td>BRAND A SUBBRAND A.1 ADULT ZAK GROENTE_KIP_RIJ...</td>\n",
       "      <td>Retailer B</td>\n",
       "      <td>-5.057595</td>\n",
       "      <td>0.007523</td>\n",
       "      <td>0.007206</td>\n",
       "      <td>0.015822</td>\n",
       "      <td>9.290431</td>\n",
       "    </tr>\n",
       "    <tr>\n",
       "      <th>2</th>\n",
       "      <td>BRAND A SUBBRAND A.1 ADULT ZAK GROENTE_KIP_RIJ...</td>\n",
       "      <td>Retailer C</td>\n",
       "      <td>-1.630746</td>\n",
       "      <td>0.075442</td>\n",
       "      <td>-0.033026</td>\n",
       "      <td>0.032400</td>\n",
       "      <td>5.522694</td>\n",
       "    </tr>\n",
       "    <tr>\n",
       "      <th>3</th>\n",
       "      <td>BRAND A SUBBRAND A.2 ADULT ZAK GRONT_RND 1400_G</td>\n",
       "      <td>Retailer A</td>\n",
       "      <td>-0.302161</td>\n",
       "      <td>0.047439</td>\n",
       "      <td>0.044996</td>\n",
       "      <td>-0.024606</td>\n",
       "      <td>4.752580</td>\n",
       "    </tr>\n",
       "    <tr>\n",
       "      <th>4</th>\n",
       "      <td>BRAND A SUBBRAND A.2 ADULT ZAK GRONT_RND 1400_G</td>\n",
       "      <td>Retailer B</td>\n",
       "      <td>-2.076912</td>\n",
       "      <td>0.023631</td>\n",
       "      <td>0.086669</td>\n",
       "      <td>-0.062266</td>\n",
       "      <td>6.300813</td>\n",
       "    </tr>\n",
       "  </tbody>\n",
       "</table>\n",
       "</div>"
      ],
      "text/plain": [
       "                                                 PPG Retailer_Name  log_price  \\\n",
       "0  BRAND A SUBBRAND A.1 ADULT ZAK GROENTE_KIP_RIJ...    Retailer A  -0.852109   \n",
       "1  BRAND A SUBBRAND A.1 ADULT ZAK GROENTE_KIP_RIJ...    Retailer B  -5.057595   \n",
       "2  BRAND A SUBBRAND A.1 ADULT ZAK GROENTE_KIP_RIJ...    Retailer C  -1.630746   \n",
       "3    BRAND A SUBBRAND A.2 ADULT ZAK GRONT_RND 1400_G    Retailer A  -0.302161   \n",
       "4    BRAND A SUBBRAND A.2 ADULT ZAK GRONT_RND 1400_G    Retailer B  -2.076912   \n",
       "\n",
       "   Distribution_wtd  Category_Seasonality  Category_Trend  intercept  \n",
       "0          0.123530              0.197584       -6.403994   8.002612  \n",
       "1          0.007523              0.007206        0.015822   9.290431  \n",
       "2          0.075442             -0.033026        0.032400   5.522694  \n",
       "3          0.047439              0.044996       -0.024606   4.752580  \n",
       "4          0.023631              0.086669       -0.062266   6.300813  "
      ]
     },
     "execution_count": 12,
     "metadata": {},
     "output_type": "execute_result"
    }
   ],
   "source": [
    "def regress(data, yvar, xvars):\n",
    "    Y = data[yvar]\n",
    "    X = data[xvars]\n",
    "    X['intercept'] = 1.\n",
    "    result = sm.OLS(Y, X).fit()\n",
    "    return result.params\n",
    "\n",
    "results_summary_coeffs = df_rolled.groupby(model_levels,as_index=False).apply(regress, var_dep, vars_ind)\n",
    "results_summary_coeffs.head()"
   ]
  },
  {
   "cell_type": "code",
   "execution_count": 13,
   "metadata": {},
   "outputs": [
    {
     "data": {
      "text/html": [
       "<div>\n",
       "<style scoped>\n",
       "    .dataframe tbody tr th:only-of-type {\n",
       "        vertical-align: middle;\n",
       "    }\n",
       "\n",
       "    .dataframe tbody tr th {\n",
       "        vertical-align: top;\n",
       "    }\n",
       "\n",
       "    .dataframe thead th {\n",
       "        text-align: right;\n",
       "    }\n",
       "</style>\n",
       "<table border=\"1\" class=\"dataframe\">\n",
       "  <thead>\n",
       "    <tr style=\"text-align: right;\">\n",
       "      <th></th>\n",
       "      <th>PPG</th>\n",
       "      <th>Retailer_Name</th>\n",
       "      <th>RSquared</th>\n",
       "    </tr>\n",
       "  </thead>\n",
       "  <tbody>\n",
       "    <tr>\n",
       "      <th>0</th>\n",
       "      <td>BRAND A SUBBRAND A.1 ADULT ZAK GROENTE_KIP_RIJ...</td>\n",
       "      <td>Retailer A</td>\n",
       "      <td>95.718866</td>\n",
       "    </tr>\n",
       "    <tr>\n",
       "      <th>1</th>\n",
       "      <td>BRAND A SUBBRAND A.1 ADULT ZAK GROENTE_KIP_RIJ...</td>\n",
       "      <td>Retailer B</td>\n",
       "      <td>83.103341</td>\n",
       "    </tr>\n",
       "    <tr>\n",
       "      <th>2</th>\n",
       "      <td>BRAND A SUBBRAND A.1 ADULT ZAK GROENTE_KIP_RIJ...</td>\n",
       "      <td>Retailer C</td>\n",
       "      <td>85.564247</td>\n",
       "    </tr>\n",
       "    <tr>\n",
       "      <th>3</th>\n",
       "      <td>BRAND A SUBBRAND A.2 ADULT ZAK GRONT_RND 1400_G</td>\n",
       "      <td>Retailer A</td>\n",
       "      <td>90.628859</td>\n",
       "    </tr>\n",
       "    <tr>\n",
       "      <th>4</th>\n",
       "      <td>BRAND A SUBBRAND A.2 ADULT ZAK GRONT_RND 1400_G</td>\n",
       "      <td>Retailer B</td>\n",
       "      <td>96.522362</td>\n",
       "    </tr>\n",
       "  </tbody>\n",
       "</table>\n",
       "</div>"
      ],
      "text/plain": [
       "                                                 PPG Retailer_Name   RSquared\n",
       "0  BRAND A SUBBRAND A.1 ADULT ZAK GROENTE_KIP_RIJ...    Retailer A  95.718866\n",
       "1  BRAND A SUBBRAND A.1 ADULT ZAK GROENTE_KIP_RIJ...    Retailer B  83.103341\n",
       "2  BRAND A SUBBRAND A.1 ADULT ZAK GROENTE_KIP_RIJ...    Retailer C  85.564247\n",
       "3    BRAND A SUBBRAND A.2 ADULT ZAK GRONT_RND 1400_G    Retailer A  90.628859\n",
       "4    BRAND A SUBBRAND A.2 ADULT ZAK GRONT_RND 1400_G    Retailer B  96.522362"
      ]
     },
     "execution_count": 13,
     "metadata": {},
     "output_type": "execute_result"
    }
   ],
   "source": [
    "def regress(data, yvar, xvars):\n",
    "    Y = data[yvar]\n",
    "    X = data[xvars]\n",
    "    X['intercept'] = 1.\n",
    "    result = sm.OLS(Y, X).fit()\n",
    "    return result.rsquared\n",
    "\n",
    "results_summary_score = df_rolled.groupby(model_levels,as_index=False).apply(regress, var_dep, vars_ind)\n",
    "results_summary_score.columns = ['PPG','Retailer_Name','RSquared']\n",
    "results_summary_score.RSquared = results_summary_score.RSquared*100 \n",
    "results_summary_score.head()"
   ]
  },
  {
   "cell_type": "code",
   "execution_count": 14,
   "metadata": {},
   "outputs": [],
   "source": [
    "def calculate_mape(pred,actual):    \n",
    "    actual, pred = np.array(actual), np.array(pred)\n",
    "    return np.mean(np.abs((actual - pred) / actual)) * 100"
   ]
  },
  {
   "cell_type": "code",
   "execution_count": 15,
   "metadata": {},
   "outputs": [],
   "source": [
    "results_summary_mape = pd.DataFrame(columns=['PPG_Retailer_Combo','MAPE'])\n",
    "\n",
    "df_rolled['PPG_Retailer_Combo'] = df_rolled['PPG'] +  \"*\" + df_rolled['Retailer_Name']\n",
    "\n",
    "for each_combo in df_rolled['PPG_Retailer_Combo'].unique().tolist():\n",
    "    curr_df = df_rolled.loc[df_rolled['PPG_Retailer_Combo']==each_combo]\n",
    "    Y = curr_df[var_dep]\n",
    "    X = curr_df[vars_ind]\n",
    "    X['intercept'] = 1.\n",
    "    result = sm.OLS(Y, X).fit()\n",
    "    curr_df['predicted'] = result.get_prediction(X).summary_frame()['mean']\n",
    "    curr_mape = calculate_mape(curr_df['predicted'] ,curr_df[var_dep])\n",
    "    results_summary_mape.loc[len(results_summary_mape)] = [each_combo,curr_mape]\n",
    "    # print(curr_mape)\n"
   ]
  },
  {
   "cell_type": "code",
   "execution_count": 16,
   "metadata": {},
   "outputs": [
    {
     "data": {
      "text/html": [
       "<div>\n",
       "<style scoped>\n",
       "    .dataframe tbody tr th:only-of-type {\n",
       "        vertical-align: middle;\n",
       "    }\n",
       "\n",
       "    .dataframe tbody tr th {\n",
       "        vertical-align: top;\n",
       "    }\n",
       "\n",
       "    .dataframe thead th {\n",
       "        text-align: right;\n",
       "    }\n",
       "</style>\n",
       "<table border=\"1\" class=\"dataframe\">\n",
       "  <thead>\n",
       "    <tr style=\"text-align: right;\">\n",
       "      <th></th>\n",
       "      <th>MAPE</th>\n",
       "      <th>PPG</th>\n",
       "      <th>Retailer_Name</th>\n",
       "    </tr>\n",
       "  </thead>\n",
       "  <tbody>\n",
       "    <tr>\n",
       "      <th>0</th>\n",
       "      <td>0.992367</td>\n",
       "      <td>BRAND D SUBBRAND D.2 ADULT POUCH RND_KP_LM_KN ...</td>\n",
       "      <td>Retailer C</td>\n",
       "    </tr>\n",
       "    <tr>\n",
       "      <th>1</th>\n",
       "      <td>1.182068</td>\n",
       "      <td>BRAND D SUBBRAND D.2 ADULT POUCH RND_KP_TN_ZLM...</td>\n",
       "      <td>Retailer C</td>\n",
       "    </tr>\n",
       "    <tr>\n",
       "      <th>2</th>\n",
       "      <td>1.840325</td>\n",
       "      <td>BRAND D SUBBRAND D.2 ADULT POUCH TON_ZLM_KB_SC...</td>\n",
       "      <td>Retailer B</td>\n",
       "    </tr>\n",
       "    <tr>\n",
       "      <th>3</th>\n",
       "      <td>1.299402</td>\n",
       "      <td>BRAND D SUBBRAND D.2 ADULT POUCH TON_ZLM_KB_SC...</td>\n",
       "      <td>Retailer C</td>\n",
       "    </tr>\n",
       "    <tr>\n",
       "      <th>4</th>\n",
       "      <td>0.587125</td>\n",
       "      <td>BRAND D SUBBRAND D.2 KITTEN POUCH KIP_RND_TN_Z...</td>\n",
       "      <td>Retailer C</td>\n",
       "    </tr>\n",
       "  </tbody>\n",
       "</table>\n",
       "</div>"
      ],
      "text/plain": [
       "       MAPE                                                PPG Retailer_Name\n",
       "0  0.992367  BRAND D SUBBRAND D.2 ADULT POUCH RND_KP_LM_KN ...    Retailer C\n",
       "1  1.182068  BRAND D SUBBRAND D.2 ADULT POUCH RND_KP_TN_ZLM...    Retailer C\n",
       "2  1.840325  BRAND D SUBBRAND D.2 ADULT POUCH TON_ZLM_KB_SC...    Retailer B\n",
       "3  1.299402  BRAND D SUBBRAND D.2 ADULT POUCH TON_ZLM_KB_SC...    Retailer C\n",
       "4  0.587125  BRAND D SUBBRAND D.2 KITTEN POUCH KIP_RND_TN_Z...    Retailer C"
      ]
     },
     "execution_count": 16,
     "metadata": {},
     "output_type": "execute_result"
    }
   ],
   "source": [
    "results_summary_mape[['PPG','Retailer_Name']] = results_summary_mape['PPG_Retailer_Combo'].str.split(\"*\",expand=True)\n",
    "del results_summary_mape['PPG_Retailer_Combo']\n",
    "results_summary_mape.head()"
   ]
  },
  {
   "cell_type": "code",
   "execution_count": 17,
   "metadata": {},
   "outputs": [
    {
     "data": {
      "text/html": [
       "<div>\n",
       "<style scoped>\n",
       "    .dataframe tbody tr th:only-of-type {\n",
       "        vertical-align: middle;\n",
       "    }\n",
       "\n",
       "    .dataframe tbody tr th {\n",
       "        vertical-align: top;\n",
       "    }\n",
       "\n",
       "    .dataframe thead th {\n",
       "        text-align: right;\n",
       "    }\n",
       "</style>\n",
       "<table border=\"1\" class=\"dataframe\">\n",
       "  <thead>\n",
       "    <tr style=\"text-align: right;\">\n",
       "      <th></th>\n",
       "      <th>PPG</th>\n",
       "      <th>Retailer_Name</th>\n",
       "      <th>log_price</th>\n",
       "      <th>Distribution_wtd</th>\n",
       "      <th>Category_Seasonality</th>\n",
       "      <th>Category_Trend</th>\n",
       "      <th>intercept</th>\n",
       "      <th>RSquared</th>\n",
       "      <th>MAPE</th>\n",
       "    </tr>\n",
       "  </thead>\n",
       "  <tbody>\n",
       "    <tr>\n",
       "      <th>0</th>\n",
       "      <td>BRAND A SUBBRAND A.1 ADULT ZAK GROENTE_KIP_RIJ...</td>\n",
       "      <td>Retailer A</td>\n",
       "      <td>-0.852109</td>\n",
       "      <td>0.123530</td>\n",
       "      <td>0.197584</td>\n",
       "      <td>-6.403994</td>\n",
       "      <td>8.002612</td>\n",
       "      <td>95.718866</td>\n",
       "      <td>3.210109</td>\n",
       "    </tr>\n",
       "    <tr>\n",
       "      <th>1</th>\n",
       "      <td>BRAND A SUBBRAND A.1 ADULT ZAK GROENTE_KIP_RIJ...</td>\n",
       "      <td>Retailer B</td>\n",
       "      <td>-5.057595</td>\n",
       "      <td>0.007523</td>\n",
       "      <td>0.007206</td>\n",
       "      <td>0.015822</td>\n",
       "      <td>9.290431</td>\n",
       "      <td>83.103341</td>\n",
       "      <td>1.809377</td>\n",
       "    </tr>\n",
       "    <tr>\n",
       "      <th>2</th>\n",
       "      <td>BRAND A SUBBRAND A.1 ADULT ZAK GROENTE_KIP_RIJ...</td>\n",
       "      <td>Retailer C</td>\n",
       "      <td>-1.630746</td>\n",
       "      <td>0.075442</td>\n",
       "      <td>-0.033026</td>\n",
       "      <td>0.032400</td>\n",
       "      <td>5.522694</td>\n",
       "      <td>85.564247</td>\n",
       "      <td>1.014445</td>\n",
       "    </tr>\n",
       "    <tr>\n",
       "      <th>3</th>\n",
       "      <td>BRAND A SUBBRAND A.2 ADULT ZAK GRONT_RND 1400_G</td>\n",
       "      <td>Retailer A</td>\n",
       "      <td>-0.302161</td>\n",
       "      <td>0.047439</td>\n",
       "      <td>0.044996</td>\n",
       "      <td>-0.024606</td>\n",
       "      <td>4.752580</td>\n",
       "      <td>90.628859</td>\n",
       "      <td>3.045934</td>\n",
       "    </tr>\n",
       "    <tr>\n",
       "      <th>4</th>\n",
       "      <td>BRAND A SUBBRAND A.2 ADULT ZAK GRONT_RND 1400_G</td>\n",
       "      <td>Retailer B</td>\n",
       "      <td>-2.076912</td>\n",
       "      <td>0.023631</td>\n",
       "      <td>0.086669</td>\n",
       "      <td>-0.062266</td>\n",
       "      <td>6.300813</td>\n",
       "      <td>96.522362</td>\n",
       "      <td>1.311717</td>\n",
       "    </tr>\n",
       "  </tbody>\n",
       "</table>\n",
       "</div>"
      ],
      "text/plain": [
       "                                                 PPG Retailer_Name  log_price  \\\n",
       "0  BRAND A SUBBRAND A.1 ADULT ZAK GROENTE_KIP_RIJ...    Retailer A  -0.852109   \n",
       "1  BRAND A SUBBRAND A.1 ADULT ZAK GROENTE_KIP_RIJ...    Retailer B  -5.057595   \n",
       "2  BRAND A SUBBRAND A.1 ADULT ZAK GROENTE_KIP_RIJ...    Retailer C  -1.630746   \n",
       "3    BRAND A SUBBRAND A.2 ADULT ZAK GRONT_RND 1400_G    Retailer A  -0.302161   \n",
       "4    BRAND A SUBBRAND A.2 ADULT ZAK GRONT_RND 1400_G    Retailer B  -2.076912   \n",
       "\n",
       "   Distribution_wtd  Category_Seasonality  Category_Trend  intercept  \\\n",
       "0          0.123530              0.197584       -6.403994   8.002612   \n",
       "1          0.007523              0.007206        0.015822   9.290431   \n",
       "2          0.075442             -0.033026        0.032400   5.522694   \n",
       "3          0.047439              0.044996       -0.024606   4.752580   \n",
       "4          0.023631              0.086669       -0.062266   6.300813   \n",
       "\n",
       "    RSquared      MAPE  \n",
       "0  95.718866  3.210109  \n",
       "1  83.103341  1.809377  \n",
       "2  85.564247  1.014445  \n",
       "3  90.628859  3.045934  \n",
       "4  96.522362  1.311717  "
      ]
     },
     "execution_count": 17,
     "metadata": {},
     "output_type": "execute_result"
    }
   ],
   "source": [
    "results_combined = pd.merge(results_summary_coeffs,results_summary_score)\n",
    "results_combined = pd.merge(results_combined,results_summary_mape)\n",
    "results_combined.head()"
   ]
  },
  {
   "cell_type": "code",
   "execution_count": 18,
   "metadata": {},
   "outputs": [
    {
     "name": "stdout",
     "output_type": "stream",
     "text": [
      "(465, 9)\n",
      "(343, 9)\n"
     ]
    }
   ],
   "source": [
    "results_combined_orig = results_combined.copy(deep=True)\n",
    "print(results_combined.shape)\n",
    "results_combined = results_combined.loc[(results_combined['log_price']<=0)&(results_combined['log_price']>=-10)]\n",
    "results_combined = results_combined.loc[results_combined['RSquared']<=100]\n",
    "results_combined = results_combined.loc[results_combined['MAPE']<=100]\n",
    "print(results_combined.shape)"
   ]
  },
  {
   "cell_type": "code",
   "execution_count": 19,
   "metadata": {},
   "outputs": [
    {
     "data": {
      "application/vnd.plotly.v1+json": {
       "config": {
        "plotlyServerURL": "https://plot.ly"
       },
       "data": [
        {
         "customdata": [
          [
           "BRAND A SUBBRAND A.1 ADULT ZAK GROENTE_KIP_RIJST 1500_G",
           "Retailer A"
          ],
          [
           "BRAND A SUBBRAND A.1 ADULT ZAK GROENTE_KIP_RIJST 1500_G",
           "Retailer B"
          ],
          [
           "BRAND A SUBBRAND A.1 ADULT ZAK GROENTE_KIP_RIJST 1500_G",
           "Retailer C"
          ],
          [
           "BRAND A SUBBRAND A.2 ADULT ZAK GRONT_RND 1400_G",
           "Retailer A"
          ],
          [
           "BRAND A SUBBRAND A.2 ADULT ZAK GRONT_RND 1400_G",
           "Retailer B"
          ],
          [
           "BRAND A SUBBRAND A.2 ADULT ZAK GRONT_RND 1400_G",
           "Retailer C"
          ],
          [
           "BRAND A SUBBRAND A.3 ADULT ZAK GRANN_RND_TNGRNTN 1500_G",
           "Retailer A"
          ],
          [
           "BRAND A SUBBRAND A.3 ADULT ZAK GRANN_RND_TNGRNTN 1500_G",
           "Retailer B"
          ],
          [
           "BRAND A SUBBRAND A.3 ADULT ZAK GRANN_RND_TNGRNTN 1500_G",
           "Retailer C"
          ],
          [
           "BRAND A SUBBRAND A.4 ADULT POUCH KIP_RND 400_G_4_ST",
           "Retailer A"
          ],
          [
           "BRAND A SUBBRAND A.4 ADULT POUCH KIP_RND 400_G_4_ST",
           "Retailer C"
          ],
          [
           "BRAND A SUBBRAND A.4 ADULT POUCH KLK_LM 400_G_4_ST",
           "Retailer A"
          ],
          [
           "BRAND A SUBBRAND A.4 ADULT POUCH KLK_LM 400_G_4_ST",
           "Retailer C"
          ],
          [
           "BRAND B SUBBRAND B.1 ADULT POUCH RND_RD_KP_WRT_LM 1200_G_12_ST",
           "Retailer A"
          ],
          [
           "BRAND B SUBBRAND B.1 ADULT POUCH RND_RD_KP_WRT_LM 1200_G_12_ST",
           "Retailer B"
          ],
          [
           "BRAND B SUBBRAND B.1 ADULT POUCH RND_WRT_KP_RWT_LM_SPRZBNN 1200_G_12_ST",
           "Retailer B"
          ],
          [
           "BRAND B SUBBRAND B.1 ADULT POUCH RND_WRT_KP_RWT_LM_SPRZBNN 1200_G_12_ST",
           "Retailer C"
          ],
          [
           "BRAND B SUBBRAND B.1 ADULT ZAK GROENTE_KIP 3000_G",
           "Retailer C"
          ],
          [
           "BRAND B SUBBRAND B.2 ADULT ZAK GROENTE_KIP 1500_G",
           "Retailer A"
          ],
          [
           "BRAND B SUBBRAND B.2 ADULT ZAK GROENTE_KIP 1500_G",
           "Retailer C"
          ],
          [
           "BRAND B SUBBRAND B.2 ADULT ZAK RUND 1500_G",
           "Retailer A"
          ],
          [
           "BRAND B SUBBRAND B.2 ADULT ZAK RUND 1500_G",
           "Retailer B"
          ],
          [
           "BRAND B SUBBRAND B.2 ADULT ZAK RUND 1500_G",
           "Retailer C"
          ],
          [
           "BRAND B SUBBRAND B.3 ADULT BLIK KIP_PST_WRTL 400_G",
           "Retailer A"
          ],
          [
           "BRAND B SUBBRAND B.3 SENIOR BLIK GROENTE_KIP 400_G",
           "Retailer A"
          ],
          [
           "BRAND C CATISFACTIONS ADULT ZAK KAAS 60_G",
           "Retailer A"
          ],
          [
           "BRAND C CATISFACTIONS ADULT ZAK KIP 60_G",
           "Retailer A"
          ],
          [
           "BRAND C CATISFACTIONS ADULT ZAK ZALM 60_G",
           "Retailer A"
          ],
          [
           "BRAND D SUBBRAND D.1.1 ADULT PAK GRONT_KP_RND 1000_G",
           "Retailer A"
          ],
          [
           "BRAND D SUBBRAND D.1.1 ADULT PAK GRONT_KP_RND 1000_G",
           "Retailer C"
          ],
          [
           "BRAND D SUBBRAND D.1.2 ADULT PAK GROENTE_KIP 1000_G",
           "Retailer A"
          ],
          [
           "BRAND D SUBBRAND D.1.2 ADULT PAK GROENTE_KIP 1000_G",
           "Retailer C"
          ],
          [
           "BRAND D SUBBRAND D.1.6 ADULT PAK GRONT_ZLM 1000_G",
           "Retailer C"
          ],
          [
           "BRAND D SUBBRAND D.1.6 ADULT PAK ZALM_KLVS_GRNT 1000_G",
           "Retailer A"
          ],
          [
           "BRAND D SUBBRAND D.1.7 SENIOR PAK GROENTE_KIP 1000_G",
           "Retailer A"
          ],
          [
           "BRAND D SUBBRAND D.1.7 SENIOR PAK GROENTE_KIP 1000_G",
           "Retailer C"
          ],
          [
           "BRAND D SUBBRAND D.2 ADULT POUCH KOOLV_ZLM_HR_FR_SR_MK 1200_G_12_ST",
           "Retailer A"
          ],
          [
           "BRAND D SUBBRAND D.2 ADULT POUCH KOOLV_ZLM_HR_FR_SR_MK 1200_G_12_ST",
           "Retailer C"
          ],
          [
           "BRAND D SUBBRAND D.2 ADULT POUCH RND_GV_KP_NR_KLV_ZLM_HR_FR 1200_G_12_ST",
           "Retailer A"
          ],
          [
           "BRAND D SUBBRAND D.2 ADULT POUCH RND_KP_LM_KN 1200_G_12_ST",
           "Retailer A"
          ],
          [
           "BRAND D SUBBRAND D.2 ADULT POUCH RND_KP_LM_KN 1200_G_12_ST",
           "Retailer B"
          ],
          [
           "BRAND D SUBBRAND D.2 ADULT POUCH RND_KP_TN_ZLM 1200_G_12_ST",
           "Retailer A"
          ],
          [
           "BRAND D SUBBRAND D.2 ADULT POUCH RND_KP_TN_ZLM 1200_G_12_ST",
           "Retailer C"
          ],
          [
           "BRAND D SUBBRAND D.2 ADULT POUCH RND_WRT_KP_TM_ZLM_CR_FR_SPR 1200_G_12_ST",
           "Retailer A"
          ],
          [
           "BRAND D SUBBRAND D.2 ADULT POUCH RND_WRT_KP_TM_ZLM_CR_FR_SPR 1200_G_12_ST",
           "Retailer B"
          ],
          [
           "BRAND D SUBBRAND D.2 ADULT POUCH RND_WRT_KP_TM_ZLM_CR_FR_SPR 1200_G_12_ST",
           "Retailer C"
          ],
          [
           "BRAND D SUBBRAND D.2 ADULT POUCH TON_ZLM_KB_SCHL 1200_G_12_ST",
           "Retailer A"
          ],
          [
           "BRAND D SUBBRAND D.2 ADULT POUCH TON_ZLM_KB_SCHL 1200_G_12_ST",
           "Retailer B"
          ],
          [
           "BRAND D SUBBRAND D.2 ADULT POUCH TON_ZLM_KB_SCHL 1200_G_12_ST",
           "Retailer C"
          ],
          [
           "BRAND D SUBBRAND D.2 KITTEN POUCH KIP_RND_TN_ZLM 1200_G_12_ST",
           "Retailer A"
          ],
          [
           "BRAND D SUBBRAND D.2 KITTEN POUCH KIP_RND_TN_ZLM 1200_G_12_ST",
           "Retailer B"
          ],
          [
           "BRAND D SUBBRAND D.2 SENIOR POUCH FOR_TN_SR_ZLM 1200_G_12_ST",
           "Retailer A"
          ],
          [
           "BRAND D SUBBRAND D.2 SENIOR POUCH FOR_TN_SR_ZLM 1200_G_12_ST",
           "Retailer B"
          ],
          [
           "BRAND D SUBBRAND D.2 SENIOR POUCH FOR_TN_SR_ZLM 1200_G_12_ST",
           "Retailer C"
          ],
          [
           "BRAND D SUBBRAND D.2 SENIOR POUCH KIP_RND_TN_ZLM 1200_G_12_ST",
           "Retailer A"
          ],
          [
           "BRAND D SUBBRAND D.2 SENIOR POUCH KIP_RND_TN_ZLM 1200_G_12_ST",
           "Retailer B"
          ],
          [
           "BRAND D SUBBRAND D.2 SENIOR POUCH KIP_RND_TN_ZLM 1200_G_12_ST",
           "Retailer C"
          ],
          [
           "BRAND D SUBBRAND D.3 ADULT BLIK EEND_GVGLT 400_G",
           "Retailer C"
          ],
          [
           "BRAND D SUBBRAND D.3 ADULT BLIK FORL_ZLM 400_G",
           "Retailer C"
          ],
          [
           "BRAND D SUBBRAND D.3 ADULT BLIK KABLJW_SRDN 400_G",
           "Retailer A"
          ],
          [
           "BRAND D SUBBRAND D.3 ADULT BLIK RUND_HRT_GVGLT 400_G",
           "Retailer A"
          ],
          [
           "BRAND D SUBBRAND D.3 ADULT POUCH KAB_TN_SR_ZVS_FR_ZLM_GR_SCHL 1200_G_12_ST",
           "Retailer A"
          ],
          [
           "BRAND D SUBBRAND D.3 ADULT POUCH KAB_TN_SR_ZVS_FR_ZLM_GR_SCHL 1200_G_12_ST",
           "Retailer B"
          ],
          [
           "BRAND D SUBBRAND D.3 ADULT POUCH RND_GV_KP_KLK_KN_LV_ND_LM 1200_G_12_ST",
           "Retailer B"
          ],
          [
           "BRAND D SUBBRAND D.3 ADULT POUCH RND_GV_KP_KLK_KN_LV_ND_LM 1200_G_12_ST",
           "Retailer C"
          ],
          [
           "BRAND D SUBBRAND D.4 SENIOR POUCH KLK_KP_RND_ZLM 1200_G_12_ST",
           "Retailer A"
          ],
          [
           "BRAND D SUBBRAND D.4 SENIOR POUCH KLK_KP_RND_ZLM 1200_G_12_ST",
           "Retailer C"
          ],
          [
           "BRAND D SUBBRAND D.5 ADULT POUCH KAB_TN_SCHL 288_G_6_ST",
           "Retailer A"
          ],
          [
           "BRAND D SUBBRAND D.5 ADULT POUCH KAB_TN_SCHL 288_G_6_ST",
           "Retailer B"
          ],
          [
           "BRAND D SUBBRAND D.5 ADULT POUCH RND_KP_LM 288_G_6_ST",
           "Retailer A"
          ],
          [
           "BRAND D SUBBRAND D.5 ADULT POUCH RND_KP_LM 288_G_6_ST",
           "Retailer B"
          ],
          [
           "BRAND D SUBBRAND D.6 ADULT ZAK FORL_ZLM 45_G",
           "Retailer A"
          ],
          [
           "BRAND D SUBBRAND D.6 ADULT ZAK KP_RND 45_G",
           "Retailer A"
          ],
          [
           "BRAND D SUBBRAND D.7 ADULT ZAK KIP_KS_KLKN 60_G",
           "Retailer A"
          ],
          [
           "BRAND D SUBBRAND D.7 ADULT ZAK KIP_LVR_KLKN 60_G",
           "Retailer A"
          ],
          [
           "BRAND D SUBBRAND D.7 ADULT ZAK MELK_YGHRT_KS 60_G",
           "Retailer A"
          ],
          [
           "BRAND D SUBBRAND D.7 ADULT ZAK ZALM_KLVS_FRL 60_G",
           "Retailer A"
          ],
          [
           "BRAND E SUBBRAND D.2 ADULT ZAK GEVGLT_GRNT_RJST 1500_G",
           "Retailer A"
          ],
          [
           "BRAND E SUBBRAND D.2 ADULT ZAK RUND_WRTL_GRNN 1500_G",
           "Retailer A"
          ],
          [
           "BRAND E SUBBRAND D.2 ADULT ZAK RUND_WRTL_GRNN 1500_G",
           "Retailer C"
          ],
          [
           "BRAND E SUBBRAND D.3 ADULT ZAK GEVGLT_GRNN_GRNT 1000_G",
           "Retailer A"
          ],
          [
           "BRAND F SUBBRAND F.1 ADULT BLIK EEND_KLKN 85_G",
           "Retailer C"
          ],
          [
           "BRAND F SUBBRAND F.1 ADULT BLIK KALKOEN 85_G",
           "Retailer A"
          ],
          [
           "BRAND F SUBBRAND F.1 ADULT BLIK KALKOEN 85_G",
           "Retailer B"
          ],
          [
           "BRAND F SUBBRAND F.1 ADULT BLIK KIP 85_G",
           "Retailer B"
          ],
          [
           "BRAND F SUBBRAND F.1 ADULT BLIK KIP_KN_NR_ZLM 680_G_8_ST",
           "Retailer A"
          ],
          [
           "BRAND F SUBBRAND F.1 ADULT BLIK KIP_KN_NR_ZLM 680_G_8_ST",
           "Retailer B"
          ],
          [
           "BRAND F SUBBRAND F.1 ADULT BLIK KIP_WRTL 85_G",
           "Retailer B"
          ],
          [
           "BRAND F SUBBRAND F.1 ADULT BLIK KIP_ZALM 85_G",
           "Retailer C"
          ],
          [
           "BRAND F SUBBRAND F.1 ADULT BLIK KIP_ZLM_KN_NR 1020_G_12_ST",
           "Retailer A"
          ],
          [
           "BRAND F SUBBRAND F.1 ADULT BLIK KIP_ZLM_KN_NR 1020_G_12_ST",
           "Retailer B"
          ],
          [
           "BRAND F SUBBRAND F.1 ADULT BLIK KIP_ZLM_KN_NR 1020_G_12_ST",
           "Retailer C"
          ],
          [
           "BRAND F SUBBRAND F.1 ADULT BLIK RND_KLK_ND_ZLM_LV_KP 1020_G_12_ST",
           "Retailer A"
          ],
          [
           "BRAND F SUBBRAND F.1 ADULT BLIK RND_KLK_ND_ZLM_LV_KP 1020_G_12_ST",
           "Retailer B"
          ],
          [
           "BRAND F SUBBRAND F.1 ADULT BLIK RND_KLK_ND_ZLM_LV_KP 1020_G_12_ST",
           "Retailer C"
          ],
          [
           "BRAND F SUBBRAND F.1 ADULT BLIK RND_KP_KN_LV_ZVS_SPN_ND_KLK 680_G_8_ST",
           "Retailer A"
          ],
          [
           "BRAND F SUBBRAND F.1 ADULT BLIK RND_KP_KN_LV_ZVS_SPN_ND_KLK 680_G_8_ST",
           "Retailer B"
          ],
          [
           "BRAND F SUBBRAND F.1 ADULT BLIK RND_TM_KP_WRT_KLK_SPN_LM_SPR 680_G_8_ST",
           "Retailer A"
          ],
          [
           "BRAND F SUBBRAND F.1 ADULT BLIK RND_TM_KP_WRT_KLK_SPN_LM_SPR 680_G_8_ST",
           "Retailer B"
          ],
          [
           "BRAND F SUBBRAND F.1 ADULT BLIK RUND 85_G",
           "Retailer A"
          ],
          [
           "BRAND F SUBBRAND F.1 ADULT BLIK RUND 85_G",
           "Retailer B"
          ],
          [
           "BRAND F SUBBRAND F.1 ADULT BLIK RUND_KP_TMT 85_G",
           "Retailer A"
          ],
          [
           "BRAND F SUBBRAND F.1 ADULT BLIK RUND_KP_TMT 85_G",
           "Retailer B"
          ],
          [
           "BRAND F SUBBRAND F.1 ADULT BLIK RUND_KP_TMT 85_G",
           "Retailer C"
          ],
          [
           "BRAND F SUBBRAND F.1 ADULT BLIK TONIJN 85_G",
           "Retailer B"
          ],
          [
           "BRAND F SUBBRAND F.1 ADULT BLIK TON_RND_KLK_LV 680_G_8_ST",
           "Retailer A"
          ],
          [
           "BRAND F SUBBRAND F.1 ADULT BLIK TON_RND_KLK_LV 680_G_8_ST",
           "Retailer B"
          ],
          [
           "BRAND F SUBBRAND F.1 ADULT BLIK ZEEVS_SPNZ 85_G",
           "Retailer B"
          ],
          [
           "BRAND F SUBBRAND F.1 ADULT BLIK ZEEVS_SPNZ 85_G",
           "Retailer C"
          ],
          [
           "BRAND F SUBBRAND F.2 ADULT POUCH EEND_KIP_KLK 300_G_6_ST",
           "Retailer A"
          ],
          [
           "BRAND F SUBBRAND F.2 ADULT POUCH EEND_KIP_KLK 300_G_6_ST",
           "Retailer B"
          ],
          [
           "BRAND F SUBBRAND F.2 ADULT POUCH EEND_KIP_KLK 300_G_6_ST",
           "Retailer C"
          ],
          [
           "BRAND F SUBBRAND F.2 ADULT POUCH RND_KP_KLK_LV_GV_LM 300_G_6_ST",
           "Retailer A"
          ],
          [
           "BRAND F SUBBRAND F.2 ADULT POUCH WLD_LV_RND 300_G_6_ST",
           "Retailer A"
          ],
          [
           "BRAND F SUBBRAND F.3 ADULT BLIK RUND 85_G",
           "Retailer A"
          ],
          [
           "BRAND F SUBBRAND F.3 ADULT BLIK TONIJN 85_G",
           "Retailer A"
          ],
          [
           "BRAND F SUBBRAND F.4 ADULT POUCH GAR_SCHL_TN_WTV_ZLM 340_G_4_ST",
           "Retailer A"
          ],
          [
           "BRAND F SUBBRAND F.4 ADULT POUCH GAR_SCHL_TN_WTV_ZLM 340_G_4_ST",
           "Retailer B"
          ],
          [
           "BRAND F SUBBRAND F.4 ADULT POUCH KIP_KN_RND_ZLM 340_G_4_ST",
           "Retailer A"
          ],
          [
           "BRAND F SUBBRAND F.4 ADULT POUCH KIP_KN_RND_ZLM 340_G_4_ST",
           "Retailer B"
          ],
          [
           "BRAND F SUBBRAND F.4 ADULT POUCH KIP_RND_KLK_LM_KLF_ND_KN_WLD 340_G_4_ST",
           "Retailer A"
          ],
          [
           "BRAND F SUBBRAND F.4 ADULT POUCH KIP_RND_KLK_LM_KLF_ND_KN_WLD 340_G_4_ST",
           "Retailer B"
          ],
          [
           "BRAND F SUBBRAND F.4 ADULT POUCH TON_ZLM 340_G_4_ST",
           "Retailer A"
          ],
          [
           "BRAND F SUBBRAND F.4 ADULT POUCH ZLM_KLV_ZVS_TN_WTV_SR 340_G_4_ST",
           "Retailer A"
          ],
          [
           "BRAND F SUBBRAND F.5 ADULT POUCH GROENTE_KIP 160_G_4_ST",
           "Retailer A"
          ],
          [
           "BRAND F SUBBRAND F.5 ADULT POUCH GROENTE_KIP 160_G_4_ST",
           "Retailer B"
          ],
          [
           "BRAND F SUBBRAND F.5 ADULT POUCH GROENTE_KIP 160_G_4_ST",
           "Retailer C"
          ],
          [
           "BRAND F SUBBRAND F.5 ADULT POUCH TON_GR_NSJVS 160_G_4_ST",
           "Retailer A"
          ],
          [
           "BRAND F SUBBRAND F.5 ADULT POUCH TON_GR_NSJVS 160_G_4_ST",
           "Retailer B"
          ],
          [
           "BRAND F SUBBRAND F.5 ADULT POUCH TON_GR_NSJVS 160_G_4_ST",
           "Retailer C"
          ],
          [
           "BRAND G SUBBRAND D.4 SENIOR ZAK KIP 800_G",
           "Retailer B"
          ],
          [
           "BRAND G SUBBRAND D.4 SENIOR ZAK KIP 800_G",
           "Retailer C"
          ],
          [
           "BRAND G SUBBRAND G.1 ADULT POUCH KIP_SPRZBNN 340_G_4_ST",
           "Retailer A"
          ],
          [
           "BRAND G SUBBRAND G.1 ADULT POUCH KIP_SPRZBNN 340_G_4_ST",
           "Retailer C"
          ],
          [
           "BRAND G SUBBRAND G.1 ADULT ZAK KIP 1500_G",
           "Retailer A"
          ],
          [
           "BRAND G SUBBRAND G.1 ADULT ZAK KIP 1500_G",
           "Retailer B"
          ],
          [
           "BRAND G SUBBRAND G.1 ADULT ZAK KIP 1500_G",
           "Retailer C"
          ],
          [
           "BRAND G SUBBRAND G.1 ADULT ZAK KIP 800_G",
           "Retailer B"
          ],
          [
           "BRAND G SUBBRAND G.1 ADULT ZAK KIP 800_G",
           "Retailer C"
          ],
          [
           "BRAND G SUBBRAND G.1 ADULT ZAK RUND 1500_G",
           "Retailer A"
          ],
          [
           "BRAND G SUBBRAND G.1 ADULT ZAK RUND 1500_G",
           "Retailer B"
          ],
          [
           "BRAND G SUBBRAND G.1 ADULT ZAK RUND 1500_G",
           "Retailer C"
          ],
          [
           "BRAND G SUBBRAND G.1 ADULT ZAK ZALM 1500_G",
           "Retailer A"
          ],
          [
           "BRAND G SUBBRAND G.1 ADULT ZAK ZALM 1500_G",
           "Retailer C"
          ],
          [
           "BRAND G SUBBRAND G.1 ADULT ZAK ZALM 800_G",
           "Retailer B"
          ],
          [
           "BRAND G SUBBRAND G.1 ADULT ZAK ZALM 800_G",
           "Retailer C"
          ],
          [
           "BRAND G SUBBRAND G.2 ADULT ZAK KALKOEN 1500_G",
           "Retailer A"
          ],
          [
           "BRAND G SUBBRAND G.2 ADULT ZAK KALKOEN 800_G",
           "Retailer A"
          ],
          [
           "BRAND G SUBBRAND G.2 ADULT ZAK KALKOEN 800_G",
           "Retailer B"
          ],
          [
           "BRAND G SUBBRAND G.2 ADULT ZAK KALKOEN 800_G",
           "Retailer C"
          ],
          [
           "BRAND G SUBBRAND G.3 KITTEN ZAK KIP 800_G",
           "Retailer A"
          ],
          [
           "BRAND G SUBBRAND G.3 KITTEN ZAK KIP 800_G",
           "Retailer B"
          ],
          [
           "BRAND G SUBBRAND G.3 KITTEN ZAK KIP 800_G",
           "Retailer C"
          ],
          [
           "BRAND G SUBBRAND G.5 SENIOR ZAK KIP 1500_G",
           "Retailer A"
          ],
          [
           "BRAND G SUBBRAND G.5 SENIOR ZAK KIP 1500_G",
           "Retailer C"
          ],
          [
           "BRAND G SUBBRAND G.6 ADULT ZAK KALKN_RJST 1500_G",
           "Retailer A"
          ],
          [
           "BRAND G SUBBRAND G.6 ADULT ZAK KALKOEN 800_G",
           "Retailer B"
          ],
          [
           "BRAND G SUBBRAND G.6 ADULT ZAK KALKOEN 800_G",
           "Retailer C"
          ],
          [
           "BRAND G SUBBRAND G.7 ADULT POUCH ZLM_WRT 340_G_4_ST",
           "Retailer A"
          ],
          [
           "BRAND G SUBBRAND G.7 ADULT POUCH ZLM_WRT 340_G_4_ST",
           "Retailer C"
          ],
          [
           "BRAND G SUBBRAND G.7 ADULT ZAK RUND 800_G",
           "Retailer B"
          ],
          [
           "BRAND G SUBBRAND G.8 ADULT ZAK KIP 800_G",
           "Retailer A"
          ],
          [
           "BRAND G SUBBRAND G.8 ADULT ZAK KIP 800_G",
           "Retailer B"
          ],
          [
           "BRAND G SUBBRAND G.8 ADULT ZAK KIP 800_G",
           "Retailer C"
          ],
          [
           "BRAND H SUBBRAND H.1 ADULT POUCH KIP_GRT_RND_KLK_WRT_LM 1200_G_12_ST",
           "Retailer A"
          ],
          [
           "BRAND H SUBBRAND H.1 ADULT POUCH KIP_GRT_RND_KLK_WRT_LM 1200_G_12_ST",
           "Retailer B"
          ],
          [
           "BRAND H SUBBRAND H.1 ADULT POUCH KIP_GRT_RND_KLK_WRT_LM 1200_G_12_ST",
           "Retailer C"
          ],
          [
           "BRAND H SUBBRAND H.1 ADULT POUCH KIP_LM_GV_RND 1200_G_12_ST",
           "Retailer A"
          ],
          [
           "BRAND H SUBBRAND H.1 ADULT POUCH KIP_LM_GV_RND 1200_G_12_ST",
           "Retailer B"
          ],
          [
           "BRAND H SUBBRAND H.1 ADULT POUCH KIP_LM_GV_RND 1200_G_12_ST",
           "Retailer C"
          ],
          [
           "BRAND H SUBBRAND H.1 ADULT ZAK GROENTE_KIP 1400_G",
           "Retailer A"
          ],
          [
           "BRAND H SUBBRAND H.1 ADULT ZAK GROENTE_KIP 1400_G",
           "Retailer C"
          ],
          [
           "BRAND H SUBBRAND H.1 ADULT ZAK GRONT_LM 3000_G",
           "Retailer A"
          ],
          [
           "BRAND H SUBBRAND H.1 ADULT ZAK GRONT_LM 3000_G",
           "Retailer C"
          ],
          [
           "BRAND H SUBBRAND H.1 ADULT ZAK GRONT_RND 1400_G",
           "Retailer A"
          ],
          [
           "BRAND H SUBBRAND H.1 ADULT ZAK GRONT_RND 1400_G",
           "Retailer C"
          ],
          [
           "BRAND H SUBBRAND H.1 SENIOR POUCH KIP_LM_GV_RND 1200_G_12_ST",
           "Retailer A"
          ],
          [
           "BRAND H SUBBRAND H.1 SENIOR POUCH KIP_LM_GV_RND 1200_G_12_ST",
           "Retailer B"
          ],
          [
           "BRAND H SUBBRAND H.1 SENIOR POUCH KIP_LM_GV_RND 1200_G_12_ST",
           "Retailer C"
          ],
          [
           "BRAND H SUBBRAND H.2 ADULT BLIK GRONT_LM_PST 400_G",
           "Retailer A"
          ],
          [
           "BRAND H SUBBRAND H.2 ADULT BLIK GRONT_LM_PST 400_G",
           "Retailer B"
          ],
          [
           "BRAND H SUBBRAND H.2 ADULT BLIK GRONT_LM_PST 400_G",
           "Retailer C"
          ],
          [
           "BRAND H SUBBRAND H.2 ADULT BLIK RUND 400_G",
           "Retailer A"
          ],
          [
           "BRAND H SUBBRAND H.2 ADULT BLIK RUND 400_G",
           "Retailer C"
          ],
          [
           "BRAND I SUBBRAND G.3 KITTEN ZAK KIP 750_G",
           "Retailer B"
          ],
          [
           "BRAND I SUBBRAND G.3 KITTEN ZAK KIP 750_G",
           "Retailer C"
          ],
          [
           "BRAND I SUBBRAND G.5 SENIOR ZAK KIP 1400_G",
           "Retailer B"
          ],
          [
           "BRAND I SUBBRAND G.5 SENIOR ZAK KIP 1400_G",
           "Retailer C"
          ],
          [
           "BRAND I SUBBRAND G.5 SENIOR ZAK KIP 750_G",
           "Retailer A"
          ],
          [
           "BRAND I SUBBRAND G.5 SENIOR ZAK KIP 750_G",
           "Retailer B"
          ],
          [
           "BRAND I SUBBRAND G.5 SENIOR ZAK KIP 750_G",
           "Retailer C"
          ],
          [
           "BRAND I SUBBRAND I.1 ADULT ZAK RUND 1400_G",
           "Retailer A"
          ],
          [
           "BRAND I SUBBRAND I.1 ADULT ZAK RUND 1400_G",
           "Retailer C"
          ],
          [
           "BRAND I SUBBRAND I.1 ADULT ZAK RUND 750_G",
           "Retailer A"
          ],
          [
           "BRAND I SUBBRAND I.1 ADULT ZAK RUND 750_G",
           "Retailer B"
          ],
          [
           "BRAND I SUBBRAND I.2 ADULT POUCH KIP_RWT_RND_WRT 340_G_4_ST",
           "Retailer A"
          ],
          [
           "BRAND I SUBBRAND I.2 ADULT POUCH KIP_RWT_RND_WRT 340_G_4_ST",
           "Retailer C"
          ],
          [
           "BRAND I SUBBRAND I.2 ADULT ZAK KIP 1400_G",
           "Retailer A"
          ],
          [
           "BRAND I SUBBRAND I.2 ADULT ZAK KIP 1400_G",
           "Retailer C"
          ],
          [
           "BRAND I SUBBRAND I.2 ADULT ZAK ZALM 750_G",
           "Retailer A"
          ],
          [
           "BRAND I SUBBRAND I.2 ADULT ZAK ZALM 750_G",
           "Retailer B"
          ],
          [
           "BRAND I SUBBRAND I.2 ADULT ZAK ZALM 750_G",
           "Retailer C"
          ],
          [
           "BRAND I SUBBRAND I.3 ADULT POUCH KIP_RWT_ZLM_WRT 340_G_4_ST",
           "Retailer A"
          ],
          [
           "BRAND I SUBBRAND I.3 ADULT POUCH KIP_RWT_ZLM_WRT 340_G_4_ST",
           "Retailer C"
          ],
          [
           "BRAND I SUBBRAND I.3 ADULT ZAK KIP 1400_G",
           "Retailer A"
          ],
          [
           "BRAND I SUBBRAND I.3 ADULT ZAK KIP 750_G",
           "Retailer A"
          ],
          [
           "BRAND I SUBBRAND I.3 ADULT ZAK KIP 750_G",
           "Retailer B"
          ],
          [
           "BRAND I SUBBRAND I.3 ADULT ZAK KIP 750_G",
           "Retailer C"
          ],
          [
           "BRAND I SUBBRAND I.6 ADULT POUCH KIP_ZLM 340_G_4_ST",
           "Retailer A"
          ],
          [
           "BRAND I SUBBRAND I.6 ADULT POUCH KIP_ZLM 340_G_4_ST",
           "Retailer C"
          ],
          [
           "BRAND I SUBBRAND I.6 ADULT ZAK KALKOEN 1400_G",
           "Retailer A"
          ],
          [
           "BRAND I SUBBRAND I.6 ADULT ZAK KALKOEN 1400_G",
           "Retailer C"
          ],
          [
           "BRAND I SUBBRAND I.6 ADULT ZAK KALKOEN 750_G",
           "Retailer A"
          ],
          [
           "BRAND I SUBBRAND I.6 ADULT ZAK KALKOEN 750_G",
           "Retailer B"
          ],
          [
           "BRAND J SUBBRAND J.1 ADULT BLIK EEND 400_G",
           "Retailer C"
          ],
          [
           "BRAND J SUBBRAND J.1 ADULT BLIK EEND_GVGLT 405_G",
           "Retailer A"
          ],
          [
           "BRAND J SUBBRAND J.1 ADULT BLIK FORL_ZLM 410_G",
           "Retailer A"
          ],
          [
           "BRAND J SUBBRAND J.1 ADULT BLIK GEVGLT_WLD 410_G",
           "Retailer A"
          ],
          [
           "BRAND J SUBBRAND J.1 ADULT BLIK KABLJW_ZLM 405_G",
           "Retailer C"
          ],
          [
           "BRAND J SUBBRAND J.1 ADULT BLIK KIP 400_G",
           "Retailer A"
          ],
          [
           "BRAND J SUBBRAND J.1 ADULT BLIK KIP_KLKN 410_G",
           "Retailer A"
          ],
          [
           "BRAND J SUBBRAND J.1 ADULT BLIK LEVR_RND 405_G",
           "Retailer A"
          ],
          [
           "BRAND J SUBBRAND J.1 ADULT BLIK LEVR_RND 405_G",
           "Retailer B"
          ],
          [
           "BRAND J SUBBRAND J.1 ADULT BLIK RUND 400_G",
           "Retailer A"
          ],
          [
           "BRAND J SUBBRAND J.1 ADULT BLIK VIS 400_G",
           "Retailer A"
          ],
          [
           "BRAND J SUBBRAND J.1 ADULT BLIK ZALM 400_G",
           "Retailer C"
          ],
          [
           "BRAND J SUBBRAND J.1 ADULT POUCH HRT_RND_WLD_KP_KLK_ND 1200_G_12_ST",
           "Retailer A"
          ],
          [
           "BRAND J SUBBRAND J.1 ADULT POUCH KAB_ZLM_HR_TN_FR_GRN 1200_G_12_ST",
           "Retailer A"
          ],
          [
           "BRAND J SUBBRAND J.1 ADULT POUCH KIP_GRT_RND_WLD_KLK 1200_G_12_ST",
           "Retailer A"
          ],
          [
           "BRAND J SUBBRAND J.1 ADULT POUCH KIP_KN_RND_ZLM 1200_G_12_ST",
           "Retailer A"
          ],
          [
           "BRAND J SUBBRAND J.1 ADULT POUCH KIP_ND_GV_KLK 1200_G_12_ST",
           "Retailer A"
          ],
          [
           "BRAND J SUBBRAND J.1 ADULT POUCH KLK_GV_ND_RWT_KP 1200_G_12_ST",
           "Retailer A"
          ],
          [
           "BRAND J SUBBRAND J.1 ADULT POUCH TON_KB_GR_KLV_ZLM_FR 1200_G_12_ST",
           "Retailer A"
          ],
          [
           "BRAND J SUBBRAND J.1 ADULT POUCH WLD_KP_KLK_RND_KN_ND 1200_G_12_ST",
           "Retailer A"
          ],
          [
           "BRAND J SUBBRAND J.1 ADULT ZAK AARDPPL_KLKN 3000_G",
           "Retailer B"
          ],
          [
           "BRAND J SUBBRAND J.1 ADULT ZAK GROENTE 2000_G",
           "Retailer A"
          ],
          [
           "BRAND J SUBBRAND J.1 ADULT ZAK KALKOEN 800_G",
           "Retailer A"
          ],
          [
           "BRAND J SUBBRAND J.1 ADULT ZAK KALKOEN 800_G",
           "Retailer C"
          ],
          [
           "BRAND J SUBBRAND J.1 ADULT ZAK KIP 800_G",
           "Retailer A"
          ],
          [
           "BRAND J SUBBRAND J.1 ADULT ZAK KIP_MAIS 3000_G",
           "Retailer A"
          ],
          [
           "BRAND J SUBBRAND J.1 ADULT ZAK LAM_RIJST 3000_G",
           "Retailer A"
          ],
          [
           "BRAND J SUBBRAND J.1 ADULT ZAK RUND 2000_G",
           "Retailer A"
          ],
          [
           "BRAND J SUBBRAND J.1 ADULT ZAK RUND 800_G",
           "Retailer A"
          ],
          [
           "BRAND J SUBBRAND J.1 ADULT ZAK RUND 800_G",
           "Retailer B"
          ],
          [
           "BRAND J SUBBRAND J.1 ADULT ZAK ZALM 800_G",
           "Retailer A"
          ],
          [
           "BRAND J SUBBRAND J.1 ADULT ZAK ZALM 800_G",
           "Retailer B"
          ],
          [
           "BRAND J SUBBRAND J.1 KITTEN POUCH EEND_KLK_KN_TN 1200_G_12_ST",
           "Retailer A"
          ],
          [
           "BRAND J SUBBRAND J.1 KITTEN POUCH EEND_KP_KN_ZLM_FR 1200_G_12_ST",
           "Retailer A"
          ],
          [
           "BRAND J SUBBRAND J.1 SENIOR POUCH GEV_KN_LM_WTV 1200_G_12_ST",
           "Retailer A"
          ],
          [
           "BRAND J SUBBRAND J.1 SENIOR POUCH KIP_GV_RND_WLD 1200_G_12_ST",
           "Retailer A"
          ],
          [
           "BRAND J SUBBRAND J.1 SENIOR POUCH LAM_KB_GV_KN 1200_G_12_ST",
           "Retailer A"
          ],
          [
           "BRAND J SUBBRAND J.1 SENIOR ZAK GROENTE 2000_G",
           "Retailer A"
          ],
          [
           "BRAND J SUBBRAND J.1 SENIOR ZAK KIP 800_G",
           "Retailer A"
          ],
          [
           "BRAND J SUBBRAND J.1 SENIOR ZAK KIP 800_G",
           "Retailer B"
          ],
          [
           "BRAND M SUBBRAND M.1 ADULT ALU KIP 85_G",
           "Retailer A"
          ],
          [
           "BRAND M SUBBRAND M.1 ADULT ALU KIP 85_G",
           "Retailer B"
          ],
          [
           "BRAND M SUBBRAND M.1 ADULT ALU ZALM 85_G",
           "Retailer A"
          ],
          [
           "BRAND M SUBBRAND M.1 ADULT POUCH KIP 160_G_4_ST",
           "Retailer A"
          ],
          [
           "BRAND M SUBBRAND M.1 ADULT POUCH KIP 160_G_4_ST",
           "Retailer B"
          ],
          [
           "BRAND M SUBBRAND M.1 ADULT POUCH TONIJN 160_G_4_ST",
           "Retailer A"
          ],
          [
           "BRAND M SUBBRAND M.1 ADULT POUCH TONIJN 160_G_4_ST",
           "Retailer B"
          ],
          [
           "BRAND M SUBBRAND M.1 ADULT POUCH TONIJN 160_G_4_ST",
           "Retailer C"
          ],
          [
           "BRAND M SUBBRAND M.2 ADULT POUCH KIP_GV_KLK 300_G_6_ST",
           "Retailer A"
          ],
          [
           "BRAND M SUBBRAND M.2 ADULT POUCH KIP_GV_KLK 300_G_6_ST",
           "Retailer B"
          ],
          [
           "BRAND M SUBBRAND M.2 ADULT POUCH KIP_RND_ND 300_G_6_ST",
           "Retailer A"
          ],
          [
           "BRAND M SUBBRAND M.2 ADULT POUCH KIP_RND_ND 300_G_6_ST",
           "Retailer B"
          ],
          [
           "BRAND M SUBBRAND M.2 ADULT POUCH KIP_RND_ND 300_G_6_ST",
           "Retailer C"
          ],
          [
           "BRAND M SUBBRAND M.2 ADULT POUCH TON_ZLM_WTV 300_G_6_ST",
           "Retailer A"
          ],
          [
           "BRAND M SUBBRAND M.2 ADULT POUCH TON_ZLM_WTV 300_G_6_ST",
           "Retailer B"
          ],
          [
           "BRAND M SUBBRAND M.2 ADULT POUCH ZLM_TN_KB 300_G_6_ST",
           "Retailer A"
          ],
          [
           "BRAND M SUBBRAND M.2 ADULT POUCH ZLM_TN_KB 300_G_6_ST",
           "Retailer B"
          ],
          [
           "BRAND M SUBBRAND M.2 ADULT POUCH ZLM_TN_KB 300_G_6_ST",
           "Retailer C"
          ],
          [
           "BRAND M SUBBRAND M.3 ADULT ALU KIP 80_G",
           "Retailer A"
          ],
          [
           "BRAND M SUBBRAND M.3 ADULT ALU KIP 80_G",
           "Retailer B"
          ],
          [
           "BRAND M SUBBRAND M.3 ADULT ALU KIP 80_G",
           "Retailer C"
          ],
          [
           "BRAND M SUBBRAND M.3 ADULT ALU TONJN_ZVS 80_G",
           "Retailer A"
          ],
          [
           "BRAND M SUBBRAND M.3 ADULT ALU TONJN_ZVS 80_G",
           "Retailer B"
          ],
          [
           "BRAND M SUBBRAND M.3 ADULT ALU TONJN_ZVS 80_G",
           "Retailer C"
          ],
          [
           "BRAND M SUBBRAND M.3 ADULT ALU ZEECOCKTAIL 80_G",
           "Retailer A"
          ],
          [
           "BRAND M SUBBRAND M.3 ADULT ALU ZEECOCKTAIL 80_G",
           "Retailer B"
          ],
          [
           "BRAND M SUBBRAND M.3 ADULT ALU ZEECOCKTAIL 80_G",
           "Retailer C"
          ],
          [
           "BRAND M SUBBRAND M.4 ADULT ALU KLK_KP_LM 680_G_8_ST",
           "Retailer A"
          ],
          [
           "BRAND M SUBBRAND M.4 ADULT POUCH KAB_TN_ZLM_WTV 1020_G_12_ST",
           "Retailer A"
          ],
          [
           "BRAND M SUBBRAND M.4 ADULT POUCH KAB_TN_ZLM_WTV 1020_G_12_ST",
           "Retailer C"
          ],
          [
           "BRAND M SUBBRAND M.4 ADULT POUCH KAB_TN_ZLM_WTV 340_G_4_ST",
           "Retailer A"
          ],
          [
           "BRAND M SUBBRAND M.4 ADULT POUCH KAB_TN_ZLM_WTV 340_G_4_ST",
           "Retailer B"
          ],
          [
           "BRAND M SUBBRAND M.4 ADULT POUCH KAB_TN_ZLM_WTV 340_G_4_ST",
           "Retailer C"
          ],
          [
           "BRAND M SUBBRAND M.4 ADULT POUCH RND_LM_KP_KLK 340_G_4_ST",
           "Retailer A"
          ],
          [
           "BRAND M SUBBRAND M.4 ADULT POUCH RND_LM_KP_KLK 340_G_4_ST",
           "Retailer B"
          ],
          [
           "BRAND M SUBBRAND M.4 ADULT POUCH RND_LM_KP_KLK 340_G_4_ST",
           "Retailer C"
          ],
          [
           "BRAND M SUBBRAND M.4 ADULT POUCH ZLM_WTV_KP_RND 1020_G_12_ST",
           "Retailer A"
          ],
          [
           "BRAND M SUBBRAND M.4 ADULT POUCH ZLM_WTV_KP_RND 1020_G_12_ST",
           "Retailer C"
          ],
          [
           "BRAND N SUBBRAND N.1 ADULT PAK RUND_ZLM_GRNT 1000_G",
           "Retailer A"
          ],
          [
           "BRAND N SUBBRAND N.1 ADULT PAK RUND_ZLM_GRNT 1000_G",
           "Retailer C"
          ],
          [
           "BRAND O SUBBRAND D.4 SENIOR POUCH GEV_RND_LM_WTV 1200_G_12_ST",
           "Retailer A"
          ],
          [
           "BRAND O SUBBRAND D.4 SENIOR POUCH GEV_RND_LM_WTV 1200_G_12_ST",
           "Retailer B"
          ],
          [
           "BRAND O SUBBRAND D.4 SENIOR POUCH GEV_RND_LM_WTV 1200_G_12_ST",
           "Retailer C"
          ],
          [
           "BRAND O SUBBRAND D.4 SENIOR POUCH KIP_LM_GV_RND 1200_G_12_ST",
           "Retailer A"
          ],
          [
           "BRAND O SUBBRAND D.4 SENIOR POUCH KIP_LM_GV_RND 1200_G_12_ST",
           "Retailer B"
          ],
          [
           "BRAND O SUBBRAND D.4 SENIOR POUCH KIP_LM_GV_RND 1200_G_12_ST",
           "Retailer C"
          ],
          [
           "BRAND O SUBBRAND D.4 SENIOR POUCH KIP_RND_TN_ZLM 1200_G_12_ST",
           "Retailer A"
          ],
          [
           "BRAND O SUBBRAND D.4 SENIOR POUCH KIP_RND_TN_ZLM 1200_G_12_ST",
           "Retailer B"
          ],
          [
           "BRAND O SUBBRAND D.4 SENIOR ZAK KIP 950_G",
           "Retailer A"
          ],
          [
           "BRAND O SUBBRAND D.4 SENIOR ZAK KIP 950_G",
           "Retailer B"
          ],
          [
           "BRAND O SUBBRAND G.3 KITTEN POUCH KIP_KN_RND_LM 1200_G_12_ST",
           "Retailer A"
          ],
          [
           "BRAND O SUBBRAND G.3 KITTEN POUCH KIP_KN_RND_LM 1200_G_12_ST",
           "Retailer B"
          ],
          [
           "BRAND O SUBBRAND G.3 KITTEN ZAK KIP 950_G",
           "Retailer B"
          ],
          [
           "BRAND O SUBBRAND O.3 ADULT BLIK GEVGLT_RND 400_G",
           "Retailer C"
          ],
          [
           "BRAND O SUBBRAND O.3 ADULT BLIK KALKOEN 400_G",
           "Retailer A"
          ],
          [
           "BRAND O SUBBRAND O.3 ADULT BLIK KIP 400_G",
           "Retailer A"
          ],
          [
           "BRAND O SUBBRAND O.3 ADULT BLIK KIP 400_G",
           "Retailer C"
          ],
          [
           "BRAND O SUBBRAND O.3 ADULT BLIK RUND 400_G",
           "Retailer C"
          ],
          [
           "BRAND O SUBBRAND O.3 ADULT BLIK TONIJN 400_G",
           "Retailer A"
          ],
          [
           "BRAND O SUBBRAND O.3 ADULT POUCH KIP_LM_GV_RND 1200_G_12_ST",
           "Retailer A"
          ],
          [
           "BRAND O SUBBRAND O.3 ADULT POUCH KIP_RND_TN_ZLM 1200_G_12_ST",
           "Retailer A"
          ],
          [
           "BRAND O SUBBRAND O.3 ADULT POUCH KIP_RND_TN_ZLM 1200_G_12_ST",
           "Retailer B"
          ],
          [
           "BRAND O SUBBRAND O.3 ADULT POUCH KIP_RND_TN_ZLM 1200_G_12_ST",
           "Retailer C"
          ],
          [
           "BRAND O SUBBRAND O.3 ADULT POUCH KLK_KP_RND_LM 1200_G_12_ST",
           "Retailer A"
          ],
          [
           "BRAND O SUBBRAND O.3 ADULT POUCH KLK_KP_RND_LM 1200_G_12_ST",
           "Retailer B"
          ],
          [
           "BRAND O SUBBRAND O.3 ADULT POUCH KLK_KP_RND_LM 1200_G_12_ST",
           "Retailer C"
          ],
          [
           "BRAND O SUBBRAND O.3 ADULT POUCH ZLM_TN_KLV_WTV 1200_G_12_ST",
           "Retailer A"
          ],
          [
           "BRAND O SUBBRAND O.3 ADULT POUCH ZLM_TN_KLV_WTV 1200_G_12_ST",
           "Retailer B"
          ],
          [
           "BRAND O SUBBRAND O.3 ADULT POUCH ZLM_TN_KLV_WTV 1200_G_12_ST",
           "Retailer C"
          ],
          [
           "BRAND O SUBBRAND O.3 ADULT ZAK KIP 950_G",
           "Retailer A"
          ],
          [
           "BRAND O SUBBRAND O.3 ADULT ZAK KIP 950_G",
           "Retailer B"
          ],
          [
           "BRAND O SUBBRAND O.3 ADULT ZAK RUND 950_G",
           "Retailer A"
          ],
          [
           "BRAND O SUBBRAND O.3 ADULT ZAK RUND 950_G",
           "Retailer B"
          ],
          [
           "BRAND O SUBBRAND O.3 ADULT ZAK TONIJN 950_G",
           "Retailer A"
          ],
          [
           "BRAND O SUBBRAND O.3 ADULT ZAK TONIJN 950_G",
           "Retailer B"
          ],
          [
           "BRAND O SUBBRAND O.4 ADULT POUCH KIP_LM_GV_RND 1020_G_12_ST",
           "Retailer A"
          ],
          [
           "BRAND O SUBBRAND O.4 ADULT POUCH KIP_LM_GV_RND 1020_G_12_ST",
           "Retailer B"
          ],
          [
           "BRAND O SUBBRAND O.4 ADULT POUCH KIP_ZLM_RND_TN 1020_G_12_ST",
           "Retailer A"
          ],
          [
           "BRAND O SUBBRAND O.4 ADULT POUCH KIP_ZLM_RND_TN 1020_G_12_ST",
           "Retailer C"
          ],
          [
           "BRAND O SUBBRAND O.4 KITTEN POUCH ZLM_TN_KLV_WTV 1020_G_12_ST",
           "Retailer A"
          ],
          [
           "BRAND O SUBBRAND O.4 SENIOR POUCH KIP_LM_GV_RND 1020_G_12_ST",
           "Retailer A"
          ],
          [
           "BRAND O SUBBRAND O.4 SENIOR POUCH KIP_LM_GV_RND 1020_G_12_ST",
           "Retailer B"
          ],
          [
           "BRAND O SUBBRAND O.4 SENIOR POUCH KIP_LM_GV_RND 1020_G_12_ST",
           "Retailer C"
          ],
          [
           "BRAND O SUBBRAND O.5 ADULT BAK VLEES 60_G",
           "Retailer B"
          ],
          [
           "BRAND O SUBBRAND O.6 ADULT BAK KAAS_KIP 60_G",
           "Retailer A"
          ],
          [
           "BRAND O SUBBRAND O.6 ADULT BAK RUND 60_G",
           "Retailer A"
          ],
          [
           "BRAND O SUBBRAND O.6 ADULT BAK RUND 60_G",
           "Retailer C"
          ],
          [
           "BRAND O SUBBRAND O.6 ADULT BAK ZALM 60_G",
           "Retailer A"
          ],
          [
           "BRAND O SUBBRAND O.6 ADULT BAK ZALM 60_G",
           "Retailer B"
          ]
         ],
         "hovertemplate": "MAPE=%{x}<br>RSquared=%{y}<br>PPG=%{customdata[0]}<br>Retailer_Name=%{customdata[1]}<br>log_price=%{marker.color}<extra></extra>",
         "legendgroup": "",
         "marker": {
          "color": [
           -0.8521088509039018,
           -5.0575948405656845,
           -1.6307457652502397,
           -0.30216141943069785,
           -2.076912268408185,
           -1.6147855105865192,
           -1.683670877840875,
           -1.7279790785956464,
           -0.7697545794315843,
           -2.3318886490368698,
           -1.6655972184689207,
           -8.019858174553665,
           -0.8865355354508597,
           -1.4833014624231673,
           -3.207504704788113,
           -2.2317265078479025,
           -8.62068800654518,
           -0.9294763119931471,
           -0.4513103096767969,
           -1.0119319271150216,
           -1.290748921821672,
           -1.2885537121913155,
           -1.8604961048346123,
           -0.5188791142062604,
           -1.2229074799285666,
           -1.2033543199644092,
           -1.4084294576127867,
           -0.718817339256212,
           -0.9311217199401236,
           -0.7622500377261273,
           -0.4550416458951991,
           -2.83401613330605,
           -1.1150487743102828,
           -5.6024538812352125,
           -1.8191433729466637,
           -1.5014576049777881,
           -5.399791406160218,
           -0.4313863210320399,
           -2.6221449690625622,
           -1.210413877896175,
           -1.7118853891986723,
           -1.5257997746744243,
           -1.928627475589879,
           -1.9021905110810091,
           -1.8717609573636749,
           -0.13130791146611576,
           -2.54886419035651,
           -1.4841955307503332,
           -1.184142297240095,
           -2.1123587848268404,
           -1.959669737590121,
           -0.762975122566198,
           -0.9652533738985198,
           -1.4256767560020807,
           -0.4734790117681311,
           -1.9029956552919711,
           -0.9665497338002496,
           -8.12176339988146,
           -3.408349160658291,
           -0.9757149770430242,
           -1.938017902597224,
           -0.7921416856421246,
           -2.403316743490476,
           -2.180970631782065,
           -0.7389968543663628,
           -0.44299865719038234,
           -1.7274723748675915,
           -2.097141610912796,
           -4.154245259484072,
           -2.309870036506793,
           -4.986004950909473,
           -0.8893807434226684,
           -1.8984647215975967,
           -1.6450675620778197,
           -1.7167450505197444,
           -1.6730995616796271,
           -2.21574497551765,
           -1.4536220474759087,
           -0.40546197381110005,
           -0.1699748345873111,
           -0.957943220509257,
           -1.0534598824102206,
           -0.21581735777590208,
           -0.7055577164786726,
           -2.846999064367032,
           -1.2168065893599052,
           -1.9600504744648823,
           -2.6477931568015105,
           -1.0365096718846292,
           -0.6848333659644847,
           -0.24018703318097406,
           -1.9087033035891552,
           -0.28170133528592617,
           -2.572803302383395,
           -1.182326691748504,
           -2.196150198398449,
           -4.029593866469877,
           -0.7442139881959022,
           -4.198637058322404,
           -0.2542165943498178,
           -2.263944495514373,
           -0.6817820149358891,
           -2.9807838636510233,
           -0.43456991926727917,
           -2.847197212070283,
           -1.1738525017463028,
           -2.735383567962312,
           -2.9032504490950837,
           -0.7552205268217373,
           -0.7734969185263,
           -5.543341809568293,
           -2.0542425657116365,
           -0.9848106478568444,
           -0.2633490983078506,
           -2.0274195504305585,
           -1.888508490286617,
           -1.5962180539148123,
           -4.019876070217339,
           -0.4181301959463903,
           -3.290283905934892,
           -1.3984923716959645,
           -2.016381028212372,
           -1.9221276321136644,
           -2.332662294611765,
           -0.15118044058905325,
           -7.798559970726541,
           -3.9582913440851164,
           -2.279615915438358,
           -6.314688374428348,
           -0.21426349292774205,
           -2.1747855843316564,
           -0.5885547194284488,
           -2.5692729077697773,
           -5.971388053015198,
           -1.918606789211968,
           -1.196303694722303,
           -0.10674306563498719,
           -2.5977024048958737,
           -2.208485951691034,
           -1.6421430925199747,
           -8.285547754202604,
           -1.0907437131612057,
           -1.020110255137654,
           -0.0024055750271702596,
           -2.4520643515483114,
           -1.4891340859930018,
           -2.7605319299934696,
           -0.12629895842616282,
           -2.5239283846904197,
           -1.8055137332460176,
           -1.5999858022442375,
           -2.421929628143536,
           -9.366141769291561,
           -0.7098447315155069,
           -0.7833300584820752,
           -2.885879390702572,
           -2.645077028826865,
           -2.0766606816444835,
           -2.2755498684196382,
           -2.129487181966895,
           -3.2381022776537955,
           -0.42170666282973407,
           -2.855864100635971,
           -0.7403776652755073,
           -1.0687238324939186,
           -3.655611843284787,
           -2.4218605176714076,
           -0.9946229921556047,
           -1.1525458503626917,
           -0.7520671150854533,
           -2.127804736399977,
           -1.1941812822136906,
           -1.1779864555094024,
           -0.19686695895682207,
           -2.25054343399296,
           -0.2198918793829846,
           -1.0028567587345227,
           -1.010896259937831,
           -1.2613851855372076,
           -0.49940195225243145,
           -0.3609096551513306,
           -0.1979444904163809,
           -0.5185009341654311,
           -0.7117808656466633,
           -3.1804098944390344,
           -0.7611610578010847,
           -0.9097231834040713,
           -1.364127455501942,
           -1.5933639687252714,
           -3.2091358847988873,
           -0.3172611945092423,
           -2.1220717374128326,
           -1.5840922257239143,
           -1.985625300460684,
           -1.4937980160642914,
           -1.5507682496408528,
           -0.9263022164066577,
           -2.3155935197777255,
           -0.3120668368650996,
           -1.1285097055383144,
           -2.7373327035212474,
           -1.2870753910332917,
           -1.5947662096827437,
           -0.3529573117017617,
           -1.5902897946606032,
           -0.490684101924573,
           -2.6610422161751273,
           -0.9637533986650584,
           -1.642389814560178,
           -2.0165855512029545,
           -2.3838389602372514,
           -1.0642396133730492,
           -0.9002525297295085,
           -2.831621507655366,
           -2.954160804950982,
           -1.359805884837519,
           -0.6380349173431422,
           -0.5322223061944771,
           -2.2875505779306593,
           -1.4808429829217227,
           -0.3299536163936288,
           -0.944058337538021,
           -0.032911884443171495,
           -1.2614648062240672,
           -3.0198118197966157,
           -0.18337940285511772,
           -2.2429800930003747,
           -2.553950159757128,
           -1.8392369072647567,
           -1.29617766567951,
           -0.9118148750961933,
           -1.5463068839381187,
           -1.5879822137500395,
           -1.474384197649338,
           -2.683969148844511,
           -0.41228153373441023,
           -1.2048537695927828,
           -4.974970241280962,
           -1.9491439195065634,
           -0.613501005930298,
           -0.9261626690528445,
           -1.286422578244179,
           -1.8654721719701057,
           -1.3438744575689858,
           -1.7186686607666974,
           -3.97769564140691,
           -1.4229195920760118,
           -0.46630638695232207,
           -2.755069873653334,
           -0.9838588327738848,
           -1.2441480836223775,
           -0.2753012232477328,
           -2.2201614296440626,
           -1.6129546940403625,
           -1.7618524942381415,
           -0.5837959600513685,
           -1.2826230378274586,
           -1.6853662166492882,
           -1.5144158614376928,
           -1.0914329670902987,
           -0.796605508650492,
           -0.28026499164900714,
           -1.0496013159558124,
           -1.2959411301513752,
           -1.5024113556597842,
           -2.3976453188970965,
           -0.4428839317011969,
           -1.2151003866126961,
           -1.323738159112683,
           -1.4217124305711515,
           -2.3806688072893616,
           -1.2270877127808866,
           -0.5492603316541872,
           -1.3692631497929686,
           -0.3290450498956203,
           -0.36946456288022855,
           -1.6743147939130154,
           -1.5436827242432618,
           -1.107620897177058,
           -1.8421509439736918,
           -0.817698340916898,
           -1.8893701955176452,
           -1.4523016561650088,
           -1.1669268782374465,
           -1.049600863660924,
           -0.04880739792515498,
           -2.555368582175002,
           -1.2544254209556154,
           -2.339423556264106,
           -0.013693530629000139,
           -1.4655507349558041,
           -0.5467184068635037,
           -4.636472875134591,
           -3.6357609734126446,
           -1.3888553379400537,
           -2.921433025501818,
           -0.4600643098846855,
           -0.5265171548045311,
           -0.6742402119341668,
           -1.378068856667773,
           -0.23054487521061096,
           -8.230924050563084,
           -2.454151113248114,
           -2.2911094438962842,
           -0.5592287296601002,
           -3.6961424170989745,
           -2.868365312089524,
           -1.3308576621699757,
           -0.08837330194901223,
           -0.4747310159276345,
           -0.709892232429852,
           -7.085817833226955,
           -0.0309508739031763,
           -0.2544486621140611,
           -2.3685082322456563,
           -1.8429422052161233,
           -4.12266447051371,
           -1.1658164581021404,
           -0.4642273900771578,
           -0.44225244130529245,
           -1.85956436878701,
           -0.6126811084928204,
           -0.45817633107591016,
           -2.4309960610013928,
           -2.625158897421854,
           -3.9316388950060883,
           -2.7305636205113046,
           -1.516100595830224,
           -2.2237364483909468,
           -1.0404953823634182,
           -1.4180112264614735,
           -0.7272534000308302,
           -0.2710862412763949,
           -1.677903114694212,
           -2.3501680224904584,
           -1.1460526217868114,
           -0.34112765521609806,
           -3.2313895259892003,
           -0.7287903998612487,
           -1.1411173426080132,
           -0.041140258622913047,
           -0.9249099112527777,
           -4.5441434768202225
          ],
          "coloraxis": "coloraxis",
          "symbol": "circle"
         },
         "mode": "markers",
         "name": "",
         "orientation": "v",
         "showlegend": false,
         "type": "scatter",
         "x": [
          3.2101092334051993,
          1.8093769367137944,
          1.0144447844814368,
          3.045934423669383,
          1.3117169887379985,
          0.5831693746472368,
          8.431405294210733e-14,
          0.5190088280344932,
          1.0826566457986833,
          1.8026197553374816,
          0.6492942449399149,
          1.7816856225087163,
          7.840361360613496e-13,
          0.9618904727695178,
          1.3834886147299577,
          1.2463244637046733,
          0.49492847124992045,
          0.7381990095492128,
          0.6024581323731187,
          0.5959029485615552,
          0.8873219718670986,
          0.47100983128452784,
          0.6051427934741226,
          1.2857817255090787,
          3.998668852369268,
          1.9598999270842348,
          1.2410572570363878,
          1.2105656948253112,
          1.0555714803959342,
          0.6435852878525871,
          0.9322187470568187,
          0.8906272469628292,
          0.7182321940557427,
          0.7957992694154447,
          1.0973757659888996,
          0.5949934550626758,
          2.1419563887547572,
          0.45739523241031965,
          3.974542819666334,
          1.681295387714063,
          1.564930508750922,
          3.9124777776037942,
          1.1820684032909765,
          2.6165239712120925,
          1.5456850362152508,
          2.5069277817263984,
          1.6480423861700038,
          1.8403251959815865,
          1.2994017201017471,
          4.239620551224139,
          1.4524216002023578,
          1.1386047484963209,
          1.4945493913954486,
          0.23054087476016152,
          1.8478165385844472,
          1.1830221672106485,
          0.9163679986161805,
          0.8118694571631028,
          0.2911490847663563,
          3.7308219871425896e-14,
          0.7158203113351431,
          1.6387431092443525,
          2.0690623070463547,
          1.1144162725507745,
          0.3781597774175368,
          3.510871518583151,
          0.35093055258763767,
          1.4766713992243148,
          1.282240740520925,
          2.1370972821788405,
          1.1004775633126926,
          2.564790125451638,
          1.4576670176372013,
          3.017012241479946,
          1.2304371644122478,
          5.587240089667229,
          1.3524789121409517,
          1.9673704978179705,
          0.39140465992042583,
          0.46979591415889027,
          0.4905984640737257,
          1.6700128051210579,
          0.6838821584176631,
          1.82382526042067,
          0.9371678972049017,
          1.2920170258558379,
          1.3342023032148564,
          2.0340932727739376,
          0.7656289897709415,
          0.941577421664882,
          0.4099599353764456,
          1.0314192196082188,
          0.8019319557170626,
          0.15105164772292506,
          0.5984506726846484,
          0.7775729553398528,
          1.1201822595900912,
          1.1434369608520576,
          1.1481249735952304,
          1.5258532091058032,
          2.0574834032962515,
          0.9772609409981793,
          1.4134752107418678,
          0.931549734976133,
          1.8648564752249253,
          1.2672733699741068,
          0.5105336433253732,
          1.5093516814370285,
          0.7766575806703283,
          0.7191996377764055,
          3.013383167465144,
          0.43779817285676925,
          0.6218532217894895,
          4.170941997591212,
          0.6931630361661407,
          0.8320716032455439,
          2.1387727034228776,
          1.4021032693326474,
          0.8315245907899979,
          1.59446524032785,
          1.6420213607787546,
          1.6331766221902861,
          1.6586501686725652,
          0.6733995473991967,
          0.729081667634054,
          2.1593309150549422,
          0.6270477138542977,
          1.0166264219939938,
          2.2638605544956376,
          2.0356879092773515e-13,
          1.8230959829591862,
          1.0555286627630234,
          1.0863538212539288,
          0.7703965825790976,
          0.6009766160016423,
          5.334487772271808e-13,
          0.5228895183367446,
          2.791047128156302,
          1.8239515157550041,
          0.8247838227765998,
          0.953265423355008,
          0.27313190446785174,
          0.45560855195205185,
          0.45382880041968066,
          2.1073996237498327,
          0.7824670740788952,
          0.14862900871805085,
          3.413765573169286,
          2.573926031141924,
          1.1031304676727085,
          1.239060894232657,
          2.2775597438844652,
          1.1309613868178712,
          0.4187378588588873,
          0.3023176586812717,
          0.6277155162406457,
          1.5282211788605038,
          0.7166750115098206,
          1.6313606418596076,
          0.5158649374225165,
          1.7538620178974142,
          3.45170183713122,
          1.8199268565637285,
          0.6759506570218319,
          0.4590264393504709,
          2.022014668268179,
          1.194416578523199,
          0.811146541972493,
          1.265426712594908,
          0.8988234681885378,
          0.4722102113434996,
          0.5302052743226631,
          0.6082959635779889,
          0.43333214542654386,
          1.016721406710881,
          0.5982944091989378,
          3.6643704473679914,
          1.441152924177766,
          1.2760217322966827,
          0.4289944927421215,
          5.6548814385664045e-14,
          0.6091886985909933,
          0.3305837738774531,
          0.3991568568181708,
          5.052190920909161,
          0.7396366366423568,
          1.3480170148908925,
          0.9386004428711131,
          0.822787390321721,
          2.062061803322499,
          1.2764733557796044,
          4.125187716510846,
          0.6625547678885557,
          2.1672727206778557,
          1.9644239060745472,
          2.924262976070186,
          0.5226850626377921,
          2.3564456933120703,
          0.5417850420594365,
          0.8305732790699748,
          2.6172719334765477,
          0.6581317279284987,
          3.189054303661451,
          1.6998493066457054,
          3.06105508772419,
          0.6714724740462649,
          1.8286862892696272,
          0.4236289303993273,
          5.851432919745534,
          3.6444559264469794,
          2.886514986346002,
          0.653706691463223,
          1.6274612042939722,
          3.7375735855527124,
          0.5435027036468492,
          1.9773455631710062,
          1.0882178075561448,
          0.8553313858240131,
          0.8252101515853378,
          1.019399614768371,
          0.8776334840428194,
          0.6885324923653833,
          7.547013315161938e-14,
          0.8106859150018593,
          0.7676998602923751,
          0.514822556200969,
          0.9553657010162231,
          1.3781991452362012,
          0.5971174321961796,
          1.0806316477182711,
          0.5898869041202406,
          3.0897836532444654,
          0.7467136427727918,
          0.6217114085046305,
          1.340986499435209,
          0.5591247403472382,
          0.8900210344014019,
          6.300097622689763,
          0.8916204111305842,
          0.5228148495481554,
          0.3764609100253527,
          0.5405464761898816,
          0.8108081806592945,
          1.4698764107031508,
          0.7940803272566953,
          1.3623648776008144,
          1.977500930302527,
          0.6438021605868401,
          2.385361754515094,
          0.5939722350067295,
          0.48773694683747826,
          1.9299962093222058,
          0.7418699285940588,
          1.4560304000302229,
          0.8336304002721358,
          2.331611060740502,
          0.7656088272056711,
          0.9360213764294368,
          1.636884682580969,
          1.4089444830485618,
          2.669102806185058,
          0.3967450231470036,
          1.7175392311494526,
          2.427773809134216,
          1.2025436063232027,
          2.3438119552192394,
          0.7127853995768396,
          1.447190096742122,
          1.654518764786684,
          0.9520933041939423,
          2.772106833238816,
          0.8067373629623164,
          1.136011245049139,
          2.6915095883918614,
          0.38187625231891736,
          0.744209851724075,
          2.799110332878982,
          0.4840655973861708,
          1.0433058180242656,
          2.4908094074852833,
          0.37596634505464666,
          0.9722128469870485,
          1.5805214609160745,
          3.5364091291123576,
          0.9419143079710044,
          2.9620853954848725,
          4.3836968894205155,
          0.7905727087968865,
          1.7722855216678581,
          0.47571412297731686,
          2.1981512474022504,
          0.731455211363635,
          2.247561327527427,
          0.9091345037797923,
          1.5824636972195592,
          3.1473462424969325,
          0.7240732370176084,
          1.110394094186822,
          1.434866895918653,
          0.4191104987834036,
          1.5240090654756488,
          0.7949893315284626,
          0.9839190819494364,
          2.2068205258521316,
          1.1697814668425779,
          3.750521268658101,
          2.048491460990283,
          1.4657571471423498,
          0.9922923784262213,
          0.41030656410754746,
          0.534694802020605,
          1.550799406942839,
          0.6564472399542396,
          4.74339994102377,
          3.390589669272811,
          1.0250135642010574,
          0.9896960900940224,
          1.1190415282211854,
          1.9533911602513505,
          0.6214558838968591,
          1.6679817113023965,
          1.7558729105865782,
          0.45440731591914924,
          0.5444386125796811,
          1.690154084802728,
          0.8132459629119851,
          1.7758739709776643,
          0.6594588042778999,
          1.2187229769716694,
          1.776549034320797,
          3.0766289056124534,
          1.4443776485686257,
          0.7053924198088535,
          0.6056633223000074,
          1.5468304819659142,
          1.616588204456695,
          0.5394701513491515,
          4.580794392543562,
          0.9071657571219771,
          1.0347174206866305,
          0.6207155256181623,
          1.5422816334690306,
          4.081971170802757
         ],
         "xaxis": "x",
         "y": [
          95.71886603127922,
          83.10334142084682,
          85.56424718176159,
          90.62885890612583,
          96.52236161860473,
          75.06892419482436,
          100,
          99.04013565575,
          79.95824250033009,
          94.63610036614054,
          95.19107759201086,
          90.28084103761127,
          100,
          92.68329679704387,
          93.88410040795914,
          93.26250418997282,
          75.3210089724357,
          72.08404238058775,
          98.77393634738984,
          82.12879129148224,
          83.89729028468105,
          96.39620820723843,
          79.97140948082775,
          88.82924899212685,
          88.19087378371997,
          82.9520244795384,
          73.23338512320714,
          45.164048611158194,
          29.44206271625579,
          26.763122387910265,
          82.71428513341732,
          57.76523386911817,
          75.33184479832515,
          99.91097103741836,
          52.974677023302675,
          80.6683210399906,
          98.89589098461074,
          97.20442044926685,
          92.92435271650378,
          95.26265748302835,
          97.87302451167791,
          78.73420588974689,
          47.98148005247871,
          88.15346250280811,
          95.45947093572768,
          89.19891315831865,
          93.05560156461098,
          96.62081226008402,
          84.9891164700078,
          72.35406604719313,
          94.92344877485684,
          89.00296915946123,
          99.06977779788913,
          99.62480320365397,
          88.35937393736415,
          96.57858342134493,
          83.27884780663759,
          99.5747716968448,
          97.79112300450593,
          100,
          97.97572103889075,
          90.80624087216184,
          97.0268186734909,
          92.58999388380794,
          98.83039490262834,
          91.06978424912474,
          87.56447625043057,
          88.62488950263294,
          92.92674605117224,
          83.2723334833613,
          94.43981497602589,
          81.52037928357238,
          91.8052295237601,
          82.48886764926101,
          83.73576424494847,
          97.16438696170164,
          92.39268497984816,
          95.09957410245879,
          73.38879675056724,
          73.15171212829787,
          88.5988913831487,
          79.67269677696987,
          12.578354092041488,
          99.78349444801275,
          96.3962120478602,
          95.77220295879845,
          95.35160144555961,
          87.04932927142158,
          76.10758595222538,
          86.85503494207897,
          97.40396430636893,
          79.77016822370614,
          80.14198210423179,
          99.9152481276934,
          68.17126929283101,
          80.70012524569188,
          94.16889912994242,
          97.91230133726644,
          97.60997777971797,
          17.33974134249756,
          84.07630294178159,
          60.05464220318948,
          93.43720355297155,
          20.086793861312035,
          90.48333546044856,
          79.48145580577608,
          97.26180653107012,
          91.61599804413338,
          87.84474367326271,
          88.44529064675888,
          31.608176776396334,
          58.783459911649,
          93.83544127679147,
          84.46123813523782,
          97.17523072718393,
          80.79190085101803,
          98.21934266989969,
          95.57812584744889,
          92.67339389449106,
          79.82534775216877,
          94.6253276000171,
          76.06630680704414,
          95.66636543381036,
          90.0804204918122,
          96.49451762594492,
          92.85789363859507,
          84.76289835302718,
          86.32741040577594,
          88.55540340077934,
          100,
          95.61273627869109,
          81.58530328298681,
          84.92183654222178,
          91.4422346085904,
          96.1581302842744,
          100,
          92.20490340603828,
          94.7086146181264,
          95.01445869342257,
          97.11131560411654,
          93.06024433772674,
          88.9292789699211,
          88.7159283823843,
          83.93259370456478,
          93.90784877827295,
          99.04506207894754,
          99.63035002893123,
          88.35593556742522,
          94.89744406643824,
          98.50365944375797,
          97.55931815510804,
          86.14446727539283,
          77.29400307851613,
          93.45467020690585,
          94.89482131203685,
          98.89313414798546,
          91.26920067441048,
          55.15659623264578,
          97.76262152086284,
          82.74118504954752,
          94.82439280882373,
          93.77058454913345,
          89.93835067185255,
          72.30540109254522,
          89.36756181588822,
          85.8100855234217,
          98.85193238255209,
          92.54032012043768,
          84.36132121411508,
          97.26717216488453,
          98.91721630793404,
          73.55357742805215,
          96.97270845877611,
          88.0874465108752,
          83.40985365477714,
          84.33903131438564,
          88.20456475726628,
          78.87044998831368,
          97.33605716700312,
          68.97639780537726,
          100,
          89.60330359864892,
          89.04282984355874,
          88.04773605685945,
          86.50327796323714,
          93.71948807348647,
          96.16367665136038,
          99.05306045192067,
          73.38424742744441,
          95.11722815393465,
          87.01221003900474,
          97.54946092028823,
          95.56972660984397,
          95.1541554853152,
          93.8158433326298,
          72.17606200505303,
          99.73186485259204,
          93.79051919708701,
          94.22929380634332,
          85.09420483338556,
          92.32164745439279,
          94.94201033491531,
          97.37811441942686,
          97.96324943636844,
          61.16722237355021,
          81.74733388941935,
          87.61619086629477,
          88.11211380847361,
          81.51773193529881,
          88.73094309805978,
          63.423664588516445,
          85.85174244267412,
          93.5310377255486,
          84.4251429090155,
          79.17515131191209,
          93.35114873142763,
          98.43064788954042,
          69.76045273724291,
          86.64335435677305,
          87.26505924922917,
          38.375655935470995,
          55.017384658629375,
          100,
          92.10955062739741,
          89.55859679654795,
          23.832179037199097,
          95.0997443656882,
          95.51594695743572,
          94.48440765453698,
          86.38185194702963,
          95.2279275589389,
          94.12684414249112,
          95.93228714625504,
          95.69496275785941,
          86.7983613398138,
          86.91629669148244,
          98.30961530345016,
          85.70444123121315,
          84.59972494549235,
          90.77291839387868,
          88.24057023646796,
          79.52416556772516,
          77.72415763849571,
          87.63542032555837,
          87.7239054785492,
          84.92179484636746,
          94.72875059569785,
          85.56984508617815,
          94.1802639943083,
          92.85053436106372,
          80.90921657725565,
          94.31188586529503,
          79.31066117910981,
          67.59658642035895,
          94.51991533330933,
          65.02993639959985,
          95.95598900597359,
          92.5884587950648,
          91.0719790241217,
          90.42363018656971,
          76.07464918382234,
          97.7056342129495,
          91.78866679385742,
          77.53341093897713,
          93.7362404614153,
          95.54226467970781,
          73.1761847541762,
          98.12008323484082,
          90.87584172573312,
          93.84673916385633,
          85.08592327651927,
          67.02456350476915,
          95.67732373416811,
          95.44039135004684,
          90.58414536789695,
          97.48832733255907,
          93.70571329452963,
          67.6399509169255,
          83.46136157851743,
          88.51405916351345,
          72.74995693981192,
          91.58407259038535,
          80.31753418395364,
          88.15044522737232,
          78.47763988543893,
          98.24028316985991,
          94.26695616370137,
          87.78008393170728,
          99.2766533827054,
          84.46757205095065,
          92.28857743338402,
          96.98241814142462,
          98.97820892295927,
          91.75784469824004,
          85.52350709461759,
          74.45484777127571,
          88.34863184138712,
          69.71478369182162,
          87.97125494504292,
          75.77520277183413,
          90.16517758128599,
          80.3824433799876,
          73.46665451506955,
          93.46050542039109,
          84.98680599080586,
          66.51184166931807,
          96.75264447620316,
          87.59041377267938,
          95.80524813522301,
          54.54650740609856,
          43.43054269779068,
          97.97651543493167,
          92.09641741674709,
          95.20346771976705,
          61.219166048508875,
          96.59055468144683,
          91.45011318548228,
          72.49595572899895,
          83.04618495480149,
          77.6824509987301,
          77.31911491716393,
          80.75235615073898,
          41.85403791160552,
          96.35741360507949,
          96.38953478873732,
          57.414072578231526,
          91.66087921992542,
          73.62455269997909,
          96.92959582814335,
          90.85886407531501,
          83.9374439055369,
          92.02197012110751,
          89.7165144662559,
          96.98797513609901,
          76.92573551299733,
          96.0858001846131,
          94.5126308609658,
          95.18481485240625,
          85.32309173471909,
          65.90479536176241,
          69.992405956613,
          97.08261475467208,
          63.91468580276296
         ],
         "yaxis": "y"
        }
       ],
       "layout": {
        "coloraxis": {
         "colorbar": {
          "title": {
           "text": "log_price"
          }
         },
         "colorscale": [
          [
           0,
           "#0d0887"
          ],
          [
           0.1111111111111111,
           "#46039f"
          ],
          [
           0.2222222222222222,
           "#7201a8"
          ],
          [
           0.3333333333333333,
           "#9c179e"
          ],
          [
           0.4444444444444444,
           "#bd3786"
          ],
          [
           0.5555555555555556,
           "#d8576b"
          ],
          [
           0.6666666666666666,
           "#ed7953"
          ],
          [
           0.7777777777777778,
           "#fb9f3a"
          ],
          [
           0.8888888888888888,
           "#fdca26"
          ],
          [
           1,
           "#f0f921"
          ]
         ]
        },
        "height": 800,
        "legend": {
         "tracegroupgap": 0
        },
        "margin": {
         "t": 60
        },
        "template": {
         "data": {
          "bar": [
           {
            "error_x": {
             "color": "#2a3f5f"
            },
            "error_y": {
             "color": "#2a3f5f"
            },
            "marker": {
             "line": {
              "color": "#E5ECF6",
              "width": 0.5
             },
             "pattern": {
              "fillmode": "overlay",
              "size": 10,
              "solidity": 0.2
             }
            },
            "type": "bar"
           }
          ],
          "barpolar": [
           {
            "marker": {
             "line": {
              "color": "#E5ECF6",
              "width": 0.5
             },
             "pattern": {
              "fillmode": "overlay",
              "size": 10,
              "solidity": 0.2
             }
            },
            "type": "barpolar"
           }
          ],
          "carpet": [
           {
            "aaxis": {
             "endlinecolor": "#2a3f5f",
             "gridcolor": "white",
             "linecolor": "white",
             "minorgridcolor": "white",
             "startlinecolor": "#2a3f5f"
            },
            "baxis": {
             "endlinecolor": "#2a3f5f",
             "gridcolor": "white",
             "linecolor": "white",
             "minorgridcolor": "white",
             "startlinecolor": "#2a3f5f"
            },
            "type": "carpet"
           }
          ],
          "choropleth": [
           {
            "colorbar": {
             "outlinewidth": 0,
             "ticks": ""
            },
            "type": "choropleth"
           }
          ],
          "contour": [
           {
            "colorbar": {
             "outlinewidth": 0,
             "ticks": ""
            },
            "colorscale": [
             [
              0,
              "#0d0887"
             ],
             [
              0.1111111111111111,
              "#46039f"
             ],
             [
              0.2222222222222222,
              "#7201a8"
             ],
             [
              0.3333333333333333,
              "#9c179e"
             ],
             [
              0.4444444444444444,
              "#bd3786"
             ],
             [
              0.5555555555555556,
              "#d8576b"
             ],
             [
              0.6666666666666666,
              "#ed7953"
             ],
             [
              0.7777777777777778,
              "#fb9f3a"
             ],
             [
              0.8888888888888888,
              "#fdca26"
             ],
             [
              1,
              "#f0f921"
             ]
            ],
            "type": "contour"
           }
          ],
          "contourcarpet": [
           {
            "colorbar": {
             "outlinewidth": 0,
             "ticks": ""
            },
            "type": "contourcarpet"
           }
          ],
          "heatmap": [
           {
            "colorbar": {
             "outlinewidth": 0,
             "ticks": ""
            },
            "colorscale": [
             [
              0,
              "#0d0887"
             ],
             [
              0.1111111111111111,
              "#46039f"
             ],
             [
              0.2222222222222222,
              "#7201a8"
             ],
             [
              0.3333333333333333,
              "#9c179e"
             ],
             [
              0.4444444444444444,
              "#bd3786"
             ],
             [
              0.5555555555555556,
              "#d8576b"
             ],
             [
              0.6666666666666666,
              "#ed7953"
             ],
             [
              0.7777777777777778,
              "#fb9f3a"
             ],
             [
              0.8888888888888888,
              "#fdca26"
             ],
             [
              1,
              "#f0f921"
             ]
            ],
            "type": "heatmap"
           }
          ],
          "heatmapgl": [
           {
            "colorbar": {
             "outlinewidth": 0,
             "ticks": ""
            },
            "colorscale": [
             [
              0,
              "#0d0887"
             ],
             [
              0.1111111111111111,
              "#46039f"
             ],
             [
              0.2222222222222222,
              "#7201a8"
             ],
             [
              0.3333333333333333,
              "#9c179e"
             ],
             [
              0.4444444444444444,
              "#bd3786"
             ],
             [
              0.5555555555555556,
              "#d8576b"
             ],
             [
              0.6666666666666666,
              "#ed7953"
             ],
             [
              0.7777777777777778,
              "#fb9f3a"
             ],
             [
              0.8888888888888888,
              "#fdca26"
             ],
             [
              1,
              "#f0f921"
             ]
            ],
            "type": "heatmapgl"
           }
          ],
          "histogram": [
           {
            "marker": {
             "pattern": {
              "fillmode": "overlay",
              "size": 10,
              "solidity": 0.2
             }
            },
            "type": "histogram"
           }
          ],
          "histogram2d": [
           {
            "colorbar": {
             "outlinewidth": 0,
             "ticks": ""
            },
            "colorscale": [
             [
              0,
              "#0d0887"
             ],
             [
              0.1111111111111111,
              "#46039f"
             ],
             [
              0.2222222222222222,
              "#7201a8"
             ],
             [
              0.3333333333333333,
              "#9c179e"
             ],
             [
              0.4444444444444444,
              "#bd3786"
             ],
             [
              0.5555555555555556,
              "#d8576b"
             ],
             [
              0.6666666666666666,
              "#ed7953"
             ],
             [
              0.7777777777777778,
              "#fb9f3a"
             ],
             [
              0.8888888888888888,
              "#fdca26"
             ],
             [
              1,
              "#f0f921"
             ]
            ],
            "type": "histogram2d"
           }
          ],
          "histogram2dcontour": [
           {
            "colorbar": {
             "outlinewidth": 0,
             "ticks": ""
            },
            "colorscale": [
             [
              0,
              "#0d0887"
             ],
             [
              0.1111111111111111,
              "#46039f"
             ],
             [
              0.2222222222222222,
              "#7201a8"
             ],
             [
              0.3333333333333333,
              "#9c179e"
             ],
             [
              0.4444444444444444,
              "#bd3786"
             ],
             [
              0.5555555555555556,
              "#d8576b"
             ],
             [
              0.6666666666666666,
              "#ed7953"
             ],
             [
              0.7777777777777778,
              "#fb9f3a"
             ],
             [
              0.8888888888888888,
              "#fdca26"
             ],
             [
              1,
              "#f0f921"
             ]
            ],
            "type": "histogram2dcontour"
           }
          ],
          "mesh3d": [
           {
            "colorbar": {
             "outlinewidth": 0,
             "ticks": ""
            },
            "type": "mesh3d"
           }
          ],
          "parcoords": [
           {
            "line": {
             "colorbar": {
              "outlinewidth": 0,
              "ticks": ""
             }
            },
            "type": "parcoords"
           }
          ],
          "pie": [
           {
            "automargin": true,
            "type": "pie"
           }
          ],
          "scatter": [
           {
            "fillpattern": {
             "fillmode": "overlay",
             "size": 10,
             "solidity": 0.2
            },
            "type": "scatter"
           }
          ],
          "scatter3d": [
           {
            "line": {
             "colorbar": {
              "outlinewidth": 0,
              "ticks": ""
             }
            },
            "marker": {
             "colorbar": {
              "outlinewidth": 0,
              "ticks": ""
             }
            },
            "type": "scatter3d"
           }
          ],
          "scattercarpet": [
           {
            "marker": {
             "colorbar": {
              "outlinewidth": 0,
              "ticks": ""
             }
            },
            "type": "scattercarpet"
           }
          ],
          "scattergeo": [
           {
            "marker": {
             "colorbar": {
              "outlinewidth": 0,
              "ticks": ""
             }
            },
            "type": "scattergeo"
           }
          ],
          "scattergl": [
           {
            "marker": {
             "colorbar": {
              "outlinewidth": 0,
              "ticks": ""
             }
            },
            "type": "scattergl"
           }
          ],
          "scattermapbox": [
           {
            "marker": {
             "colorbar": {
              "outlinewidth": 0,
              "ticks": ""
             }
            },
            "type": "scattermapbox"
           }
          ],
          "scatterpolar": [
           {
            "marker": {
             "colorbar": {
              "outlinewidth": 0,
              "ticks": ""
             }
            },
            "type": "scatterpolar"
           }
          ],
          "scatterpolargl": [
           {
            "marker": {
             "colorbar": {
              "outlinewidth": 0,
              "ticks": ""
             }
            },
            "type": "scatterpolargl"
           }
          ],
          "scatterternary": [
           {
            "marker": {
             "colorbar": {
              "outlinewidth": 0,
              "ticks": ""
             }
            },
            "type": "scatterternary"
           }
          ],
          "surface": [
           {
            "colorbar": {
             "outlinewidth": 0,
             "ticks": ""
            },
            "colorscale": [
             [
              0,
              "#0d0887"
             ],
             [
              0.1111111111111111,
              "#46039f"
             ],
             [
              0.2222222222222222,
              "#7201a8"
             ],
             [
              0.3333333333333333,
              "#9c179e"
             ],
             [
              0.4444444444444444,
              "#bd3786"
             ],
             [
              0.5555555555555556,
              "#d8576b"
             ],
             [
              0.6666666666666666,
              "#ed7953"
             ],
             [
              0.7777777777777778,
              "#fb9f3a"
             ],
             [
              0.8888888888888888,
              "#fdca26"
             ],
             [
              1,
              "#f0f921"
             ]
            ],
            "type": "surface"
           }
          ],
          "table": [
           {
            "cells": {
             "fill": {
              "color": "#EBF0F8"
             },
             "line": {
              "color": "white"
             }
            },
            "header": {
             "fill": {
              "color": "#C8D4E3"
             },
             "line": {
              "color": "white"
             }
            },
            "type": "table"
           }
          ]
         },
         "layout": {
          "annotationdefaults": {
           "arrowcolor": "#2a3f5f",
           "arrowhead": 0,
           "arrowwidth": 1
          },
          "autotypenumbers": "strict",
          "coloraxis": {
           "colorbar": {
            "outlinewidth": 0,
            "ticks": ""
           }
          },
          "colorscale": {
           "diverging": [
            [
             0,
             "#8e0152"
            ],
            [
             0.1,
             "#c51b7d"
            ],
            [
             0.2,
             "#de77ae"
            ],
            [
             0.3,
             "#f1b6da"
            ],
            [
             0.4,
             "#fde0ef"
            ],
            [
             0.5,
             "#f7f7f7"
            ],
            [
             0.6,
             "#e6f5d0"
            ],
            [
             0.7,
             "#b8e186"
            ],
            [
             0.8,
             "#7fbc41"
            ],
            [
             0.9,
             "#4d9221"
            ],
            [
             1,
             "#276419"
            ]
           ],
           "sequential": [
            [
             0,
             "#0d0887"
            ],
            [
             0.1111111111111111,
             "#46039f"
            ],
            [
             0.2222222222222222,
             "#7201a8"
            ],
            [
             0.3333333333333333,
             "#9c179e"
            ],
            [
             0.4444444444444444,
             "#bd3786"
            ],
            [
             0.5555555555555556,
             "#d8576b"
            ],
            [
             0.6666666666666666,
             "#ed7953"
            ],
            [
             0.7777777777777778,
             "#fb9f3a"
            ],
            [
             0.8888888888888888,
             "#fdca26"
            ],
            [
             1,
             "#f0f921"
            ]
           ],
           "sequentialminus": [
            [
             0,
             "#0d0887"
            ],
            [
             0.1111111111111111,
             "#46039f"
            ],
            [
             0.2222222222222222,
             "#7201a8"
            ],
            [
             0.3333333333333333,
             "#9c179e"
            ],
            [
             0.4444444444444444,
             "#bd3786"
            ],
            [
             0.5555555555555556,
             "#d8576b"
            ],
            [
             0.6666666666666666,
             "#ed7953"
            ],
            [
             0.7777777777777778,
             "#fb9f3a"
            ],
            [
             0.8888888888888888,
             "#fdca26"
            ],
            [
             1,
             "#f0f921"
            ]
           ]
          },
          "colorway": [
           "#636efa",
           "#EF553B",
           "#00cc96",
           "#ab63fa",
           "#FFA15A",
           "#19d3f3",
           "#FF6692",
           "#B6E880",
           "#FF97FF",
           "#FECB52"
          ],
          "font": {
           "color": "#2a3f5f"
          },
          "geo": {
           "bgcolor": "white",
           "lakecolor": "white",
           "landcolor": "#E5ECF6",
           "showlakes": true,
           "showland": true,
           "subunitcolor": "white"
          },
          "hoverlabel": {
           "align": "left"
          },
          "hovermode": "closest",
          "mapbox": {
           "style": "light"
          },
          "paper_bgcolor": "white",
          "plot_bgcolor": "#E5ECF6",
          "polar": {
           "angularaxis": {
            "gridcolor": "white",
            "linecolor": "white",
            "ticks": ""
           },
           "bgcolor": "#E5ECF6",
           "radialaxis": {
            "gridcolor": "white",
            "linecolor": "white",
            "ticks": ""
           }
          },
          "scene": {
           "xaxis": {
            "backgroundcolor": "#E5ECF6",
            "gridcolor": "white",
            "gridwidth": 2,
            "linecolor": "white",
            "showbackground": true,
            "ticks": "",
            "zerolinecolor": "white"
           },
           "yaxis": {
            "backgroundcolor": "#E5ECF6",
            "gridcolor": "white",
            "gridwidth": 2,
            "linecolor": "white",
            "showbackground": true,
            "ticks": "",
            "zerolinecolor": "white"
           },
           "zaxis": {
            "backgroundcolor": "#E5ECF6",
            "gridcolor": "white",
            "gridwidth": 2,
            "linecolor": "white",
            "showbackground": true,
            "ticks": "",
            "zerolinecolor": "white"
           }
          },
          "shapedefaults": {
           "line": {
            "color": "#2a3f5f"
           }
          },
          "ternary": {
           "aaxis": {
            "gridcolor": "white",
            "linecolor": "white",
            "ticks": ""
           },
           "baxis": {
            "gridcolor": "white",
            "linecolor": "white",
            "ticks": ""
           },
           "bgcolor": "#E5ECF6",
           "caxis": {
            "gridcolor": "white",
            "linecolor": "white",
            "ticks": ""
           }
          },
          "title": {
           "x": 0.05
          },
          "xaxis": {
           "automargin": true,
           "gridcolor": "white",
           "linecolor": "white",
           "ticks": "",
           "title": {
            "standoff": 15
           },
           "zerolinecolor": "white",
           "zerolinewidth": 2
          },
          "yaxis": {
           "automargin": true,
           "gridcolor": "white",
           "linecolor": "white",
           "ticks": "",
           "title": {
            "standoff": 15
           },
           "zerolinecolor": "white",
           "zerolinewidth": 2
          }
         }
        },
        "width": 800,
        "xaxis": {
         "anchor": "y",
         "domain": [
          0,
          1
         ],
         "title": {
          "text": "MAPE"
         }
        },
        "yaxis": {
         "anchor": "x",
         "domain": [
          0,
          1
         ],
         "title": {
          "text": "RSquared"
         }
        }
       }
      }
     },
     "metadata": {},
     "output_type": "display_data"
    }
   ],
   "source": [
    "fig = px.scatter(results_combined,y='RSquared',x='MAPE',color='log_price',width=800,height=800,hover_data=['PPG','Retailer_Name'])\n",
    "fig.show()"
   ]
  },
  {
   "cell_type": "code",
   "execution_count": 20,
   "metadata": {},
   "outputs": [
    {
     "data": {
      "text/plain": [
       "Index(['PPG', 'Retailer_Name', 'log_price', 'Distribution_wtd',\n",
       "       'Category_Seasonality', 'Category_Trend', 'intercept', 'RSquared',\n",
       "       'MAPE'],\n",
       "      dtype='object')"
      ]
     },
     "execution_count": 20,
     "metadata": {},
     "output_type": "execute_result"
    }
   ],
   "source": [
    "results_combined_orig.columns"
   ]
  },
  {
   "cell_type": "code",
   "execution_count": 21,
   "metadata": {},
   "outputs": [
    {
     "data": {
      "text/html": [
       "<div>\n",
       "<style scoped>\n",
       "    .dataframe tbody tr th:only-of-type {\n",
       "        vertical-align: middle;\n",
       "    }\n",
       "\n",
       "    .dataframe tbody tr th {\n",
       "        vertical-align: top;\n",
       "    }\n",
       "\n",
       "    .dataframe thead th {\n",
       "        text-align: right;\n",
       "    }\n",
       "</style>\n",
       "<table border=\"1\" class=\"dataframe\">\n",
       "  <thead>\n",
       "    <tr style=\"text-align: right;\">\n",
       "      <th></th>\n",
       "      <th>PPG</th>\n",
       "      <th>Retailer_Name</th>\n",
       "      <th>coef_log_price</th>\n",
       "      <th>coef_Distribution_wtd</th>\n",
       "      <th>coef_Category_Seasonality</th>\n",
       "      <th>coef_Category_Trend</th>\n",
       "      <th>coef_intercept</th>\n",
       "      <th>RSquared</th>\n",
       "      <th>MAPE</th>\n",
       "    </tr>\n",
       "  </thead>\n",
       "  <tbody>\n",
       "    <tr>\n",
       "      <th>0</th>\n",
       "      <td>BRAND A SUBBRAND A.1 ADULT ZAK GROENTE_KIP_RIJ...</td>\n",
       "      <td>Retailer A</td>\n",
       "      <td>-0.852109</td>\n",
       "      <td>0.123530</td>\n",
       "      <td>0.197584</td>\n",
       "      <td>-6.403994</td>\n",
       "      <td>8.002612</td>\n",
       "      <td>95.718866</td>\n",
       "      <td>3.210109</td>\n",
       "    </tr>\n",
       "    <tr>\n",
       "      <th>1</th>\n",
       "      <td>BRAND A SUBBRAND A.1 ADULT ZAK GROENTE_KIP_RIJ...</td>\n",
       "      <td>Retailer B</td>\n",
       "      <td>-5.057595</td>\n",
       "      <td>0.007523</td>\n",
       "      <td>0.007206</td>\n",
       "      <td>0.015822</td>\n",
       "      <td>9.290431</td>\n",
       "      <td>83.103341</td>\n",
       "      <td>1.809377</td>\n",
       "    </tr>\n",
       "    <tr>\n",
       "      <th>2</th>\n",
       "      <td>BRAND A SUBBRAND A.1 ADULT ZAK GROENTE_KIP_RIJ...</td>\n",
       "      <td>Retailer C</td>\n",
       "      <td>-1.630746</td>\n",
       "      <td>0.075442</td>\n",
       "      <td>-0.033026</td>\n",
       "      <td>0.032400</td>\n",
       "      <td>5.522694</td>\n",
       "      <td>85.564247</td>\n",
       "      <td>1.014445</td>\n",
       "    </tr>\n",
       "    <tr>\n",
       "      <th>3</th>\n",
       "      <td>BRAND A SUBBRAND A.2 ADULT ZAK GRONT_RND 1400_G</td>\n",
       "      <td>Retailer A</td>\n",
       "      <td>-0.302161</td>\n",
       "      <td>0.047439</td>\n",
       "      <td>0.044996</td>\n",
       "      <td>-0.024606</td>\n",
       "      <td>4.752580</td>\n",
       "      <td>90.628859</td>\n",
       "      <td>3.045934</td>\n",
       "    </tr>\n",
       "    <tr>\n",
       "      <th>4</th>\n",
       "      <td>BRAND A SUBBRAND A.2 ADULT ZAK GRONT_RND 1400_G</td>\n",
       "      <td>Retailer B</td>\n",
       "      <td>-2.076912</td>\n",
       "      <td>0.023631</td>\n",
       "      <td>0.086669</td>\n",
       "      <td>-0.062266</td>\n",
       "      <td>6.300813</td>\n",
       "      <td>96.522362</td>\n",
       "      <td>1.311717</td>\n",
       "    </tr>\n",
       "  </tbody>\n",
       "</table>\n",
       "</div>"
      ],
      "text/plain": [
       "                                                 PPG Retailer_Name  \\\n",
       "0  BRAND A SUBBRAND A.1 ADULT ZAK GROENTE_KIP_RIJ...    Retailer A   \n",
       "1  BRAND A SUBBRAND A.1 ADULT ZAK GROENTE_KIP_RIJ...    Retailer B   \n",
       "2  BRAND A SUBBRAND A.1 ADULT ZAK GROENTE_KIP_RIJ...    Retailer C   \n",
       "3    BRAND A SUBBRAND A.2 ADULT ZAK GRONT_RND 1400_G    Retailer A   \n",
       "4    BRAND A SUBBRAND A.2 ADULT ZAK GRONT_RND 1400_G    Retailer B   \n",
       "\n",
       "   coef_log_price  coef_Distribution_wtd  coef_Category_Seasonality  \\\n",
       "0       -0.852109               0.123530                   0.197584   \n",
       "1       -5.057595               0.007523                   0.007206   \n",
       "2       -1.630746               0.075442                  -0.033026   \n",
       "3       -0.302161               0.047439                   0.044996   \n",
       "4       -2.076912               0.023631                   0.086669   \n",
       "\n",
       "   coef_Category_Trend  coef_intercept   RSquared      MAPE  \n",
       "0            -6.403994        8.002612  95.718866  3.210109  \n",
       "1             0.015822        9.290431  83.103341  1.809377  \n",
       "2             0.032400        5.522694  85.564247  1.014445  \n",
       "3            -0.024606        4.752580  90.628859  3.045934  \n",
       "4            -0.062266        6.300813  96.522362  1.311717  "
      ]
     },
     "execution_count": 21,
     "metadata": {},
     "output_type": "execute_result"
    }
   ],
   "source": [
    "results_combined_orig.head()\n",
    "for each_col in ['log_price', 'Distribution_wtd',\n",
    "        'Category_Seasonality', 'Category_Trend',\n",
    "       'intercept']:\n",
    "    results_combined_orig.rename(columns={each_col:'coef_'+each_col},inplace=True)\n",
    "results_combined_orig.head()"
   ]
  },
  {
   "cell_type": "code",
   "execution_count": 22,
   "metadata": {},
   "outputs": [],
   "source": [
    "results_combined_orig.to_clipboard()"
   ]
  },
  {
   "cell_type": "code",
   "execution_count": 23,
   "metadata": {},
   "outputs": [
    {
     "name": "stdout",
     "output_type": "stream",
     "text": [
      "(14709, 41)\n"
     ]
    }
   ],
   "source": [
    "df_waterfall_calc = df_rolled.merge(results_combined_orig,how='left',on=['Retailer_Name','PPG'])\n",
    "print(df_waterfall_calc.shape)"
   ]
  },
  {
   "cell_type": "code",
   "execution_count": 24,
   "metadata": {},
   "outputs": [],
   "source": [
    "df_waterfall_calc['contri_price'] = np.exp(df_waterfall_calc['log_price']*df_waterfall_calc['coef_log_price'])\n",
    "df_waterfall_calc['contri_Distribution_wtd'] = df_waterfall_calc['Distribution_wtd']*df_waterfall_calc['coef_Distribution_wtd']\n",
    "df_waterfall_calc['contri_Category_Seasonality'] = df_waterfall_calc['Category_Seasonality']*df_waterfall_calc['coef_Category_Seasonality']\n",
    "df_waterfall_calc['contri_Category_Trend'] = df_waterfall_calc['Category_Trend']*df_waterfall_calc['coef_Category_Trend']\n",
    "df_waterfall_calc['contri_intercept'] = df_waterfall_calc['coef_intercept']"
   ]
  },
  {
   "cell_type": "code",
   "execution_count": 25,
   "metadata": {},
   "outputs": [],
   "source": [
    "df_waterfall_calc['predicted_sales'] = df_waterfall_calc['contri_price'] \\\n",
    "    + df_waterfall_calc['contri_Distribution_wtd'] \\\n",
    "        +df_waterfall_calc['contri_Category_Seasonality'] \\\n",
    "        + df_waterfall_calc['contri_Category_Trend']\\\n",
    "        + df_waterfall_calc['contri_intercept']\n",
    "        "
   ]
  },
  {
   "cell_type": "code",
   "execution_count": 26,
   "metadata": {},
   "outputs": [],
   "source": [
    "df_waterfall_calc['perc_contri_price'] = np.round(((df_waterfall_calc['contri_price']/df_waterfall_calc['predicted_sales'])*100),2)\n",
    "df_waterfall_calc['perc_contri_Distribution_wtd'] = np.round(((df_waterfall_calc['contri_Distribution_wtd']/df_waterfall_calc['predicted_sales'])*100),2)\n",
    "df_waterfall_calc['perc_contri_Category_Seasonality'] = np.round(((df_waterfall_calc['contri_Category_Seasonality']/df_waterfall_calc['predicted_sales'])*100),2)\n",
    "df_waterfall_calc['perc_contri_Category_Trend'] = np.round(((df_waterfall_calc['contri_Category_Trend']/df_waterfall_calc['predicted_sales'])*100),2)\n",
    "df_waterfall_calc['perc_contri_Baseline'] = np.round(((df_waterfall_calc['contri_intercept']/df_waterfall_calc['predicted_sales'])*100),2)\n"
   ]
  },
  {
   "cell_type": "code",
   "execution_count": 27,
   "metadata": {},
   "outputs": [],
   "source": [
    "df_waterfall_calc[0:5].to_clipboard()"
   ]
  },
  {
   "cell_type": "code",
   "execution_count": 28,
   "metadata": {},
   "outputs": [],
   "source": [
    "df_waterfall_calc.to_clipboard()"
   ]
  },
  {
   "cell_type": "code",
   "execution_count": 29,
   "metadata": {},
   "outputs": [
    {
     "data": {
      "text/html": [
       "<div>\n",
       "<style scoped>\n",
       "    .dataframe tbody tr th:only-of-type {\n",
       "        vertical-align: middle;\n",
       "    }\n",
       "\n",
       "    .dataframe tbody tr th {\n",
       "        vertical-align: top;\n",
       "    }\n",
       "\n",
       "    .dataframe thead th {\n",
       "        text-align: right;\n",
       "    }\n",
       "</style>\n",
       "<table border=\"1\" class=\"dataframe\">\n",
       "  <thead>\n",
       "    <tr style=\"text-align: right;\">\n",
       "      <th></th>\n",
       "      <th>Total_Volume</th>\n",
       "      <th>predicted_sales</th>\n",
       "      <th>contri_price</th>\n",
       "      <th>perc_contri_price</th>\n",
       "      <th>perc_contri_Distribution_wtd</th>\n",
       "      <th>perc_contri_Baseline</th>\n",
       "    </tr>\n",
       "  </thead>\n",
       "  <tbody>\n",
       "    <tr>\n",
       "      <th>0</th>\n",
       "      <td>886.8</td>\n",
       "      <td>705.643162</td>\n",
       "      <td>705.412969</td>\n",
       "      <td>99.97</td>\n",
       "      <td>0.30</td>\n",
       "      <td>-0.25</td>\n",
       "    </tr>\n",
       "    <tr>\n",
       "      <th>1</th>\n",
       "      <td>709.6</td>\n",
       "      <td>9.272542</td>\n",
       "      <td>0.073211</td>\n",
       "      <td>0.79</td>\n",
       "      <td>7.52</td>\n",
       "      <td>92.77</td>\n",
       "    </tr>\n",
       "    <tr>\n",
       "      <th>2</th>\n",
       "      <td>286.8</td>\n",
       "      <td>7.683096</td>\n",
       "      <td>0.130099</td>\n",
       "      <td>1.69</td>\n",
       "      <td>29.77</td>\n",
       "      <td>68.68</td>\n",
       "    </tr>\n",
       "    <tr>\n",
       "      <th>3</th>\n",
       "      <td>769.2</td>\n",
       "      <td>8.564755</td>\n",
       "      <td>0.189589</td>\n",
       "      <td>2.21</td>\n",
       "      <td>20.04</td>\n",
       "      <td>78.49</td>\n",
       "    </tr>\n",
       "    <tr>\n",
       "      <th>4</th>\n",
       "      <td>326.4</td>\n",
       "      <td>8.394697</td>\n",
       "      <td>4.041321</td>\n",
       "      <td>48.14</td>\n",
       "      <td>17.00</td>\n",
       "      <td>36.76</td>\n",
       "    </tr>\n",
       "    <tr>\n",
       "      <th>...</th>\n",
       "      <td>...</td>\n",
       "      <td>...</td>\n",
       "      <td>...</td>\n",
       "      <td>...</td>\n",
       "      <td>...</td>\n",
       "      <td>...</td>\n",
       "    </tr>\n",
       "    <tr>\n",
       "      <th>14704</th>\n",
       "      <td>174.8</td>\n",
       "      <td>8.483939</td>\n",
       "      <td>4.986934</td>\n",
       "      <td>58.78</td>\n",
       "      <td>86.91</td>\n",
       "      <td>-44.82</td>\n",
       "    </tr>\n",
       "    <tr>\n",
       "      <th>14705</th>\n",
       "      <td>129.7</td>\n",
       "      <td>8.421067</td>\n",
       "      <td>0.028690</td>\n",
       "      <td>0.34</td>\n",
       "      <td>34.61</td>\n",
       "      <td>64.55</td>\n",
       "    </tr>\n",
       "    <tr>\n",
       "      <th>14706</th>\n",
       "      <td>85.4</td>\n",
       "      <td>5.370690</td>\n",
       "      <td>0.877811</td>\n",
       "      <td>16.34</td>\n",
       "      <td>46.22</td>\n",
       "      <td>38.13</td>\n",
       "    </tr>\n",
       "    <tr>\n",
       "      <th>14707</th>\n",
       "      <td>160.8</td>\n",
       "      <td>7.970776</td>\n",
       "      <td>0.056032</td>\n",
       "      <td>0.70</td>\n",
       "      <td>29.54</td>\n",
       "      <td>68.96</td>\n",
       "    </tr>\n",
       "    <tr>\n",
       "      <th>14708</th>\n",
       "      <td>130.5</td>\n",
       "      <td>43.042435</td>\n",
       "      <td>41.943890</td>\n",
       "      <td>97.45</td>\n",
       "      <td>8.96</td>\n",
       "      <td>-6.41</td>\n",
       "    </tr>\n",
       "  </tbody>\n",
       "</table>\n",
       "<p>14709 rows × 6 columns</p>\n",
       "</div>"
      ],
      "text/plain": [
       "       Total_Volume  predicted_sales  contri_price  perc_contri_price  \\\n",
       "0             886.8       705.643162    705.412969              99.97   \n",
       "1             709.6         9.272542      0.073211               0.79   \n",
       "2             286.8         7.683096      0.130099               1.69   \n",
       "3             769.2         8.564755      0.189589               2.21   \n",
       "4             326.4         8.394697      4.041321              48.14   \n",
       "...             ...              ...           ...                ...   \n",
       "14704         174.8         8.483939      4.986934              58.78   \n",
       "14705         129.7         8.421067      0.028690               0.34   \n",
       "14706          85.4         5.370690      0.877811              16.34   \n",
       "14707         160.8         7.970776      0.056032               0.70   \n",
       "14708         130.5        43.042435     41.943890              97.45   \n",
       "\n",
       "       perc_contri_Distribution_wtd  perc_contri_Baseline  \n",
       "0                              0.30                 -0.25  \n",
       "1                              7.52                 92.77  \n",
       "2                             29.77                 68.68  \n",
       "3                             20.04                 78.49  \n",
       "4                             17.00                 36.76  \n",
       "...                             ...                   ...  \n",
       "14704                         86.91                -44.82  \n",
       "14705                         34.61                 64.55  \n",
       "14706                         46.22                 38.13  \n",
       "14707                         29.54                 68.96  \n",
       "14708                          8.96                 -6.41  \n",
       "\n",
       "[14709 rows x 6 columns]"
      ]
     },
     "execution_count": 29,
     "metadata": {},
     "output_type": "execute_result"
    }
   ],
   "source": [
    "df_waterfall_calc[['Total_Volume','predicted_sales','contri_price','perc_contri_price','perc_contri_Distribution_wtd','perc_contri_Baseline']]"
   ]
  },
  {
   "cell_type": "code",
   "execution_count": 30,
   "metadata": {},
   "outputs": [
    {
     "name": "stdout",
     "output_type": "stream",
     "text": [
      "(14709, 52)\n"
     ]
    },
    {
     "data": {
      "text/plain": [
       "(131, 52)"
      ]
     },
     "execution_count": 30,
     "metadata": {},
     "output_type": "execute_result"
    }
   ],
   "source": [
    "print(df_waterfall_calc.shape)\n",
    "filtered_waterfall = df_waterfall_calc.loc[df_waterfall_calc['RSquared']>90]\n",
    "filtered_waterfall = filtered_waterfall.loc[filtered_waterfall['MAPE']<5]\n",
    "# filtered_waterfall = filtered_waterfall.loc[(filtered_waterfall['log_price']<=0)&(filtered_waterfall['log_price']>=-3)]\n",
    "filtered_waterfall = filtered_waterfall.loc[(filtered_waterfall['perc_contri_price']<=55)&(filtered_waterfall['perc_contri_price']>=30)]\n",
    "\n",
    "\n",
    "filtered_waterfall.shape"
   ]
  },
  {
   "cell_type": "code",
   "execution_count": 31,
   "metadata": {},
   "outputs": [
    {
     "data": {
      "text/plain": [
       "array(['BRAND D SUBBRAND D.1.3 KITTEN PAK GRANN_KP_MLK 1000_G',\n",
       "       'BRAND D SUBBRAND D.2 KITTEN POUCH KIP_RND_TN_ZLM 1200_G_12_ST',\n",
       "       'BRAND D SUBBRAND D.3 ADULT BLIK EEND_GVGLT 400_G',\n",
       "       'BRAND D SUBBRAND D.3 ADULT BLIK FORL_ZLM 400_G',\n",
       "       'BRAND D SUBBRAND D.3 ADULT BLIK LEVR_RND 400_G',\n",
       "       'BRAND D SUBBRAND D.3 ADULT BLIK TONJN_ZLM 400_G',\n",
       "       'BRAND D SUBBRAND D.3 ADULT POUCH EEND_LM_KLK_LV_KP_NR_KN_GV 1200_G_12_ST',\n",
       "       'BRAND F SUBBRAND F.4 ADULT POUCH KIP_RND_KLK_LM_KLF_ND_KN_WLD 340_G_4_ST',\n",
       "       'BRAND H SUBBRAND H.1 ADULT ZAK GRONT_RND 3000_G',\n",
       "       'BRAND H SUBBRAND H.2 ADULT BLIK GRONT_LM_PST 400_G',\n",
       "       'BRAND H SUBBRAND H.4 ADULT POUCH KIP_RND_LV_KLK_LM 1200_G_12_ST',\n",
       "       'BRAND I SUBBRAND I.3 ADULT ZAK KIP 1400_G',\n",
       "       'BRAND M SUBBRAND M.1 ADULT ALU ZALM 85_G',\n",
       "       'BRAND M SUBBRAND M.4 ADULT POUCH ZLM_WTV_KP_RND 1020_G_12_ST'],\n",
       "      dtype=object)"
      ]
     },
     "execution_count": 31,
     "metadata": {},
     "output_type": "execute_result"
    }
   ],
   "source": [
    "filtered_waterfall.groupby(['PPG','Retailer_Name'],as_index=False).agg({'perc_contri_price':'mean'})['PPG'].unique()"
   ]
  },
  {
   "cell_type": "code",
   "execution_count": 32,
   "metadata": {},
   "outputs": [
    {
     "data": {
      "text/html": [
       "<div>\n",
       "<style scoped>\n",
       "    .dataframe tbody tr th:only-of-type {\n",
       "        vertical-align: middle;\n",
       "    }\n",
       "\n",
       "    .dataframe tbody tr th {\n",
       "        vertical-align: top;\n",
       "    }\n",
       "\n",
       "    .dataframe thead th {\n",
       "        text-align: right;\n",
       "    }\n",
       "</style>\n",
       "<table border=\"1\" class=\"dataframe\">\n",
       "  <thead>\n",
       "    <tr style=\"text-align: right;\">\n",
       "      <th></th>\n",
       "      <th>PPG</th>\n",
       "      <th>Retailer_Name</th>\n",
       "      <th>perc_contri_price</th>\n",
       "    </tr>\n",
       "  </thead>\n",
       "  <tbody>\n",
       "    <tr>\n",
       "      <th>0</th>\n",
       "      <td>BRAND D SUBBRAND D.1.3 KITTEN PAK GRANN_KP_MLK...</td>\n",
       "      <td>Retailer C</td>\n",
       "      <td>32.080000</td>\n",
       "    </tr>\n",
       "    <tr>\n",
       "      <th>1</th>\n",
       "      <td>BRAND D SUBBRAND D.2 KITTEN POUCH KIP_RND_TN_Z...</td>\n",
       "      <td>Retailer C</td>\n",
       "      <td>43.331071</td>\n",
       "    </tr>\n",
       "    <tr>\n",
       "      <th>2</th>\n",
       "      <td>BRAND D SUBBRAND D.3 ADULT BLIK EEND_GVGLT 400_G</td>\n",
       "      <td>Retailer A</td>\n",
       "      <td>33.455000</td>\n",
       "    </tr>\n",
       "    <tr>\n",
       "      <th>3</th>\n",
       "      <td>BRAND D SUBBRAND D.3 ADULT BLIK FORL_ZLM 400_G</td>\n",
       "      <td>Retailer A</td>\n",
       "      <td>40.047727</td>\n",
       "    </tr>\n",
       "    <tr>\n",
       "      <th>4</th>\n",
       "      <td>BRAND D SUBBRAND D.3 ADULT BLIK LEVR_RND 400_G</td>\n",
       "      <td>Retailer C</td>\n",
       "      <td>32.260000</td>\n",
       "    </tr>\n",
       "    <tr>\n",
       "      <th>5</th>\n",
       "      <td>BRAND D SUBBRAND D.3 ADULT BLIK TONJN_ZLM 400_G</td>\n",
       "      <td>Retailer A</td>\n",
       "      <td>49.650000</td>\n",
       "    </tr>\n",
       "    <tr>\n",
       "      <th>6</th>\n",
       "      <td>BRAND D SUBBRAND D.3 ADULT POUCH EEND_LM_KLK_L...</td>\n",
       "      <td>Retailer C</td>\n",
       "      <td>47.859048</td>\n",
       "    </tr>\n",
       "    <tr>\n",
       "      <th>7</th>\n",
       "      <td>BRAND F SUBBRAND F.4 ADULT POUCH KIP_RND_KLK_L...</td>\n",
       "      <td>Retailer C</td>\n",
       "      <td>53.745714</td>\n",
       "    </tr>\n",
       "    <tr>\n",
       "      <th>8</th>\n",
       "      <td>BRAND H SUBBRAND H.1 ADULT ZAK GRONT_RND 3000_G</td>\n",
       "      <td>Retailer A</td>\n",
       "      <td>32.111667</td>\n",
       "    </tr>\n",
       "    <tr>\n",
       "      <th>9</th>\n",
       "      <td>BRAND H SUBBRAND H.2 ADULT BLIK GRONT_LM_PST 4...</td>\n",
       "      <td>Retailer B</td>\n",
       "      <td>40.850000</td>\n",
       "    </tr>\n",
       "    <tr>\n",
       "      <th>10</th>\n",
       "      <td>BRAND H SUBBRAND H.4 ADULT POUCH KIP_RND_LV_KL...</td>\n",
       "      <td>Retailer C</td>\n",
       "      <td>49.015000</td>\n",
       "    </tr>\n",
       "    <tr>\n",
       "      <th>11</th>\n",
       "      <td>BRAND I SUBBRAND I.3 ADULT ZAK KIP 1400_G</td>\n",
       "      <td>Retailer C</td>\n",
       "      <td>46.285000</td>\n",
       "    </tr>\n",
       "    <tr>\n",
       "      <th>12</th>\n",
       "      <td>BRAND M SUBBRAND M.1 ADULT ALU ZALM 85_G</td>\n",
       "      <td>Retailer B</td>\n",
       "      <td>36.251000</td>\n",
       "    </tr>\n",
       "    <tr>\n",
       "      <th>13</th>\n",
       "      <td>BRAND M SUBBRAND M.4 ADULT POUCH ZLM_WTV_KP_RN...</td>\n",
       "      <td>Retailer B</td>\n",
       "      <td>43.000000</td>\n",
       "    </tr>\n",
       "  </tbody>\n",
       "</table>\n",
       "</div>"
      ],
      "text/plain": [
       "                                                  PPG Retailer_Name  \\\n",
       "0   BRAND D SUBBRAND D.1.3 KITTEN PAK GRANN_KP_MLK...    Retailer C   \n",
       "1   BRAND D SUBBRAND D.2 KITTEN POUCH KIP_RND_TN_Z...    Retailer C   \n",
       "2    BRAND D SUBBRAND D.3 ADULT BLIK EEND_GVGLT 400_G    Retailer A   \n",
       "3      BRAND D SUBBRAND D.3 ADULT BLIK FORL_ZLM 400_G    Retailer A   \n",
       "4      BRAND D SUBBRAND D.3 ADULT BLIK LEVR_RND 400_G    Retailer C   \n",
       "5     BRAND D SUBBRAND D.3 ADULT BLIK TONJN_ZLM 400_G    Retailer A   \n",
       "6   BRAND D SUBBRAND D.3 ADULT POUCH EEND_LM_KLK_L...    Retailer C   \n",
       "7   BRAND F SUBBRAND F.4 ADULT POUCH KIP_RND_KLK_L...    Retailer C   \n",
       "8     BRAND H SUBBRAND H.1 ADULT ZAK GRONT_RND 3000_G    Retailer A   \n",
       "9   BRAND H SUBBRAND H.2 ADULT BLIK GRONT_LM_PST 4...    Retailer B   \n",
       "10  BRAND H SUBBRAND H.4 ADULT POUCH KIP_RND_LV_KL...    Retailer C   \n",
       "11          BRAND I SUBBRAND I.3 ADULT ZAK KIP 1400_G    Retailer C   \n",
       "12           BRAND M SUBBRAND M.1 ADULT ALU ZALM 85_G    Retailer B   \n",
       "13  BRAND M SUBBRAND M.4 ADULT POUCH ZLM_WTV_KP_RN...    Retailer B   \n",
       "\n",
       "    perc_contri_price  \n",
       "0           32.080000  \n",
       "1           43.331071  \n",
       "2           33.455000  \n",
       "3           40.047727  \n",
       "4           32.260000  \n",
       "5           49.650000  \n",
       "6           47.859048  \n",
       "7           53.745714  \n",
       "8           32.111667  \n",
       "9           40.850000  \n",
       "10          49.015000  \n",
       "11          46.285000  \n",
       "12          36.251000  \n",
       "13          43.000000  "
      ]
     },
     "execution_count": 32,
     "metadata": {},
     "output_type": "execute_result"
    }
   ],
   "source": [
    "filtered_waterfall.groupby(['PPG','Retailer_Name'],as_index=False).agg({'perc_contri_price':'mean'})"
   ]
  },
  {
   "cell_type": "code",
   "execution_count": 33,
   "metadata": {},
   "outputs": [
    {
     "ename": "IndexError",
     "evalue": "single positional indexer is out-of-bounds",
     "output_type": "error",
     "traceback": [
      "\u001b[0;31m---------------------------------------------------------------------------\u001b[0m",
      "\u001b[0;31mIndexError\u001b[0m                                Traceback (most recent call last)",
      "Cell \u001b[0;32mIn[33], line 7\u001b[0m\n\u001b[1;32m      5\u001b[0m value_list \u001b[39m=\u001b[39m \u001b[39mlist\u001b[39m()\n\u001b[1;32m      6\u001b[0m \u001b[39mfor\u001b[39;00m each_col \u001b[39min\u001b[39;00m col_list:\n\u001b[0;32m----> 7\u001b[0m     val \u001b[39m=\u001b[39m filtered_waterfall\u001b[39m.\u001b[39;49mloc[(filtered_waterfall[\u001b[39m'\u001b[39;49m\u001b[39mPPG\u001b[39;49m\u001b[39m'\u001b[39;49m]\u001b[39m==\u001b[39;49mPPG)\u001b[39m&\u001b[39;49m(filtered_waterfall[\u001b[39m'\u001b[39;49m\u001b[39mRetailer_Name\u001b[39;49m\u001b[39m'\u001b[39;49m]\u001b[39m==\u001b[39;49mRETAILER),each_col]\u001b[39m.\u001b[39;49miloc[\u001b[39m0\u001b[39;49m]\n\u001b[1;32m      8\u001b[0m     value_list\u001b[39m.\u001b[39mappend(val)\n",
      "File \u001b[0;32m~/opt/anaconda3/lib/python3.9/site-packages/pandas/core/indexing.py:1073\u001b[0m, in \u001b[0;36m_LocationIndexer.__getitem__\u001b[0;34m(self, key)\u001b[0m\n\u001b[1;32m   1070\u001b[0m axis \u001b[39m=\u001b[39m \u001b[39mself\u001b[39m\u001b[39m.\u001b[39maxis \u001b[39mor\u001b[39;00m \u001b[39m0\u001b[39m\n\u001b[1;32m   1072\u001b[0m maybe_callable \u001b[39m=\u001b[39m com\u001b[39m.\u001b[39mapply_if_callable(key, \u001b[39mself\u001b[39m\u001b[39m.\u001b[39mobj)\n\u001b[0;32m-> 1073\u001b[0m \u001b[39mreturn\u001b[39;00m \u001b[39mself\u001b[39;49m\u001b[39m.\u001b[39;49m_getitem_axis(maybe_callable, axis\u001b[39m=\u001b[39;49maxis)\n",
      "File \u001b[0;32m~/opt/anaconda3/lib/python3.9/site-packages/pandas/core/indexing.py:1625\u001b[0m, in \u001b[0;36m_iLocIndexer._getitem_axis\u001b[0;34m(self, key, axis)\u001b[0m\n\u001b[1;32m   1622\u001b[0m     \u001b[39mraise\u001b[39;00m \u001b[39mTypeError\u001b[39;00m(\u001b[39m\"\u001b[39m\u001b[39mCannot index by location index with a non-integer key\u001b[39m\u001b[39m\"\u001b[39m)\n\u001b[1;32m   1624\u001b[0m \u001b[39m# validate the location\u001b[39;00m\n\u001b[0;32m-> 1625\u001b[0m \u001b[39mself\u001b[39;49m\u001b[39m.\u001b[39;49m_validate_integer(key, axis)\n\u001b[1;32m   1627\u001b[0m \u001b[39mreturn\u001b[39;00m \u001b[39mself\u001b[39m\u001b[39m.\u001b[39mobj\u001b[39m.\u001b[39m_ixs(key, axis\u001b[39m=\u001b[39maxis)\n",
      "File \u001b[0;32m~/opt/anaconda3/lib/python3.9/site-packages/pandas/core/indexing.py:1557\u001b[0m, in \u001b[0;36m_iLocIndexer._validate_integer\u001b[0;34m(self, key, axis)\u001b[0m\n\u001b[1;32m   1555\u001b[0m len_axis \u001b[39m=\u001b[39m \u001b[39mlen\u001b[39m(\u001b[39mself\u001b[39m\u001b[39m.\u001b[39mobj\u001b[39m.\u001b[39m_get_axis(axis))\n\u001b[1;32m   1556\u001b[0m \u001b[39mif\u001b[39;00m key \u001b[39m>\u001b[39m\u001b[39m=\u001b[39m len_axis \u001b[39mor\u001b[39;00m key \u001b[39m<\u001b[39m \u001b[39m-\u001b[39mlen_axis:\n\u001b[0;32m-> 1557\u001b[0m     \u001b[39mraise\u001b[39;00m \u001b[39mIndexError\u001b[39;00m(\u001b[39m\"\u001b[39m\u001b[39msingle positional indexer is out-of-bounds\u001b[39m\u001b[39m\"\u001b[39m)\n",
      "\u001b[0;31mIndexError\u001b[0m: single positional indexer is out-of-bounds"
     ]
    }
   ],
   "source": [
    "# PPG = 'BRAND B SUBBRAND B.1 ADULT POUCH RND_RD_KP_WRT_LM 1200_G_12_ST'\n",
    "# RETAILER = 'Retailer C'\n",
    "# col_list = 'perc_contri_Baseline', 'perc_contri_price','perc_contri_Distribution_wtd',\\\n",
    "#     'perc_contri_Category_Seasonality','perc_contri_Category_Trend','predicted_sales'\n",
    "# value_list = list()\n",
    "# for each_col in col_list:\n",
    "#     val = filtered_waterfall.loc[(filtered_waterfall['PPG']==PPG)&(filtered_waterfall['Retailer_Name']==RETAILER),each_col].iloc[0]\n",
    "#     value_list.append(val)"
   ]
  },
  {
   "cell_type": "code",
   "execution_count": null,
   "metadata": {},
   "outputs": [],
   "source": [
    "\n",
    "# fig = go.Figure(go.Waterfall(\n",
    "#     name = \"%Contribution to Sales Volume\", orientation = \"v\",\n",
    "#     measure = [\"absolute\", \"relative\", \"relative\", \"relative\", \"relative\", \"total\"],\n",
    "#     x = [\"Baseline\", \"Price\", \"Distribution\", \"Category Seasonality\", \"Category Trend\", \"Final Volume\"],\n",
    "#     textposition = \"outside\",\n",
    "#     text =  [f'{i*1:.2f}%' for i in value_list],\n",
    "#     y = value_list,\n",
    "#     connector = {\"line\":{\"color\":\"rgb(63, 63, 63)\"}},\n",
    "# ))\n",
    "\n",
    "# fig.update_layout(\n",
    "#         title = \"PPG || \" + PPG + \"||\" + RETAILER,\n",
    "#         showlegend = True,height=600\n",
    "# )\n",
    "\n",
    "# fig.show()"
   ]
  },
  {
   "cell_type": "code",
   "execution_count": null,
   "metadata": {},
   "outputs": [],
   "source": [
    "# import plotly.io as pio\n",
    "# pio.write_image(fig, '../plots/waterfall.jpg',height=600,width=1200,)"
   ]
  },
  {
   "cell_type": "code",
   "execution_count": null,
   "metadata": {},
   "outputs": [],
   "source": []
  }
 ],
 "metadata": {
  "kernelspec": {
   "display_name": "base",
   "language": "python",
   "name": "python3"
  },
  "language_info": {
   "codemirror_mode": {
    "name": "ipython",
    "version": 3
   },
   "file_extension": ".py",
   "mimetype": "text/x-python",
   "name": "python",
   "nbconvert_exporter": "python",
   "pygments_lexer": "ipython3",
   "version": "3.9.12"
  },
  "orig_nbformat": 4
 },
 "nbformat": 4,
 "nbformat_minor": 2
}
