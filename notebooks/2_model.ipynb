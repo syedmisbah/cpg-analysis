{
 "cells": [
  {
   "cell_type": "code",
   "execution_count": 1,
   "metadata": {},
   "outputs": [],
   "source": [
    "import statsmodels.api as sm \n",
    "import pandas as pd\n",
    "import numpy as np\n",
    "import warnings\n",
    "warnings.filterwarnings(action=\"ignore\")\n",
    "import plotly.express as px\n",
    "import plotly.graph_objects as go"
   ]
  },
  {
   "cell_type": "code",
   "execution_count": 2,
   "metadata": {},
   "outputs": [
    {
     "data": {
      "text/plain": [
       "(125776, 31)"
      ]
     },
     "execution_count": 2,
     "metadata": {},
     "output_type": "execute_result"
    }
   ],
   "source": [
    "df_rolled = pd.read_parquet(\"../data/output/df_model.parquet\")\n",
    "df_rolled.shape"
   ]
  },
  {
   "cell_type": "code",
   "execution_count": 3,
   "metadata": {},
   "outputs": [
    {
     "name": "stdout",
     "output_type": "stream",
     "text": [
      "Number of unique retailer PPG combinations 743\n"
     ]
    }
   ],
   "source": [
    "print(\"Number of unique retailer PPG combinations\",df_rolled[['PPG','Retailer_Name']].drop_duplicates().shape[0])"
   ]
  },
  {
   "cell_type": "code",
   "execution_count": 4,
   "metadata": {},
   "outputs": [
    {
     "name": "stdout",
     "output_type": "stream",
     "text": [
      "(70475, 31)\n"
     ]
    }
   ],
   "source": [
    "df_rolled = df_rolled.loc[df_rolled['No_Total_Sales_Flag']==0]\n",
    "print(df_rolled.shape)"
   ]
  },
  {
   "cell_type": "code",
   "execution_count": 5,
   "metadata": {},
   "outputs": [
    {
     "name": "stdout",
     "output_type": "stream",
     "text": [
      "Number of unique retailer PPG combinations 585\n"
     ]
    }
   ],
   "source": [
    "print(\"Number of unique retailer PPG combinations\",df_rolled[['PPG','Retailer_Name']].drop_duplicates().shape[0])"
   ]
  },
  {
   "cell_type": "code",
   "execution_count": 6,
   "metadata": {},
   "outputs": [],
   "source": [
    "model_levels = [\"PPG\",\"Retailer_Name\"] "
   ]
  },
  {
   "cell_type": "code",
   "execution_count": 7,
   "metadata": {},
   "outputs": [],
   "source": [
    "#Log of price and sales to  build log-log model\n",
    "df_rolled['log_sales'] = np.log(df_rolled['Total_Volume'])\n",
    "df_rolled['log_price'] = np.log(df_rolled['Avg_Price_Per_KG'])"
   ]
  },
  {
   "cell_type": "code",
   "execution_count": 8,
   "metadata": {},
   "outputs": [
    {
     "name": "stdout",
     "output_type": "stream",
     "text": [
      "['log_sales', 'log_price', 'Distribution_wtd', 'Category_Seasonality', 'Category_Trend']\n"
     ]
    },
    {
     "data": {
      "text/plain": [
       "log_sales                  0\n",
       "log_price                  0\n",
       "Distribution_wtd        1846\n",
       "Category_Seasonality       0\n",
       "Category_Trend             0\n",
       "dtype: int64"
      ]
     },
     "execution_count": 8,
     "metadata": {},
     "output_type": "execute_result"
    }
   ],
   "source": [
    "var_dep = 'log_sales'\n",
    "vars_ind = ['log_price','Distribution_wtd','Category_Seasonality','Category_Trend']\n",
    "vars_all = [var_dep] + vars_ind\n",
    "print(vars_all)\n",
    "\n",
    "df_rolled[vars_all].isnull().sum()"
   ]
  },
  {
   "cell_type": "code",
   "execution_count": 9,
   "metadata": {},
   "outputs": [],
   "source": [
    "#Distribution can be replaced with mean for now, should be okay more or less\n",
    "df_rolled['Distribution_numeric'] = df_rolled['Distribution_numeric'].fillna(df_rolled.groupby(model_levels)['Distribution_numeric'].transform('mean'))\n",
    "df_rolled['Distribution_wtd'] = df_rolled['Distribution_wtd'].fillna(df_rolled.groupby(model_levels)['Distribution_wtd'].transform('mean'))"
   ]
  },
  {
   "cell_type": "code",
   "execution_count": 10,
   "metadata": {},
   "outputs": [
    {
     "data": {
      "text/plain": [
       "(70104, 33)"
      ]
     },
     "execution_count": 10,
     "metadata": {},
     "output_type": "execute_result"
    }
   ],
   "source": [
    "df_rolled = df_rolled.loc[~df_rolled['Distribution_numeric'].isna()]\n",
    "df_rolled = df_rolled.loc[~df_rolled['Distribution_wtd'].isna()]\n",
    "df_rolled.shape"
   ]
  },
  {
   "cell_type": "code",
   "execution_count": 11,
   "metadata": {},
   "outputs": [
    {
     "data": {
      "text/html": [
       "<div>\n",
       "<style scoped>\n",
       "    .dataframe tbody tr th:only-of-type {\n",
       "        vertical-align: middle;\n",
       "    }\n",
       "\n",
       "    .dataframe tbody tr th {\n",
       "        vertical-align: top;\n",
       "    }\n",
       "\n",
       "    .dataframe thead th {\n",
       "        text-align: right;\n",
       "    }\n",
       "</style>\n",
       "<table border=\"1\" class=\"dataframe\">\n",
       "  <thead>\n",
       "    <tr style=\"text-align: right;\">\n",
       "      <th></th>\n",
       "      <th>PPG</th>\n",
       "      <th>Retailer_Name</th>\n",
       "      <th>log_price</th>\n",
       "      <th>Distribution_wtd</th>\n",
       "      <th>Category_Seasonality</th>\n",
       "      <th>Category_Trend</th>\n",
       "      <th>intercept</th>\n",
       "    </tr>\n",
       "  </thead>\n",
       "  <tbody>\n",
       "    <tr>\n",
       "      <th>0</th>\n",
       "      <td>BRAND A SUBBRAND A.1 ADULT ZAK GROENTE_KIP_RIJ...</td>\n",
       "      <td>Retailer A</td>\n",
       "      <td>2.469018</td>\n",
       "      <td>0.080496</td>\n",
       "      <td>-0.097917</td>\n",
       "      <td>-0.057558</td>\n",
       "      <td>0.959090</td>\n",
       "    </tr>\n",
       "    <tr>\n",
       "      <th>1</th>\n",
       "      <td>BRAND A SUBBRAND A.1 ADULT ZAK GROENTE_KIP_RIJ...</td>\n",
       "      <td>Retailer B</td>\n",
       "      <td>-2.670311</td>\n",
       "      <td>0.029349</td>\n",
       "      <td>0.025018</td>\n",
       "      <td>-0.056850</td>\n",
       "      <td>6.036856</td>\n",
       "    </tr>\n",
       "    <tr>\n",
       "      <th>2</th>\n",
       "      <td>BRAND A SUBBRAND A.1 ADULT ZAK GROENTE_KIP_RIJ...</td>\n",
       "      <td>Retailer C</td>\n",
       "      <td>-2.578562</td>\n",
       "      <td>0.061256</td>\n",
       "      <td>0.011250</td>\n",
       "      <td>0.005565</td>\n",
       "      <td>6.801467</td>\n",
       "    </tr>\n",
       "    <tr>\n",
       "      <th>3</th>\n",
       "      <td>BRAND A SUBBRAND A.2 ADULT ZAK GRONT_RND 1400_G</td>\n",
       "      <td>Retailer A</td>\n",
       "      <td>-1.877735</td>\n",
       "      <td>0.056422</td>\n",
       "      <td>-0.026015</td>\n",
       "      <td>-0.060092</td>\n",
       "      <td>6.019304</td>\n",
       "    </tr>\n",
       "    <tr>\n",
       "      <th>4</th>\n",
       "      <td>BRAND A SUBBRAND A.2 ADULT ZAK GRONT_RND 1400_G</td>\n",
       "      <td>Retailer B</td>\n",
       "      <td>-3.529319</td>\n",
       "      <td>0.023102</td>\n",
       "      <td>0.046967</td>\n",
       "      <td>-0.019693</td>\n",
       "      <td>7.836755</td>\n",
       "    </tr>\n",
       "  </tbody>\n",
       "</table>\n",
       "</div>"
      ],
      "text/plain": [
       "                                                 PPG Retailer_Name  log_price  \\\n",
       "0  BRAND A SUBBRAND A.1 ADULT ZAK GROENTE_KIP_RIJ...    Retailer A   2.469018   \n",
       "1  BRAND A SUBBRAND A.1 ADULT ZAK GROENTE_KIP_RIJ...    Retailer B  -2.670311   \n",
       "2  BRAND A SUBBRAND A.1 ADULT ZAK GROENTE_KIP_RIJ...    Retailer C  -2.578562   \n",
       "3    BRAND A SUBBRAND A.2 ADULT ZAK GRONT_RND 1400_G    Retailer A  -1.877735   \n",
       "4    BRAND A SUBBRAND A.2 ADULT ZAK GRONT_RND 1400_G    Retailer B  -3.529319   \n",
       "\n",
       "   Distribution_wtd  Category_Seasonality  Category_Trend  intercept  \n",
       "0          0.080496             -0.097917       -0.057558   0.959090  \n",
       "1          0.029349              0.025018       -0.056850   6.036856  \n",
       "2          0.061256              0.011250        0.005565   6.801467  \n",
       "3          0.056422             -0.026015       -0.060092   6.019304  \n",
       "4          0.023102              0.046967       -0.019693   7.836755  "
      ]
     },
     "execution_count": 11,
     "metadata": {},
     "output_type": "execute_result"
    }
   ],
   "source": [
    "def regress(data, yvar, xvars):\n",
    "    Y = data[yvar]\n",
    "    X = data[xvars]\n",
    "    X['intercept'] = 1.\n",
    "    result = sm.OLS(Y, X).fit()\n",
    "    return result.params\n",
    "\n",
    "results_summary_coeffs = df_rolled.groupby(model_levels,as_index=False).apply(regress, var_dep, vars_ind)\n",
    "results_summary_coeffs.head()"
   ]
  },
  {
   "cell_type": "code",
   "execution_count": 12,
   "metadata": {},
   "outputs": [
    {
     "data": {
      "text/html": [
       "<div>\n",
       "<style scoped>\n",
       "    .dataframe tbody tr th:only-of-type {\n",
       "        vertical-align: middle;\n",
       "    }\n",
       "\n",
       "    .dataframe tbody tr th {\n",
       "        vertical-align: top;\n",
       "    }\n",
       "\n",
       "    .dataframe thead th {\n",
       "        text-align: right;\n",
       "    }\n",
       "</style>\n",
       "<table border=\"1\" class=\"dataframe\">\n",
       "  <thead>\n",
       "    <tr style=\"text-align: right;\">\n",
       "      <th></th>\n",
       "      <th>PPG</th>\n",
       "      <th>Retailer_Name</th>\n",
       "      <th>RSquared</th>\n",
       "    </tr>\n",
       "  </thead>\n",
       "  <tbody>\n",
       "    <tr>\n",
       "      <th>0</th>\n",
       "      <td>BRAND A SUBBRAND A.1 ADULT ZAK GROENTE_KIP_RIJ...</td>\n",
       "      <td>Retailer A</td>\n",
       "      <td>59.358799</td>\n",
       "    </tr>\n",
       "    <tr>\n",
       "      <th>1</th>\n",
       "      <td>BRAND A SUBBRAND A.1 ADULT ZAK GROENTE_KIP_RIJ...</td>\n",
       "      <td>Retailer B</td>\n",
       "      <td>87.075018</td>\n",
       "    </tr>\n",
       "    <tr>\n",
       "      <th>2</th>\n",
       "      <td>BRAND A SUBBRAND A.1 ADULT ZAK GROENTE_KIP_RIJ...</td>\n",
       "      <td>Retailer C</td>\n",
       "      <td>71.562287</td>\n",
       "    </tr>\n",
       "    <tr>\n",
       "      <th>3</th>\n",
       "      <td>BRAND A SUBBRAND A.2 ADULT ZAK GRONT_RND 1400_G</td>\n",
       "      <td>Retailer A</td>\n",
       "      <td>97.760265</td>\n",
       "    </tr>\n",
       "    <tr>\n",
       "      <th>4</th>\n",
       "      <td>BRAND A SUBBRAND A.2 ADULT ZAK GRONT_RND 1400_G</td>\n",
       "      <td>Retailer B</td>\n",
       "      <td>89.204141</td>\n",
       "    </tr>\n",
       "  </tbody>\n",
       "</table>\n",
       "</div>"
      ],
      "text/plain": [
       "                                                 PPG Retailer_Name   RSquared\n",
       "0  BRAND A SUBBRAND A.1 ADULT ZAK GROENTE_KIP_RIJ...    Retailer A  59.358799\n",
       "1  BRAND A SUBBRAND A.1 ADULT ZAK GROENTE_KIP_RIJ...    Retailer B  87.075018\n",
       "2  BRAND A SUBBRAND A.1 ADULT ZAK GROENTE_KIP_RIJ...    Retailer C  71.562287\n",
       "3    BRAND A SUBBRAND A.2 ADULT ZAK GRONT_RND 1400_G    Retailer A  97.760265\n",
       "4    BRAND A SUBBRAND A.2 ADULT ZAK GRONT_RND 1400_G    Retailer B  89.204141"
      ]
     },
     "execution_count": 12,
     "metadata": {},
     "output_type": "execute_result"
    }
   ],
   "source": [
    "def regress(data, yvar, xvars):\n",
    "    Y = data[yvar]\n",
    "    X = data[xvars]\n",
    "    X['intercept'] = 1.\n",
    "    result = sm.OLS(Y, X).fit()\n",
    "    return result.rsquared\n",
    "\n",
    "results_summary_score = df_rolled.groupby(model_levels,as_index=False).apply(regress, var_dep, vars_ind)\n",
    "results_summary_score.columns = ['PPG','Retailer_Name','RSquared']\n",
    "results_summary_score.RSquared = results_summary_score.RSquared*100 \n",
    "results_summary_score.head()"
   ]
  },
  {
   "cell_type": "code",
   "execution_count": 13,
   "metadata": {},
   "outputs": [],
   "source": [
    "def calculate_mape(pred,actual):    \n",
    "    actual, pred = np.array(actual), np.array(pred)\n",
    "    return np.mean(np.abs((actual - pred) / actual)) * 100"
   ]
  },
  {
   "cell_type": "code",
   "execution_count": 14,
   "metadata": {},
   "outputs": [],
   "source": [
    "results_summary_mape = pd.DataFrame(columns=['PPG_Retailer_Combo','MAPE'])\n",
    "\n",
    "df_rolled['PPG_Retailer_Combo'] = df_rolled['PPG'] +  \"*\" + df_rolled['Retailer_Name']\n",
    "\n",
    "for each_combo in df_rolled['PPG_Retailer_Combo'].unique().tolist():\n",
    "    curr_df = df_rolled.loc[df_rolled['PPG_Retailer_Combo']==each_combo]\n",
    "    Y = curr_df[var_dep]\n",
    "    X = curr_df[vars_ind]\n",
    "    X['intercept'] = 1.\n",
    "    result = sm.OLS(Y, X).fit()\n",
    "    curr_df['predicted'] = result.get_prediction(X).summary_frame()['mean']\n",
    "    curr_mape = calculate_mape(curr_df['predicted'] ,curr_df[var_dep])\n",
    "    results_summary_mape.loc[len(results_summary_mape)] = [each_combo,curr_mape]\n",
    "    # print(curr_mape)\n"
   ]
  },
  {
   "cell_type": "code",
   "execution_count": 15,
   "metadata": {},
   "outputs": [
    {
     "data": {
      "text/html": [
       "<div>\n",
       "<style scoped>\n",
       "    .dataframe tbody tr th:only-of-type {\n",
       "        vertical-align: middle;\n",
       "    }\n",
       "\n",
       "    .dataframe tbody tr th {\n",
       "        vertical-align: top;\n",
       "    }\n",
       "\n",
       "    .dataframe thead th {\n",
       "        text-align: right;\n",
       "    }\n",
       "</style>\n",
       "<table border=\"1\" class=\"dataframe\">\n",
       "  <thead>\n",
       "    <tr style=\"text-align: right;\">\n",
       "      <th></th>\n",
       "      <th>MAPE</th>\n",
       "      <th>PPG</th>\n",
       "      <th>Retailer_Name</th>\n",
       "    </tr>\n",
       "  </thead>\n",
       "  <tbody>\n",
       "    <tr>\n",
       "      <th>0</th>\n",
       "      <td>1.017005</td>\n",
       "      <td>BRAND D SUBBRAND D.1.1 ADULT PAK GRONT_KP_RND ...</td>\n",
       "      <td>Retailer A</td>\n",
       "    </tr>\n",
       "    <tr>\n",
       "      <th>1</th>\n",
       "      <td>1.407051</td>\n",
       "      <td>BRAND D SUBBRAND D.1.1 ADULT PAK GRONT_KP_RND ...</td>\n",
       "      <td>Retailer B</td>\n",
       "    </tr>\n",
       "    <tr>\n",
       "      <th>2</th>\n",
       "      <td>0.585851</td>\n",
       "      <td>BRAND D SUBBRAND D.1.1 ADULT PAK GRONT_KP_RND ...</td>\n",
       "      <td>Retailer C</td>\n",
       "    </tr>\n",
       "    <tr>\n",
       "      <th>3</th>\n",
       "      <td>40.552355</td>\n",
       "      <td>BRAND D SUBBRAND D.1.3 KITTEN PAK GRANN_KP_MLK...</td>\n",
       "      <td>Retailer B</td>\n",
       "    </tr>\n",
       "    <tr>\n",
       "      <th>4</th>\n",
       "      <td>36.299911</td>\n",
       "      <td>BRAND D SUBBRAND D.1.3 KITTEN PAK GRANN_KP_MLK...</td>\n",
       "      <td>Retailer C</td>\n",
       "    </tr>\n",
       "  </tbody>\n",
       "</table>\n",
       "</div>"
      ],
      "text/plain": [
       "        MAPE                                                PPG Retailer_Name\n",
       "0   1.017005  BRAND D SUBBRAND D.1.1 ADULT PAK GRONT_KP_RND ...    Retailer A\n",
       "1   1.407051  BRAND D SUBBRAND D.1.1 ADULT PAK GRONT_KP_RND ...    Retailer B\n",
       "2   0.585851  BRAND D SUBBRAND D.1.1 ADULT PAK GRONT_KP_RND ...    Retailer C\n",
       "3  40.552355  BRAND D SUBBRAND D.1.3 KITTEN PAK GRANN_KP_MLK...    Retailer B\n",
       "4  36.299911  BRAND D SUBBRAND D.1.3 KITTEN PAK GRANN_KP_MLK...    Retailer C"
      ]
     },
     "execution_count": 15,
     "metadata": {},
     "output_type": "execute_result"
    }
   ],
   "source": [
    "results_summary_mape[['PPG','Retailer_Name']] = results_summary_mape['PPG_Retailer_Combo'].str.split(\"*\",expand=True)\n",
    "del results_summary_mape['PPG_Retailer_Combo']\n",
    "results_summary_mape.head()"
   ]
  },
  {
   "cell_type": "code",
   "execution_count": 16,
   "metadata": {},
   "outputs": [
    {
     "data": {
      "text/html": [
       "<div>\n",
       "<style scoped>\n",
       "    .dataframe tbody tr th:only-of-type {\n",
       "        vertical-align: middle;\n",
       "    }\n",
       "\n",
       "    .dataframe tbody tr th {\n",
       "        vertical-align: top;\n",
       "    }\n",
       "\n",
       "    .dataframe thead th {\n",
       "        text-align: right;\n",
       "    }\n",
       "</style>\n",
       "<table border=\"1\" class=\"dataframe\">\n",
       "  <thead>\n",
       "    <tr style=\"text-align: right;\">\n",
       "      <th></th>\n",
       "      <th>PPG</th>\n",
       "      <th>Retailer_Name</th>\n",
       "      <th>log_price</th>\n",
       "      <th>Distribution_wtd</th>\n",
       "      <th>Category_Seasonality</th>\n",
       "      <th>Category_Trend</th>\n",
       "      <th>intercept</th>\n",
       "      <th>RSquared</th>\n",
       "      <th>MAPE</th>\n",
       "    </tr>\n",
       "  </thead>\n",
       "  <tbody>\n",
       "    <tr>\n",
       "      <th>0</th>\n",
       "      <td>BRAND A SUBBRAND A.1 ADULT ZAK GROENTE_KIP_RIJ...</td>\n",
       "      <td>Retailer A</td>\n",
       "      <td>2.469018</td>\n",
       "      <td>0.080496</td>\n",
       "      <td>-0.097917</td>\n",
       "      <td>-0.057558</td>\n",
       "      <td>0.959090</td>\n",
       "      <td>59.358799</td>\n",
       "      <td>35.015876</td>\n",
       "    </tr>\n",
       "    <tr>\n",
       "      <th>1</th>\n",
       "      <td>BRAND A SUBBRAND A.1 ADULT ZAK GROENTE_KIP_RIJ...</td>\n",
       "      <td>Retailer B</td>\n",
       "      <td>-2.670311</td>\n",
       "      <td>0.029349</td>\n",
       "      <td>0.025018</td>\n",
       "      <td>-0.056850</td>\n",
       "      <td>6.036856</td>\n",
       "      <td>87.075018</td>\n",
       "      <td>2.078860</td>\n",
       "    </tr>\n",
       "    <tr>\n",
       "      <th>2</th>\n",
       "      <td>BRAND A SUBBRAND A.1 ADULT ZAK GROENTE_KIP_RIJ...</td>\n",
       "      <td>Retailer C</td>\n",
       "      <td>-2.578562</td>\n",
       "      <td>0.061256</td>\n",
       "      <td>0.011250</td>\n",
       "      <td>0.005565</td>\n",
       "      <td>6.801467</td>\n",
       "      <td>71.562287</td>\n",
       "      <td>1.026281</td>\n",
       "    </tr>\n",
       "    <tr>\n",
       "      <th>3</th>\n",
       "      <td>BRAND A SUBBRAND A.2 ADULT ZAK GRONT_RND 1400_G</td>\n",
       "      <td>Retailer A</td>\n",
       "      <td>-1.877735</td>\n",
       "      <td>0.056422</td>\n",
       "      <td>-0.026015</td>\n",
       "      <td>-0.060092</td>\n",
       "      <td>6.019304</td>\n",
       "      <td>97.760265</td>\n",
       "      <td>2.442645</td>\n",
       "    </tr>\n",
       "    <tr>\n",
       "      <th>4</th>\n",
       "      <td>BRAND A SUBBRAND A.2 ADULT ZAK GRONT_RND 1400_G</td>\n",
       "      <td>Retailer B</td>\n",
       "      <td>-3.529319</td>\n",
       "      <td>0.023102</td>\n",
       "      <td>0.046967</td>\n",
       "      <td>-0.019693</td>\n",
       "      <td>7.836755</td>\n",
       "      <td>89.204141</td>\n",
       "      <td>2.384168</td>\n",
       "    </tr>\n",
       "  </tbody>\n",
       "</table>\n",
       "</div>"
      ],
      "text/plain": [
       "                                                 PPG Retailer_Name  log_price  \\\n",
       "0  BRAND A SUBBRAND A.1 ADULT ZAK GROENTE_KIP_RIJ...    Retailer A   2.469018   \n",
       "1  BRAND A SUBBRAND A.1 ADULT ZAK GROENTE_KIP_RIJ...    Retailer B  -2.670311   \n",
       "2  BRAND A SUBBRAND A.1 ADULT ZAK GROENTE_KIP_RIJ...    Retailer C  -2.578562   \n",
       "3    BRAND A SUBBRAND A.2 ADULT ZAK GRONT_RND 1400_G    Retailer A  -1.877735   \n",
       "4    BRAND A SUBBRAND A.2 ADULT ZAK GRONT_RND 1400_G    Retailer B  -3.529319   \n",
       "\n",
       "   Distribution_wtd  Category_Seasonality  Category_Trend  intercept  \\\n",
       "0          0.080496             -0.097917       -0.057558   0.959090   \n",
       "1          0.029349              0.025018       -0.056850   6.036856   \n",
       "2          0.061256              0.011250        0.005565   6.801467   \n",
       "3          0.056422             -0.026015       -0.060092   6.019304   \n",
       "4          0.023102              0.046967       -0.019693   7.836755   \n",
       "\n",
       "    RSquared       MAPE  \n",
       "0  59.358799  35.015876  \n",
       "1  87.075018   2.078860  \n",
       "2  71.562287   1.026281  \n",
       "3  97.760265   2.442645  \n",
       "4  89.204141   2.384168  "
      ]
     },
     "execution_count": 16,
     "metadata": {},
     "output_type": "execute_result"
    }
   ],
   "source": [
    "results_combined = pd.merge(results_summary_coeffs,results_summary_score)\n",
    "results_combined = pd.merge(results_combined,results_summary_mape)\n",
    "results_combined.head()"
   ]
  },
  {
   "cell_type": "code",
   "execution_count": 17,
   "metadata": {},
   "outputs": [
    {
     "name": "stdout",
     "output_type": "stream",
     "text": [
      "(532, 9)\n",
      "(350, 9)\n"
     ]
    }
   ],
   "source": [
    "results_combined_orig = results_combined.copy(deep=True)\n",
    "print(results_combined.shape)\n",
    "results_combined = results_combined.loc[(results_combined['log_price']<=0)&(results_combined['log_price']>=-10)]\n",
    "results_combined = results_combined.loc[results_combined['RSquared']<=100]\n",
    "results_combined = results_combined.loc[results_combined['MAPE']<=100]\n",
    "print(results_combined.shape)"
   ]
  },
  {
   "cell_type": "code",
   "execution_count": 18,
   "metadata": {},
   "outputs": [
    {
     "data": {
      "application/vnd.plotly.v1+json": {
       "config": {
        "plotlyServerURL": "https://plot.ly"
       },
       "data": [
        {
         "customdata": [
          [
           "BRAND A SUBBRAND A.1 ADULT ZAK GROENTE_KIP_RIJST 1500_G",
           "Retailer B"
          ],
          [
           "BRAND A SUBBRAND A.1 ADULT ZAK GROENTE_KIP_RIJST 1500_G",
           "Retailer C"
          ],
          [
           "BRAND A SUBBRAND A.2 ADULT ZAK GRONT_RND 1400_G",
           "Retailer A"
          ],
          [
           "BRAND A SUBBRAND A.2 ADULT ZAK GRONT_RND 1400_G",
           "Retailer B"
          ],
          [
           "BRAND A SUBBRAND A.2 ADULT ZAK GRONT_RND 1400_G",
           "Retailer C"
          ],
          [
           "BRAND A SUBBRAND A.3 ADULT ZAK GRANN_RND_TNGRNTN 1500_G",
           "Retailer B"
          ],
          [
           "BRAND A SUBBRAND A.3 ADULT ZAK GRANN_RND_TNGRNTN 1500_G",
           "Retailer C"
          ],
          [
           "BRAND A SUBBRAND A.4 ADULT POUCH KIP_RND 400_G_4_ST",
           "Retailer A"
          ],
          [
           "BRAND A SUBBRAND A.4 ADULT POUCH KIP_RND 400_G_4_ST",
           "Retailer B"
          ],
          [
           "BRAND A SUBBRAND A.4 ADULT POUCH KIP_RND 400_G_4_ST",
           "Retailer C"
          ],
          [
           "BRAND A SUBBRAND A.4 ADULT POUCH KLK_LM 400_G_4_ST",
           "Retailer A"
          ],
          [
           "BRAND A SUBBRAND A.4 ADULT POUCH KLK_LM 400_G_4_ST",
           "Retailer B"
          ],
          [
           "BRAND B SUBBRAND B.1 ADULT BLIK LAM_RJST_WRTL 400_G",
           "Retailer B"
          ],
          [
           "BRAND B SUBBRAND B.1 ADULT POUCH RND_RD_KP_WRT_LM 1200_G_12_ST",
           "Retailer A"
          ],
          [
           "BRAND B SUBBRAND B.1 ADULT POUCH RND_RD_KP_WRT_LM 1200_G_12_ST",
           "Retailer B"
          ],
          [
           "BRAND B SUBBRAND B.1 ADULT POUCH RND_WRT_KP_RWT_LM_SPRZBNN 1200_G_12_ST",
           "Retailer B"
          ],
          [
           "BRAND B SUBBRAND B.1 ADULT POUCH RND_WRT_KP_RWT_LM_SPRZBNN 1200_G_12_ST",
           "Retailer C"
          ],
          [
           "BRAND B SUBBRAND B.1 ADULT ZAK GROENTE_KIP 3000_G",
           "Retailer A"
          ],
          [
           "BRAND B SUBBRAND B.1 ADULT ZAK GROENTE_KIP 3000_G",
           "Retailer B"
          ],
          [
           "BRAND B SUBBRAND B.1 ADULT ZAK GROENTE_KIP 3000_G",
           "Retailer C"
          ],
          [
           "BRAND B SUBBRAND B.2 ADULT ZAK GROENTE_KIP 1500_G",
           "Retailer A"
          ],
          [
           "BRAND B SUBBRAND B.2 ADULT ZAK GROENTE_KIP 1500_G",
           "Retailer C"
          ],
          [
           "BRAND B SUBBRAND B.2 ADULT ZAK RUND 1500_G",
           "Retailer A"
          ],
          [
           "BRAND B SUBBRAND B.2 ADULT ZAK RUND 1500_G",
           "Retailer B"
          ],
          [
           "BRAND B SUBBRAND B.2 ADULT ZAK RUND 1500_G",
           "Retailer C"
          ],
          [
           "BRAND B SUBBRAND B.3 ADULT BLIK KIP_PST_WRTL 400_G",
           "Retailer A"
          ],
          [
           "BRAND C CATISFACTIONS ADULT ZAK KAAS 60_G",
           "Retailer A"
          ],
          [
           "BRAND C CATISFACTIONS ADULT ZAK KIP 60_G",
           "Retailer A"
          ],
          [
           "BRAND C CATISFACTIONS ADULT ZAK ZALM 60_G",
           "Retailer A"
          ],
          [
           "BRAND D SUBBRAND D.1.1 ADULT PAK GRONT_KP_RND 1000_G",
           "Retailer A"
          ],
          [
           "BRAND D SUBBRAND D.1.1 ADULT PAK GRONT_KP_RND 1000_G",
           "Retailer B"
          ],
          [
           "BRAND D SUBBRAND D.1.1 ADULT PAK GRONT_KP_RND 1000_G",
           "Retailer C"
          ],
          [
           "BRAND D SUBBRAND D.1.2 ADULT PAK GROENTE_KIP 1000_G",
           "Retailer A"
          ],
          [
           "BRAND D SUBBRAND D.1.2 ADULT PAK GROENTE_KIP 1000_G",
           "Retailer B"
          ],
          [
           "BRAND D SUBBRAND D.1.2 ADULT PAK GROENTE_KIP 1000_G",
           "Retailer C"
          ],
          [
           "BRAND D SUBBRAND D.1.3 KITTEN PAK KIP_MLK_GRNT 1000_G",
           "Retailer B"
          ],
          [
           "BRAND D SUBBRAND D.1.6 ADULT PAK GRONT_ZLM 1000_G",
           "Retailer A"
          ],
          [
           "BRAND D SUBBRAND D.1.6 ADULT PAK GRONT_ZLM 1000_G",
           "Retailer B"
          ],
          [
           "BRAND D SUBBRAND D.1.6 ADULT PAK GRONT_ZLM 1000_G",
           "Retailer C"
          ],
          [
           "BRAND D SUBBRAND D.1.6 ADULT PAK ZALM_KLVS_GRNT 1000_G",
           "Retailer A"
          ],
          [
           "BRAND D SUBBRAND D.1.7 SENIOR PAK GROENTE_KIP 1000_G",
           "Retailer A"
          ],
          [
           "BRAND D SUBBRAND D.1.7 SENIOR PAK GROENTE_KIP 1000_G",
           "Retailer B"
          ],
          [
           "BRAND D SUBBRAND D.1.7 SENIOR PAK GROENTE_KIP 1000_G",
           "Retailer C"
          ],
          [
           "BRAND D SUBBRAND D.2 ADULT POUCH KOOLV_ZLM_HR_FR_SR_MK 1200_G_12_ST",
           "Retailer A"
          ],
          [
           "BRAND D SUBBRAND D.2 ADULT POUCH KOOLV_ZLM_HR_FR_SR_MK 1200_G_12_ST",
           "Retailer C"
          ],
          [
           "BRAND D SUBBRAND D.2 ADULT POUCH RND_GV_KP_NR_KLV_ZLM_HR_FR 1200_G_12_ST",
           "Retailer A"
          ],
          [
           "BRAND D SUBBRAND D.2 ADULT POUCH RND_KP_LM_KN 1200_G_12_ST",
           "Retailer A"
          ],
          [
           "BRAND D SUBBRAND D.2 ADULT POUCH RND_KP_LM_KN 1200_G_12_ST",
           "Retailer B"
          ],
          [
           "BRAND D SUBBRAND D.2 ADULT POUCH RND_KP_TN_ZLM 1200_G_12_ST",
           "Retailer A"
          ],
          [
           "BRAND D SUBBRAND D.2 ADULT POUCH RND_WRT_KP_TM_ZLM_CR_FR_SPR 1200_G_12_ST",
           "Retailer A"
          ],
          [
           "BRAND D SUBBRAND D.2 ADULT POUCH RND_WRT_KP_TM_ZLM_CR_FR_SPR 1200_G_12_ST",
           "Retailer B"
          ],
          [
           "BRAND D SUBBRAND D.2 ADULT POUCH TON_ZLM_KB_SCHL 1200_G_12_ST",
           "Retailer A"
          ],
          [
           "BRAND D SUBBRAND D.2 ADULT POUCH TON_ZLM_KB_SCHL 1200_G_12_ST",
           "Retailer B"
          ],
          [
           "BRAND D SUBBRAND D.2 KITTEN POUCH KIP_RND_TN_ZLM 1200_G_12_ST",
           "Retailer A"
          ],
          [
           "BRAND D SUBBRAND D.2 SENIOR POUCH FOR_TN_SR_ZLM 1200_G_12_ST",
           "Retailer A"
          ],
          [
           "BRAND D SUBBRAND D.2 SENIOR POUCH FOR_TN_SR_ZLM 1200_G_12_ST",
           "Retailer B"
          ],
          [
           "BRAND D SUBBRAND D.2 SENIOR POUCH FOR_TN_SR_ZLM 1200_G_12_ST",
           "Retailer C"
          ],
          [
           "BRAND D SUBBRAND D.2 SENIOR POUCH KIP_RND_TN_ZLM 1200_G_12_ST",
           "Retailer B"
          ],
          [
           "BRAND D SUBBRAND D.3 ADULT BLIK EEND_GVGLT 400_G",
           "Retailer B"
          ],
          [
           "BRAND D SUBBRAND D.3 ADULT BLIK FORL_ZLM 400_G",
           "Retailer B"
          ],
          [
           "BRAND D SUBBRAND D.3 ADULT BLIK GEVGLT_RND 400_G",
           "Retailer A"
          ],
          [
           "BRAND D SUBBRAND D.3 ADULT BLIK GEVGLT_RND 400_G",
           "Retailer B"
          ],
          [
           "BRAND D SUBBRAND D.3 ADULT BLIK KABLJW_SRDN 400_G",
           "Retailer B"
          ],
          [
           "BRAND D SUBBRAND D.3 ADULT BLIK KP_RND 400_G",
           "Retailer A"
          ],
          [
           "BRAND D SUBBRAND D.3 ADULT BLIK LEVR_RND 400_G",
           "Retailer B"
          ],
          [
           "BRAND D SUBBRAND D.3 ADULT BLIK RUND_HRT_GVGLT 400_G",
           "Retailer A"
          ],
          [
           "BRAND D SUBBRAND D.3 ADULT BLIK TOMAAT_TONIJN 400_G",
           "Retailer B"
          ],
          [
           "BRAND D SUBBRAND D.3 ADULT BLIK TONJN_ZLM 400_G",
           "Retailer B"
          ],
          [
           "BRAND D SUBBRAND D.3 ADULT POUCH EEND_LM_KLK_LV_KP_NR_KN_GV 1200_G_12_ST",
           "Retailer B"
          ],
          [
           "BRAND D SUBBRAND D.3 ADULT POUCH EEND_LM_KLK_LV_KP_NR_KN_GV 1200_G_12_ST",
           "Retailer C"
          ],
          [
           "BRAND D SUBBRAND D.3 ADULT POUCH KAB_TN_SR_ZVS_FR_ZLM_GR_SCHL 1200_G_12_ST",
           "Retailer A"
          ],
          [
           "BRAND D SUBBRAND D.3 ADULT POUCH KAB_TN_SR_ZVS_FR_ZLM_GR_SCHL 1200_G_12_ST",
           "Retailer B"
          ],
          [
           "BRAND D SUBBRAND D.3 ADULT POUCH RND_GV_KP_KLK_KN_LV_ND_LM 1200_G_12_ST",
           "Retailer A"
          ],
          [
           "BRAND D SUBBRAND D.3 ADULT POUCH RND_GV_KP_KLK_KN_LV_ND_LM 1200_G_12_ST",
           "Retailer B"
          ],
          [
           "BRAND D SUBBRAND D.4 SENIOR POUCH KLK_KP_RND_ZLM 1200_G_12_ST",
           "Retailer B"
          ],
          [
           "BRAND D SUBBRAND D.4 SENIOR POUCH KLK_KP_RND_ZLM 1200_G_12_ST",
           "Retailer C"
          ],
          [
           "BRAND D SUBBRAND D.5 ADULT POUCH KAB_TN_SCHL 288_G_6_ST",
           "Retailer A"
          ],
          [
           "BRAND D SUBBRAND D.5 ADULT POUCH KAB_TN_SCHL 288_G_6_ST",
           "Retailer B"
          ],
          [
           "BRAND D SUBBRAND D.5 ADULT POUCH KAB_TN_SCHL 288_G_6_ST",
           "Retailer C"
          ],
          [
           "BRAND D SUBBRAND D.5 ADULT POUCH RND_KP_LM 288_G_6_ST",
           "Retailer A"
          ],
          [
           "BRAND D SUBBRAND D.5 ADULT POUCH RND_KP_LM 288_G_6_ST",
           "Retailer B"
          ],
          [
           "BRAND D SUBBRAND D.6 ADULT ZAK FORL_ZLM 45_G",
           "Retailer A"
          ],
          [
           "BRAND D SUBBRAND D.6 ADULT ZAK KP_RND 45_G",
           "Retailer A"
          ],
          [
           "BRAND D SUBBRAND D.7 ADULT ZAK KIP_KS_KLKN 60_G",
           "Retailer A"
          ],
          [
           "BRAND D SUBBRAND D.7 ADULT ZAK KIP_LVR_KLKN 60_G",
           "Retailer A"
          ],
          [
           "BRAND D SUBBRAND D.7 ADULT ZAK ZALM_KLVS_FRL 60_G",
           "Retailer A"
          ],
          [
           "BRAND E SUBBRAND D.2 ADULT ZAK GEVGLT_GRNT_RJST 1500_G",
           "Retailer A"
          ],
          [
           "BRAND E SUBBRAND D.2 ADULT ZAK GEVGLT_GRNT_RJST 1500_G",
           "Retailer C"
          ],
          [
           "BRAND E SUBBRAND D.2 ADULT ZAK RUND_WRTL_GRNN 1500_G",
           "Retailer B"
          ],
          [
           "BRAND E SUBBRAND D.3 ADULT ZAK GEVGLT_GRNN_GRNT 1000_G",
           "Retailer A"
          ],
          [
           "BRAND E SUBBRAND D.3 ADULT ZAK GEVGLT_GRNN_GRNT 1000_G",
           "Retailer B"
          ],
          [
           "BRAND F SUBBRAND F.1 ADULT BLIK EEND_KLKN 85_G",
           "Retailer C"
          ],
          [
           "BRAND F SUBBRAND F.1 ADULT BLIK KALKOEN 85_G",
           "Retailer A"
          ],
          [
           "BRAND F SUBBRAND F.1 ADULT BLIK KALKOEN 85_G",
           "Retailer B"
          ],
          [
           "BRAND F SUBBRAND F.1 ADULT BLIK KIP 85_G",
           "Retailer B"
          ],
          [
           "BRAND F SUBBRAND F.1 ADULT BLIK KIP_KN_NR_ZLM 680_G_8_ST",
           "Retailer B"
          ],
          [
           "BRAND F SUBBRAND F.1 ADULT BLIK KIP_WRTL 85_G",
           "Retailer A"
          ],
          [
           "BRAND F SUBBRAND F.1 ADULT BLIK KIP_WRTL 85_G",
           "Retailer B"
          ],
          [
           "BRAND F SUBBRAND F.1 ADULT BLIK KIP_ZALM 85_G",
           "Retailer C"
          ],
          [
           "BRAND F SUBBRAND F.1 ADULT BLIK KIP_ZLM_KN_NR 1020_G_12_ST",
           "Retailer B"
          ],
          [
           "BRAND F SUBBRAND F.1 ADULT BLIK KIP_ZLM_KN_NR 1020_G_12_ST",
           "Retailer C"
          ],
          [
           "BRAND F SUBBRAND F.1 ADULT BLIK RND_KLK_ND_ZLM_LV_KP 1020_G_12_ST",
           "Retailer A"
          ],
          [
           "BRAND F SUBBRAND F.1 ADULT BLIK RND_KP_KN_LV_ZVS_SPN_ND_KLK 680_G_8_ST",
           "Retailer A"
          ],
          [
           "BRAND F SUBBRAND F.1 ADULT BLIK RND_KP_KN_LV_ZVS_SPN_ND_KLK 680_G_8_ST",
           "Retailer B"
          ],
          [
           "BRAND F SUBBRAND F.1 ADULT BLIK RND_TM_KP_WRT_KLK_SPN_LM_SPR 680_G_8_ST",
           "Retailer A"
          ],
          [
           "BRAND F SUBBRAND F.1 ADULT BLIK RND_TM_KP_WRT_KLK_SPN_LM_SPR 680_G_8_ST",
           "Retailer B"
          ],
          [
           "BRAND F SUBBRAND F.1 ADULT BLIK RUND 85_G",
           "Retailer A"
          ],
          [
           "BRAND F SUBBRAND F.1 ADULT BLIK RUND 85_G",
           "Retailer B"
          ],
          [
           "BRAND F SUBBRAND F.1 ADULT BLIK RUND 85_G",
           "Retailer C"
          ],
          [
           "BRAND F SUBBRAND F.1 ADULT BLIK RUND_KP_TMT 85_G",
           "Retailer A"
          ],
          [
           "BRAND F SUBBRAND F.1 ADULT BLIK RUND_KP_TMT 85_G",
           "Retailer B"
          ],
          [
           "BRAND F SUBBRAND F.1 ADULT BLIK RUND_KP_TMT 85_G",
           "Retailer C"
          ],
          [
           "BRAND F SUBBRAND F.1 ADULT BLIK TONIJN 85_G",
           "Retailer A"
          ],
          [
           "BRAND F SUBBRAND F.1 ADULT BLIK TONIJN 85_G",
           "Retailer B"
          ],
          [
           "BRAND F SUBBRAND F.1 ADULT BLIK TON_RND_KLK_LV 680_G_8_ST",
           "Retailer A"
          ],
          [
           "BRAND F SUBBRAND F.1 ADULT BLIK TON_RND_KLK_LV 680_G_8_ST",
           "Retailer B"
          ],
          [
           "BRAND F SUBBRAND F.1 ADULT BLIK ZEEVS_SPNZ 85_G",
           "Retailer B"
          ],
          [
           "BRAND F SUBBRAND F.1 ADULT BLIK ZEEVS_SPNZ 85_G",
           "Retailer C"
          ],
          [
           "BRAND F SUBBRAND F.2 ADULT POUCH EEND_KIP_KLK 300_G_6_ST",
           "Retailer A"
          ],
          [
           "BRAND F SUBBRAND F.2 ADULT POUCH EEND_KIP_KLK 300_G_6_ST",
           "Retailer B"
          ],
          [
           "BRAND F SUBBRAND F.2 ADULT POUCH EEND_KIP_KLK 300_G_6_ST",
           "Retailer C"
          ],
          [
           "BRAND F SUBBRAND F.2 ADULT POUCH RND_KP_KLK_LV_GV_LM 300_G_6_ST",
           "Retailer A"
          ],
          [
           "BRAND F SUBBRAND F.2 ADULT POUCH WLD_LV_RND 300_G_6_ST",
           "Retailer B"
          ],
          [
           "BRAND F SUBBRAND F.3 ADULT BLIK RUND 85_G",
           "Retailer A"
          ],
          [
           "BRAND F SUBBRAND F.3 ADULT BLIK RUND 85_G",
           "Retailer C"
          ],
          [
           "BRAND F SUBBRAND F.3 ADULT BLIK TONIJN 85_G",
           "Retailer A"
          ],
          [
           "BRAND F SUBBRAND F.3 ADULT BLIK TONIJN 85_G",
           "Retailer C"
          ],
          [
           "BRAND F SUBBRAND F.4 ADULT POUCH GAR_SCHL_TN_WTV_ZLM 340_G_4_ST",
           "Retailer A"
          ],
          [
           "BRAND F SUBBRAND F.4 ADULT POUCH GAR_SCHL_TN_WTV_ZLM 340_G_4_ST",
           "Retailer B"
          ],
          [
           "BRAND F SUBBRAND F.4 ADULT POUCH GAR_SCHL_TN_WTV_ZLM 340_G_4_ST",
           "Retailer C"
          ],
          [
           "BRAND F SUBBRAND F.4 ADULT POUCH KIP_KN_RND_ZLM 340_G_4_ST",
           "Retailer A"
          ],
          [
           "BRAND F SUBBRAND F.4 ADULT POUCH KIP_KN_RND_ZLM 340_G_4_ST",
           "Retailer B"
          ],
          [
           "BRAND F SUBBRAND F.4 ADULT POUCH KIP_RND_KLK_LM_KLF_ND_KN_WLD 340_G_4_ST",
           "Retailer A"
          ],
          [
           "BRAND F SUBBRAND F.4 ADULT POUCH KIP_RND_KLK_LM_KLF_ND_KN_WLD 340_G_4_ST",
           "Retailer B"
          ],
          [
           "BRAND F SUBBRAND F.4 ADULT POUCH TON_ZLM 340_G_4_ST",
           "Retailer A"
          ],
          [
           "BRAND F SUBBRAND F.4 ADULT POUCH TON_ZLM 340_G_4_ST",
           "Retailer B"
          ],
          [
           "BRAND F SUBBRAND F.4 ADULT POUCH ZLM_KLV_ZVS_TN_WTV_SR 340_G_4_ST",
           "Retailer A"
          ],
          [
           "BRAND F SUBBRAND F.5 ADULT POUCH GROENTE_KIP 160_G_4_ST",
           "Retailer A"
          ],
          [
           "BRAND F SUBBRAND F.5 ADULT POUCH GROENTE_KIP 160_G_4_ST",
           "Retailer B"
          ],
          [
           "BRAND F SUBBRAND F.5 ADULT POUCH GROENTE_KIP 160_G_4_ST",
           "Retailer C"
          ],
          [
           "BRAND F SUBBRAND F.5 ADULT POUCH TON_GR_NSJVS 160_G_4_ST",
           "Retailer A"
          ],
          [
           "BRAND F SUBBRAND F.5 ADULT POUCH TON_GR_NSJVS 160_G_4_ST",
           "Retailer B"
          ],
          [
           "BRAND G SUBBRAND D.4 SENIOR ZAK KIP 800_G",
           "Retailer B"
          ],
          [
           "BRAND G SUBBRAND G.1 ADULT POUCH KIP_SPRZBNN 340_G_4_ST",
           "Retailer A"
          ],
          [
           "BRAND G SUBBRAND G.1 ADULT POUCH KIP_SPRZBNN 340_G_4_ST",
           "Retailer B"
          ],
          [
           "BRAND G SUBBRAND G.1 ADULT POUCH KIP_SPRZBNN 340_G_4_ST",
           "Retailer C"
          ],
          [
           "BRAND G SUBBRAND G.1 ADULT ZAK KIP 1500_G",
           "Retailer A"
          ],
          [
           "BRAND G SUBBRAND G.1 ADULT ZAK KIP 800_G",
           "Retailer B"
          ],
          [
           "BRAND G SUBBRAND G.1 ADULT ZAK KIP 800_G",
           "Retailer C"
          ],
          [
           "BRAND G SUBBRAND G.1 ADULT ZAK RUND 1500_G",
           "Retailer A"
          ],
          [
           "BRAND G SUBBRAND G.1 ADULT ZAK RUND 1500_G",
           "Retailer B"
          ],
          [
           "BRAND G SUBBRAND G.1 ADULT ZAK RUND 1500_G",
           "Retailer C"
          ],
          [
           "BRAND G SUBBRAND G.1 ADULT ZAK ZALM 1500_G",
           "Retailer A"
          ],
          [
           "BRAND G SUBBRAND G.1 ADULT ZAK ZALM 1500_G",
           "Retailer B"
          ],
          [
           "BRAND G SUBBRAND G.1 ADULT ZAK ZALM 1500_G",
           "Retailer C"
          ],
          [
           "BRAND G SUBBRAND G.1 ADULT ZAK ZALM 800_G",
           "Retailer B"
          ],
          [
           "BRAND G SUBBRAND G.1 ADULT ZAK ZALM 800_G",
           "Retailer C"
          ],
          [
           "BRAND G SUBBRAND G.2 ADULT ZAK KALKOEN 1500_G",
           "Retailer C"
          ],
          [
           "BRAND G SUBBRAND G.2 ADULT ZAK KALKOEN 800_G",
           "Retailer A"
          ],
          [
           "BRAND G SUBBRAND G.2 ADULT ZAK KALKOEN 800_G",
           "Retailer B"
          ],
          [
           "BRAND G SUBBRAND G.2 ADULT ZAK KALKOEN 800_G",
           "Retailer C"
          ],
          [
           "BRAND G SUBBRAND G.3 KITTEN ZAK KIP 800_G",
           "Retailer B"
          ],
          [
           "BRAND G SUBBRAND G.3 KITTEN ZAK KIP 800_G",
           "Retailer C"
          ],
          [
           "BRAND G SUBBRAND G.5 SENIOR ZAK KIP 1500_G",
           "Retailer A"
          ],
          [
           "BRAND G SUBBRAND G.5 SENIOR ZAK KIP 1500_G",
           "Retailer C"
          ],
          [
           "BRAND G SUBBRAND G.6 ADULT ZAK KALKN_RJST 1500_G",
           "Retailer A"
          ],
          [
           "BRAND G SUBBRAND G.6 ADULT ZAK KALKOEN 800_G",
           "Retailer B"
          ],
          [
           "BRAND G SUBBRAND G.7 ADULT POUCH ZLM_WRT 340_G_4_ST",
           "Retailer A"
          ],
          [
           "BRAND G SUBBRAND G.7 ADULT POUCH ZLM_WRT 340_G_4_ST",
           "Retailer C"
          ],
          [
           "BRAND G SUBBRAND G.7 ADULT ZAK RUND 800_G",
           "Retailer A"
          ],
          [
           "BRAND G SUBBRAND G.7 ADULT ZAK RUND 800_G",
           "Retailer B"
          ],
          [
           "BRAND G SUBBRAND G.7 ADULT ZAK RUND 800_G",
           "Retailer C"
          ],
          [
           "BRAND G SUBBRAND G.8 ADULT ZAK KIP 800_G",
           "Retailer A"
          ],
          [
           "BRAND G SUBBRAND G.8 ADULT ZAK KIP 800_G",
           "Retailer B"
          ],
          [
           "BRAND G SUBBRAND G.8 ADULT ZAK KIP 800_G",
           "Retailer C"
          ],
          [
           "BRAND G SUBBRAND G.9 ADULT POUCH KIP_RND_KLK_ND 340_G_4_ST",
           "Retailer A"
          ],
          [
           "BRAND H SUBBRAND H.1 ADULT POUCH KIP_GRT_RND_KLK_WRT_LM 1200_G_12_ST",
           "Retailer B"
          ],
          [
           "BRAND H SUBBRAND H.1 ADULT POUCH KIP_LM_GV_RND 1200_G_12_ST",
           "Retailer A"
          ],
          [
           "BRAND H SUBBRAND H.1 ADULT POUCH KIP_LM_GV_RND 1200_G_12_ST",
           "Retailer B"
          ],
          [
           "BRAND H SUBBRAND H.1 ADULT POUCH KIP_LM_GV_RND 1200_G_12_ST",
           "Retailer C"
          ],
          [
           "BRAND H SUBBRAND H.1 ADULT ZAK GROENTE_KIP 1400_G",
           "Retailer A"
          ],
          [
           "BRAND H SUBBRAND H.1 ADULT ZAK GROENTE_KIP 1400_G",
           "Retailer C"
          ],
          [
           "BRAND H SUBBRAND H.1 ADULT ZAK GRONT_LM 3000_G",
           "Retailer A"
          ],
          [
           "BRAND H SUBBRAND H.1 ADULT ZAK GRONT_LM 3000_G",
           "Retailer B"
          ],
          [
           "BRAND H SUBBRAND H.1 ADULT ZAK GRONT_RND 1400_G",
           "Retailer A"
          ],
          [
           "BRAND H SUBBRAND H.1 ADULT ZAK GRONT_RND 1400_G",
           "Retailer B"
          ],
          [
           "BRAND H SUBBRAND H.1 ADULT ZAK GRONT_RND 1400_G",
           "Retailer C"
          ],
          [
           "BRAND H SUBBRAND H.1 SENIOR POUCH KIP_LM_GV_RND 1200_G_12_ST",
           "Retailer B"
          ],
          [
           "BRAND H SUBBRAND H.1 SENIOR POUCH KIP_LM_GV_RND 1200_G_12_ST",
           "Retailer C"
          ],
          [
           "BRAND H SUBBRAND H.2 ADULT BLIK GRONT_LM_PST 400_G",
           "Retailer A"
          ],
          [
           "BRAND H SUBBRAND H.2 ADULT BLIK GRONT_LM_PST 400_G",
           "Retailer B"
          ],
          [
           "BRAND H SUBBRAND H.2 ADULT BLIK RUND 400_G",
           "Retailer A"
          ],
          [
           "BRAND H SUBBRAND H.2 ADULT BLIK RUND 400_G",
           "Retailer C"
          ],
          [
           "BRAND H SUBBRAND H.4 ADULT POUCH KIP_LM_GV_RND 1200_G_12_ST",
           "Retailer A"
          ],
          [
           "BRAND H SUBBRAND H.4 ADULT POUCH KIP_LM_GV_RND 1200_G_12_ST",
           "Retailer B"
          ],
          [
           "BRAND H SUBBRAND H.4 ADULT POUCH KIP_RND_LV_KLK_LM 1200_G_12_ST",
           "Retailer A"
          ],
          [
           "BRAND H SUBBRAND H.4 ADULT POUCH KIP_RND_LV_KLK_LM 1200_G_12_ST",
           "Retailer B"
          ],
          [
           "BRAND H SUBBRAND H.4 SENIOR POUCH KIP_LM_GV_RND 1200_G_12_ST",
           "Retailer A"
          ],
          [
           "BRAND H SUBBRAND H.4 SENIOR POUCH KIP_LM_GV_RND 1200_G_12_ST",
           "Retailer B"
          ],
          [
           "BRAND I SUBBRAND G.3 KITTEN ZAK KIP 750_G",
           "Retailer A"
          ],
          [
           "BRAND I SUBBRAND G.3 KITTEN ZAK KIP 750_G",
           "Retailer B"
          ],
          [
           "BRAND I SUBBRAND G.3 KITTEN ZAK KIP 750_G",
           "Retailer C"
          ],
          [
           "BRAND I SUBBRAND G.5 SENIOR ZAK KIP 1400_G",
           "Retailer B"
          ],
          [
           "BRAND I SUBBRAND G.5 SENIOR ZAK KIP 750_G",
           "Retailer A"
          ],
          [
           "BRAND I SUBBRAND G.5 SENIOR ZAK KIP 750_G",
           "Retailer B"
          ],
          [
           "BRAND I SUBBRAND I.1 ADULT ZAK RUND 1400_G",
           "Retailer A"
          ],
          [
           "BRAND I SUBBRAND I.1 ADULT ZAK RUND 1400_G",
           "Retailer C"
          ],
          [
           "BRAND I SUBBRAND I.1 ADULT ZAK RUND 750_G",
           "Retailer A"
          ],
          [
           "BRAND I SUBBRAND I.1 ADULT ZAK RUND 750_G",
           "Retailer B"
          ],
          [
           "BRAND I SUBBRAND I.2 ADULT POUCH KIP_RWT_RND_WRT 340_G_4_ST",
           "Retailer A"
          ],
          [
           "BRAND I SUBBRAND I.2 ADULT ZAK KIP 1400_G",
           "Retailer A"
          ],
          [
           "BRAND I SUBBRAND I.2 ADULT ZAK KIP 1400_G",
           "Retailer C"
          ],
          [
           "BRAND I SUBBRAND I.2 ADULT ZAK ZALM 750_G",
           "Retailer A"
          ],
          [
           "BRAND I SUBBRAND I.2 ADULT ZAK ZALM 750_G",
           "Retailer B"
          ],
          [
           "BRAND I SUBBRAND I.2 ADULT ZAK ZALM 750_G",
           "Retailer C"
          ],
          [
           "BRAND I SUBBRAND I.3 ADULT ZAK KIP 1400_G",
           "Retailer A"
          ],
          [
           "BRAND I SUBBRAND I.3 ADULT ZAK KIP 750_G",
           "Retailer A"
          ],
          [
           "BRAND I SUBBRAND I.3 ADULT ZAK KIP 750_G",
           "Retailer B"
          ],
          [
           "BRAND I SUBBRAND I.3 ADULT ZAK KIP 750_G",
           "Retailer C"
          ],
          [
           "BRAND I SUBBRAND I.6 ADULT ZAK KALKOEN 1400_G",
           "Retailer A"
          ],
          [
           "BRAND I SUBBRAND I.6 ADULT ZAK KALKOEN 1400_G",
           "Retailer C"
          ],
          [
           "BRAND I SUBBRAND I.6 ADULT ZAK KALKOEN 750_G",
           "Retailer A"
          ],
          [
           "BRAND I SUBBRAND I.6 ADULT ZAK KALKOEN 750_G",
           "Retailer B"
          ],
          [
           "BRAND J SUBBRAND J.1 ADULT BLIK EEND 400_G",
           "Retailer C"
          ],
          [
           "BRAND J SUBBRAND J.1 ADULT BLIK FORL_ZLM 410_G",
           "Retailer A"
          ],
          [
           "BRAND J SUBBRAND J.1 ADULT BLIK FORL_ZLM 415_G",
           "Retailer B"
          ],
          [
           "BRAND J SUBBRAND J.1 ADULT BLIK GEVGLT_WLD 410_G",
           "Retailer A"
          ],
          [
           "BRAND J SUBBRAND J.1 ADULT BLIK KABLJW_ZLM 405_G",
           "Retailer C"
          ],
          [
           "BRAND J SUBBRAND J.1 ADULT BLIK KALF 400_G",
           "Retailer C"
          ],
          [
           "BRAND J SUBBRAND J.1 ADULT BLIK KIP 400_G",
           "Retailer A"
          ],
          [
           "BRAND J SUBBRAND J.1 ADULT BLIK KIP 400_G",
           "Retailer C"
          ],
          [
           "BRAND J SUBBRAND J.1 ADULT BLIK KIP_KLKN 405_G",
           "Retailer C"
          ],
          [
           "BRAND J SUBBRAND J.1 ADULT BLIK KIP_KLKN 410_G",
           "Retailer A"
          ],
          [
           "BRAND J SUBBRAND J.1 ADULT BLIK LEVR_RND 400_G",
           "Retailer B"
          ],
          [
           "BRAND J SUBBRAND J.1 ADULT BLIK LEVR_RND 405_G",
           "Retailer A"
          ],
          [
           "BRAND J SUBBRAND J.1 ADULT BLIK LEVR_RND 405_G",
           "Retailer C"
          ],
          [
           "BRAND J SUBBRAND J.1 ADULT BLIK RUND 400_G",
           "Retailer A"
          ],
          [
           "BRAND J SUBBRAND J.1 ADULT BLIK RUND 415_G",
           "Retailer B"
          ],
          [
           "BRAND J SUBBRAND J.1 ADULT BLIK VIS 400_G",
           "Retailer A"
          ],
          [
           "BRAND J SUBBRAND J.1 ADULT BLIK ZALM 400_G",
           "Retailer B"
          ],
          [
           "BRAND J SUBBRAND J.1 ADULT POUCH KIP_GRT_RND_WLD_KLK 1200_G_12_ST",
           "Retailer A"
          ],
          [
           "BRAND J SUBBRAND J.1 ADULT POUCH KIP_KN_RND_ZLM 1200_G_12_ST",
           "Retailer A"
          ],
          [
           "BRAND J SUBBRAND J.1 ADULT POUCH KIP_ND_GV_KLK 1200_G_12_ST",
           "Retailer A"
          ],
          [
           "BRAND J SUBBRAND J.1 ADULT POUCH TON_KB_GR_KLV_ZLM_FR 1200_G_12_ST",
           "Retailer A"
          ],
          [
           "BRAND J SUBBRAND J.1 ADULT POUCH WLD_KP_KLK_RND_KN_ND 1200_G_12_ST",
           "Retailer A"
          ],
          [
           "BRAND J SUBBRAND J.1 ADULT ZAK AARDPPL_KLKN 3000_G",
           "Retailer B"
          ],
          [
           "BRAND J SUBBRAND J.1 ADULT ZAK GRANN_VLS 1000_G",
           "Retailer B"
          ],
          [
           "BRAND J SUBBRAND J.1 ADULT ZAK GRANN_VLS 3000_G",
           "Retailer B"
          ],
          [
           "BRAND J SUBBRAND J.1 ADULT ZAK GROENTE 2000_G",
           "Retailer A"
          ],
          [
           "BRAND J SUBBRAND J.1 ADULT ZAK KALKOEN 800_G",
           "Retailer A"
          ],
          [
           "BRAND J SUBBRAND J.1 ADULT ZAK KIP 800_G",
           "Retailer A"
          ],
          [
           "BRAND J SUBBRAND J.1 ADULT ZAK KIP_MAIS 3000_G",
           "Retailer A"
          ],
          [
           "BRAND J SUBBRAND J.1 ADULT ZAK LAM_RIJST 3000_G",
           "Retailer A"
          ],
          [
           "BRAND J SUBBRAND J.1 ADULT ZAK RUND 2000_G",
           "Retailer A"
          ],
          [
           "BRAND J SUBBRAND J.1 ADULT ZAK RUND 2000_G",
           "Retailer B"
          ],
          [
           "BRAND J SUBBRAND J.1 ADULT ZAK RUND 800_G",
           "Retailer A"
          ],
          [
           "BRAND J SUBBRAND J.1 ADULT ZAK RUND 800_G",
           "Retailer B"
          ],
          [
           "BRAND J SUBBRAND J.1 ADULT ZAK VS_VLS 2000_G",
           "Retailer B"
          ],
          [
           "BRAND J SUBBRAND J.1 ADULT ZAK ZALM 800_G",
           "Retailer A"
          ],
          [
           "BRAND J SUBBRAND J.1 ADULT ZAK ZALM 800_G",
           "Retailer B"
          ],
          [
           "BRAND J SUBBRAND J.1 ADULT ZAK ZALM 800_G",
           "Retailer C"
          ],
          [
           "BRAND J SUBBRAND J.1 ADULT ZAK ZALM_RIJST 3000_G",
           "Retailer C"
          ],
          [
           "BRAND J SUBBRAND J.1 KITTEN POUCH EEND_KP_KN_ZLM_FR 1200_G_12_ST",
           "Retailer A"
          ],
          [
           "BRAND J SUBBRAND J.1 SENIOR POUCH KIP_GV_RND_WLD 1200_G_12_ST",
           "Retailer A"
          ],
          [
           "BRAND J SUBBRAND J.1 SENIOR POUCH LAM_KB_GV_KN 1200_G_12_ST",
           "Retailer A"
          ],
          [
           "BRAND J SUBBRAND J.1 SENIOR ZAK GROENTE 2000_G",
           "Retailer A"
          ],
          [
           "BRAND J SUBBRAND J.1 SENIOR ZAK GROENTE_KIP 2000_G",
           "Retailer B"
          ],
          [
           "BRAND J SUBBRAND J.1 SENIOR ZAK KIP 800_G",
           "Retailer A"
          ],
          [
           "BRAND J SUBBRAND J.1 SENIOR ZAK KIP 800_G",
           "Retailer B"
          ],
          [
           "BRAND M SUBBRAND M.1 ADULT ALU KIP 85_G",
           "Retailer A"
          ],
          [
           "BRAND M SUBBRAND M.1 ADULT ALU KIP 85_G",
           "Retailer B"
          ],
          [
           "BRAND M SUBBRAND M.1 ADULT ALU ZALM 85_G",
           "Retailer A"
          ],
          [
           "BRAND M SUBBRAND M.1 ADULT POUCH KIP 160_G_4_ST",
           "Retailer A"
          ],
          [
           "BRAND M SUBBRAND M.1 ADULT POUCH KIP 160_G_4_ST",
           "Retailer B"
          ],
          [
           "BRAND M SUBBRAND M.1 ADULT POUCH TONIJN 160_G_4_ST",
           "Retailer A"
          ],
          [
           "BRAND M SUBBRAND M.1 ADULT POUCH TONIJN 160_G_4_ST",
           "Retailer B"
          ],
          [
           "BRAND M SUBBRAND M.1 ADULT POUCH TONIJN 160_G_4_ST",
           "Retailer C"
          ],
          [
           "BRAND M SUBBRAND M.2 ADULT POUCH KIP_GV_KLK 300_G_6_ST",
           "Retailer A"
          ],
          [
           "BRAND M SUBBRAND M.2 ADULT POUCH KIP_GV_KLK 300_G_6_ST",
           "Retailer B"
          ],
          [
           "BRAND M SUBBRAND M.2 ADULT POUCH KIP_GV_KLK 300_G_6_ST",
           "Retailer C"
          ],
          [
           "BRAND M SUBBRAND M.2 ADULT POUCH KIP_RND_ND 300_G_6_ST",
           "Retailer A"
          ],
          [
           "BRAND M SUBBRAND M.2 ADULT POUCH KIP_RND_ND 300_G_6_ST",
           "Retailer B"
          ],
          [
           "BRAND M SUBBRAND M.2 ADULT POUCH KIP_RND_ND 300_G_6_ST",
           "Retailer C"
          ],
          [
           "BRAND M SUBBRAND M.2 ADULT POUCH TON_ZLM_WTV 300_G_6_ST",
           "Retailer A"
          ],
          [
           "BRAND M SUBBRAND M.2 ADULT POUCH TON_ZLM_WTV 300_G_6_ST",
           "Retailer B"
          ],
          [
           "BRAND M SUBBRAND M.2 ADULT POUCH ZLM_TN_KB 300_G_6_ST",
           "Retailer A"
          ],
          [
           "BRAND M SUBBRAND M.2 ADULT POUCH ZLM_TN_KB 300_G_6_ST",
           "Retailer B"
          ],
          [
           "BRAND M SUBBRAND M.2 ADULT POUCH ZLM_TN_KB 300_G_6_ST",
           "Retailer C"
          ],
          [
           "BRAND M SUBBRAND M.3 ADULT ALU KIP 80_G",
           "Retailer A"
          ],
          [
           "BRAND M SUBBRAND M.3 ADULT ALU KIP 80_G",
           "Retailer B"
          ],
          [
           "BRAND M SUBBRAND M.3 ADULT ALU TONJN_ZVS 80_G",
           "Retailer A"
          ],
          [
           "BRAND M SUBBRAND M.3 ADULT ALU TONJN_ZVS 80_G",
           "Retailer B"
          ],
          [
           "BRAND M SUBBRAND M.3 ADULT ALU TONJN_ZVS 80_G",
           "Retailer C"
          ],
          [
           "BRAND M SUBBRAND M.3 ADULT ALU ZEECOCKTAIL 80_G",
           "Retailer A"
          ],
          [
           "BRAND M SUBBRAND M.3 ADULT ALU ZEECOCKTAIL 80_G",
           "Retailer B"
          ],
          [
           "BRAND M SUBBRAND M.3 ADULT ALU ZEECOCKTAIL 80_G",
           "Retailer C"
          ],
          [
           "BRAND M SUBBRAND M.4 ADULT ALU KLK_KP_LM 680_G_8_ST",
           "Retailer A"
          ],
          [
           "BRAND M SUBBRAND M.4 ADULT ALU KLK_KP_LM 680_G_8_ST",
           "Retailer B"
          ],
          [
           "BRAND M SUBBRAND M.4 ADULT POUCH KAB_TN_ZLM_WTV 1020_G_12_ST",
           "Retailer A"
          ],
          [
           "BRAND M SUBBRAND M.4 ADULT POUCH KAB_TN_ZLM_WTV 340_G_4_ST",
           "Retailer A"
          ],
          [
           "BRAND M SUBBRAND M.4 ADULT POUCH RND_LM_KP_KLK 340_G_4_ST",
           "Retailer A"
          ],
          [
           "BRAND M SUBBRAND M.4 ADULT POUCH RND_LM_KP_KLK 340_G_4_ST",
           "Retailer B"
          ],
          [
           "BRAND M SUBBRAND M.4 ADULT POUCH RND_LM_KP_KLK 340_G_4_ST",
           "Retailer C"
          ],
          [
           "BRAND M SUBBRAND M.4 ADULT POUCH ZLM_WTV_KP_RND 1020_G_12_ST",
           "Retailer A"
          ],
          [
           "BRAND N SUBBRAND N.1 ADULT PAK RUND_ZLM_GRNT 1000_G",
           "Retailer A"
          ],
          [
           "BRAND N SUBBRAND N.1 ADULT PAK RUND_ZLM_GRNTN 1000_G",
           "Retailer A"
          ],
          [
           "BRAND N SUBBRAND N.1 ADULT PAK RUND_ZLM_GRNTN 1000_G",
           "Retailer C"
          ],
          [
           "BRAND O SUBBRAND D.4 SENIOR POUCH GEV_RND_LM_WTV 1200_G_12_ST",
           "Retailer A"
          ],
          [
           "BRAND O SUBBRAND D.4 SENIOR POUCH GEV_RND_LM_WTV 1200_G_12_ST",
           "Retailer B"
          ],
          [
           "BRAND O SUBBRAND D.4 SENIOR POUCH GEV_RND_LM_WTV 1200_G_12_ST",
           "Retailer C"
          ],
          [
           "BRAND O SUBBRAND D.4 SENIOR POUCH KIP_LM_GV_RND 1200_G_12_ST",
           "Retailer A"
          ],
          [
           "BRAND O SUBBRAND D.4 SENIOR POUCH KIP_LM_GV_RND 1200_G_12_ST",
           "Retailer B"
          ],
          [
           "BRAND O SUBBRAND D.4 SENIOR POUCH KIP_RND_TN_ZLM 1200_G_12_ST",
           "Retailer A"
          ],
          [
           "BRAND O SUBBRAND D.4 SENIOR POUCH KIP_RND_TN_ZLM 1200_G_12_ST",
           "Retailer B"
          ],
          [
           "BRAND O SUBBRAND D.4 SENIOR ZAK KIP 950_G",
           "Retailer A"
          ],
          [
           "BRAND O SUBBRAND D.4 SENIOR ZAK KIP 950_G",
           "Retailer B"
          ],
          [
           "BRAND O SUBBRAND G.3 KITTEN POUCH KIP_KN_RND_LM 1200_G_12_ST",
           "Retailer A"
          ],
          [
           "BRAND O SUBBRAND G.3 KITTEN POUCH KIP_KN_RND_LM 1200_G_12_ST",
           "Retailer B"
          ],
          [
           "BRAND O SUBBRAND G.3 KITTEN ZAK KIP 950_G",
           "Retailer A"
          ],
          [
           "BRAND O SUBBRAND G.3 KITTEN ZAK KIP 950_G",
           "Retailer B"
          ],
          [
           "BRAND O SUBBRAND O.3 ADULT BLIK GEVGLT_RND 400_G",
           "Retailer C"
          ],
          [
           "BRAND O SUBBRAND O.3 ADULT BLIK HART_RND 400_G",
           "Retailer C"
          ],
          [
           "BRAND O SUBBRAND O.3 ADULT BLIK KIP 400_G",
           "Retailer B"
          ],
          [
           "BRAND O SUBBRAND O.3 ADULT BLIK KIP 400_G",
           "Retailer C"
          ],
          [
           "BRAND O SUBBRAND O.3 ADULT POUCH KIP_RND_TN_ZLM 1200_G_12_ST",
           "Retailer A"
          ],
          [
           "BRAND O SUBBRAND O.3 ADULT POUCH KIP_RND_TN_ZLM 1200_G_12_ST",
           "Retailer B"
          ],
          [
           "BRAND O SUBBRAND O.3 ADULT POUCH KIP_RND_TN_ZLM 1200_G_12_ST",
           "Retailer C"
          ],
          [
           "BRAND O SUBBRAND O.3 ADULT POUCH KLK_KP_RND_LM 1200_G_12_ST",
           "Retailer A"
          ],
          [
           "BRAND O SUBBRAND O.3 ADULT POUCH KLK_KP_RND_LM 1200_G_12_ST",
           "Retailer B"
          ],
          [
           "BRAND O SUBBRAND O.3 ADULT POUCH ZLM_TN_KLV_WTV 1200_G_12_ST",
           "Retailer A"
          ],
          [
           "BRAND O SUBBRAND O.3 ADULT POUCH ZLM_TN_KLV_WTV 1200_G_12_ST",
           "Retailer B"
          ],
          [
           "BRAND O SUBBRAND O.3 ADULT ZAK KIP 950_G",
           "Retailer A"
          ],
          [
           "BRAND O SUBBRAND O.3 ADULT ZAK KIP 950_G",
           "Retailer B"
          ],
          [
           "BRAND O SUBBRAND O.3 ADULT ZAK RUND 950_G",
           "Retailer A"
          ],
          [
           "BRAND O SUBBRAND O.3 ADULT ZAK RUND 950_G",
           "Retailer B"
          ],
          [
           "BRAND O SUBBRAND O.3 ADULT ZAK TONIJN 950_G",
           "Retailer A"
          ],
          [
           "BRAND O SUBBRAND O.3 ADULT ZAK TONIJN 950_G",
           "Retailer B"
          ],
          [
           "BRAND O SUBBRAND O.4 ADULT POUCH KIP_LM_GV_RND 1020_G_12_ST",
           "Retailer A"
          ],
          [
           "BRAND O SUBBRAND O.4 ADULT POUCH KIP_LM_GV_RND 1020_G_12_ST",
           "Retailer B"
          ],
          [
           "BRAND O SUBBRAND O.4 ADULT POUCH KIP_ZLM_RND_TN 1020_G_12_ST",
           "Retailer C"
          ],
          [
           "BRAND O SUBBRAND O.4 KITTEN POUCH ZLM_TN_KLV_WTV 1020_G_12_ST",
           "Retailer A"
          ],
          [
           "BRAND O SUBBRAND O.4 KITTEN POUCH ZLM_TN_KLV_WTV 1020_G_12_ST",
           "Retailer C"
          ],
          [
           "BRAND O SUBBRAND O.4 SENIOR POUCH KIP_LM_GV_RND 1020_G_12_ST",
           "Retailer A"
          ],
          [
           "BRAND O SUBBRAND O.4 SENIOR POUCH KIP_LM_GV_RND 1020_G_12_ST",
           "Retailer B"
          ],
          [
           "BRAND O SUBBRAND O.4 SENIOR POUCH KIP_LM_GV_RND 1020_G_12_ST",
           "Retailer C"
          ],
          [
           "BRAND O SUBBRAND O.5 ADULT BAK VLEES 60_G",
           "Retailer C"
          ],
          [
           "BRAND O SUBBRAND O.6 ADULT BAK KAAS_KIP 60_G",
           "Retailer A"
          ],
          [
           "BRAND O SUBBRAND O.6 ADULT BAK RUND 60_G",
           "Retailer A"
          ],
          [
           "BRAND O SUBBRAND O.6 ADULT BAK ZALM 60_G",
           "Retailer A"
          ],
          [
           "BRAND O SUBBRAND O.6 ADULT BAK ZALM 60_G",
           "Retailer B"
          ]
         ],
         "hovertemplate": "MAPE=%{x}<br>RSquared=%{y}<br>PPG=%{customdata[0]}<br>Retailer_Name=%{customdata[1]}<br>log_price=%{marker.color}<extra></extra>",
         "legendgroup": "",
         "marker": {
          "color": [
           -2.6703107838827624,
           -2.578561582598975,
           -1.8777348264073428,
           -3.5293194180825087,
           -2.658405207031793,
           -2.7603472715936666,
           -1.0614800491547776,
           -1.4408537519279419,
           -0.8170727619464296,
           -0.9187048040478456,
           -0.9767834961878518,
           -0.0024029205461216703,
           -0.020007693801575775,
           -0.9132080608824191,
           -4.631441565871723,
           -2.6659237785999967,
           -1.0234393388052707,
           -0.31630597960655993,
           -2.2674737381000583,
           -0.6413713114665089,
           -0.13146877949617397,
           -0.8519136936461393,
           -1.6878205594003366,
           -1.2762044727906687,
           -1.0563932021335996,
           -0.01354667563285794,
           -1.8166461142239292,
           -2.2662562722903905,
           -2.612122156043114,
           -1.7925349000195459,
           -1.306354284821309,
           -0.10727467273004487,
           -2.4002569647658083,
           -0.781616698128591,
           -1.6934247075505113,
           -3.5929192632368956,
           -2.3224981377855523,
           -2.075553453871164,
           -1.564172771664118,
           -0.16764672018714902,
           -2.1717767372746044,
           -0.9153525350102552,
           -1.994072126025852,
           -0.6338077429420911,
           -3.440377601629992,
           -0.6979824110174595,
           -0.15796530929590447,
           -2.5793207851071545,
           -1.7525790915912447,
           -2.9033692962617144,
           -3.167617713167208,
           -0.7048161105125557,
           -2.560128442048053,
           -0.8992606301683903,
           -2.9864693647399188,
           -1.9837455644725632,
           -4.827231015126607,
           -3.1522669355315625,
           -1.778054416657705,
           -4.30697916809684,
           -6.42854062883082,
           -1.546690520289297,
           -3.729553636348165,
           -1.5844219645093962,
           -1.2456654314420323,
           -1.9627989896607305,
           -8.028561187043383,
           -0.10047654154704866,
           -0.7223839733106858,
           -8.801613831113743,
           -0.62308409367885,
           -3.5593767207149822,
           -1.988295530663893,
           -3.643494460495498,
           -2.254249337050256,
           -4.055072024192934,
           -2.084983007229202,
           -4.112444773740032,
           -8.219415964308988,
           -1.997669980487795,
           -4.1281301740432195,
           -2.0475298352655256,
           -1.8665831311123207,
           -1.9279615593992334,
           -1.7983626756366062,
           -2.213979471364093,
           -4.539515528574572,
           -0.004799646894399601,
           -1.4783915460611903,
           -0.5251543602064519,
           -9.691350008236036,
           -0.9629981929972424,
           -2.044486625778349,
           -3.6498827660971136,
           -3.9227633589945743,
           -5.8546289469426345,
           -2.382911313062305,
           -2.9020918486278897,
           -0.7876140395374656,
           -2.9442786136411923,
           -1.0197356620161706,
           -3.16659873539361,
           -2.306483895686096,
           -6.4340414672114035,
           -2.1730830340784264,
           -3.7024975087142824,
           -1.4009059818058822,
           -3.080731906062002,
           -0.11732944796151101,
           -1.6291750785351617,
           -3.0351749460105175,
           -0.3229396354662586,
           -2.2669970009832214,
           -2.6624643586583927,
           -3.093759030150479,
           -5.608356686531943,
           -3.5503025516851,
           -0.33590942332736573,
           -1.4887007534449264,
           -3.392764063571762,
           -0.03259541664675325,
           -1.2616600130288929,
           -8.555257592099897,
           -2.1700249374202567,
           -2.0671014817322146,
           -2.142722905283483,
           -1.0906480335251156,
           -2.105546479131691,
           -3.870582449772627,
           -4.8607891761027435,
           -2.054715359095948,
           -4.0154266547517565,
           -0.5105019203255828,
           -3.5527469135936336,
           -2.1920694526177975,
           -0.781409792033151,
           -1.7081370914496552,
           -1.4452972424881199,
           -3.2394792654637823,
           -4.858158863598541,
           -1.9035317369332907,
           -4.186921667985527,
           -3.772540251464361,
           -1.9327746845851141,
           -2.0006168997368095,
           -0.3230199853148212,
           -2.073920371155332,
           -3.9781751418165032,
           -2.7705121929797545,
           -3.0536118944604924,
           -2.831864452960038,
           -0.7320135268038577,
           -2.7541774235003085,
           -5.016320749703425,
           -0.23079468074467613,
           -3.603930332978349,
           -1.8907954277760677,
           -2.303874078140808,
           -2.1176471315243317,
           -3.448218165514689,
           -2.1224241745334003,
           -2.8125386306864115,
           -2.943322761587434,
           -2.4900655239479392,
           -0.24926562179304312,
           -2.58778979689406,
           -4.117621811692961,
           -3.1641932023253925,
           -1.2864661956625016,
           -2.3071570439546774,
           -4.3769463414913625,
           -0.8878744533809497,
           -2.334022086757171,
           -3.6708519348564126,
           -1.03193200063535,
           -5.898617063059242,
           -4.318220052927216,
           -1.1807982386670106,
           -1.540761629781715,
           -0.7524565812016615,
           -1.4973282410287432,
           -4.233511887793371,
           -2.548409227568512,
           -1.4648078278217374,
           -1.5559803357905615,
           -5.319172050691037,
           -2.2183518859719378,
           -2.1278030425748407,
           -1.1344322950952255,
           -0.42299533981707726,
           -0.550908787135056,
           -0.07590315419869853,
           -0.13947233778994148,
           -4.403107486566854,
           -2.550321801518547,
           -0.2796452636657281,
           -4.455852484430148,
           -1.3488175722470859,
           -5.644459491695483,
           -2.290453188856652,
           -3.1663783005506927,
           -0.16712893589992617,
           -1.5836754432888247,
           -2.8698377003524467,
           -4.729812803652323,
           -3.495487948990746,
           -0.15094981466516322,
           -2.581961826293561,
           -3.9603404839634835,
           -0.1912909630308163,
           -3.3642215310176784,
           -0.5457482646320018,
           -2.7653039534333756,
           -4.224755683803293,
           -1.3923012181244068,
           -3.0175576289270225,
           -2.5980494711722413,
           -4.32954120392775,
           -0.4806728922735869,
           -2.8079686724946282,
           -0.7258343652584999,
           -2.048764129584245,
           -4.686377571828059,
           -0.987943036716608,
           -0.7312376376851697,
           -1.354310874831035,
           -0.6297327112573092,
           -1.488413273137911,
           -0.568148347979357,
           -1.6867777243448863,
           -6.408724002787613,
           -4.333949503211609,
           -0.5003134760806689,
           -1.2812111683929293,
           -1.0829061251471424,
           -3.482879285421439,
           -0.8861587806549176,
           -0.5155377830041254,
           -1.3614796892416754,
           -1.2040848778068276,
           -1.7034730298977392,
           -1.2646866079313024,
           -1.0858370286349721,
           -1.9283876987775554,
           -0.8112685968307366,
           -1.5459283861073163,
           -3.06562825053903,
           -1.8212000805685613,
           -0.5576550417159938,
           -1.1982721651702635,
           -2.1324172153036116,
           -1.2973115487282887,
           -1.1321561326281415,
           -1.4319485393074813,
           -0.4452583323916934,
           -1.93993561450006,
           -1.2184269229135345,
           -6.492060165090889,
           -2.275125028044023,
           -2.568616254991123,
           -5.145417632657626,
           -4.377031693083265,
           -0.7153643722355508,
           -1.1983335239227921,
           -1.4357491744852404,
           -0.22809864219483944,
           -1.5111096370873383,
           -1.841721087683239,
           -1.7201044364089502,
           -2.0113620804920735,
           -2.6008971385969764,
           -1.5227205134556536,
           -1.079515075116707,
           -1.2520049971904712,
           -1.1577152901821164,
           -1.8268880433375996,
           -0.026613934396566702,
           -2.100113080561622,
           -1.8135591829282132,
           -4.54312841712171,
           -2.444438562648262,
           -3.8035903676896954,
           -1.0353498729698807,
           -1.4041404094456922,
           -0.7400753279191699,
           -2.279466457631513,
           -3.70170262351862,
           -0.757924558087116,
           -1.4624077350043425,
           -1.998812281156043,
           -1.211467860734563,
           -1.9329018940887601,
           -0.08201351464979334,
           -1.253710426311331,
           -2.1452707483909523,
           -0.3364548613118421,
           -1.5979590838814437,
           -1.0476179197440616,
           -2.8194178400132874,
           -2.330365031402252,
           -2.1233826923488985,
           -2.041432851292233,
           -0.2544660358681392,
           -2.4700884332075033,
           -6.8912142190070025,
           -2.714700427010033,
           -8.495711793059701,
           -2.122000467860791,
           -4.44461497505437,
           -0.014550658661053845,
           -1.6140107238121857,
           -3.2142258125474625,
           -2.337589285214513,
           -1.5174099429852517,
           -2.8771933360714605,
           -3.10780199411239,
           -1.015540634580543,
           -3.342250054439877,
           -2.688655853895007,
           -3.2525695182827463,
           -1.3989046888721202,
           -5.190156354232709,
           -1.108411534640949,
           -1.3482267049253922,
           -2.462170436856858,
           -2.455237214406705,
           -2.2158313909870095,
           -2.0231359914473788,
           -2.9179649440027835,
           -2.2503415872821315,
           -3.8360349289011295,
           -3.3915168386758356,
           -3.3743740139190916,
           -3.514680854429761,
           -3.926871253520971,
           -2.743674821778816,
           -4.017570433728146,
           -1.6054279252962476,
           -2.1653848733898404,
           -0.6745763447169416,
           -1.7692871273392972,
           -5.035277698522515,
           -2.9239896589429386,
           -3.293428129111501,
           -1.08285323039928,
           -0.6257590029648933,
           -1.5123132197141445,
           -1.2763475578316794,
           -1.7373411306637347,
           -3.6426114457593846
          ],
          "coloraxis": "coloraxis",
          "symbol": "circle"
         },
         "mode": "markers",
         "name": "",
         "orientation": "v",
         "showlegend": false,
         "type": "scatter",
         "x": [
          2.0788601375425757,
          1.0262811645514445,
          2.442644519954498,
          2.384168006116933,
          0.5723178129271153,
          1.635030275801865,
          1.3095152291947063,
          2.5239798458829457,
          3.4303127557432074,
          1.287398031239852,
          2.5112225323720896,
          20.721020075168376,
          2.487687898858088e-14,
          0.8563630545699542,
          2.4090216321156266,
          2.825044805182746,
          0.6511788100589593,
          1.6973859874416568,
          1.8633119723503258,
          0.681822804893262,
          0.9154997740671774,
          0.7520398723557818,
          0.9831018198404787,
          1.272379877842774,
          0.9625839760609725,
          0.9465097960540337,
          2.002647630738191,
          1.387952120972583,
          1.5429484692422077,
          1.017004511394684,
          1.4070505385479362,
          0.5858505311790478,
          1.0957320059208935,
          2.907846880935725,
          1.2024900003139427,
          7.000417077879849,
          0.9952705975159224,
          1.9289976995110123,
          0.66080814465674,
          40.08570162298359,
          1.1228597829780367,
          1.7336623154577882,
          0.6463680977127084,
          26.706554692676924,
          4.789938506122306,
          23.21213731642041,
          10.977611587714454,
          2.6081862562049927,
          7.7676221733012305,
          4.647470116963323,
          2.226641252594961,
          10.537920500499625,
          2.988182895853724,
          7.360366164219023,
          6.135645705878179,
          3.0421990999358854,
          5.844898300395062,
          2.5477496293890853,
          25.430736056446857,
          12.970559288568968,
          33.93300216515052,
          1.910845407248241,
          58.309524177232696,
          68.15067681749608,
          36.077725261734805,
          1.0652764754113926,
          31.193066660017653,
          1.117280961726873e-13,
          20.609415560961647,
          3.2429050715153527,
          20.207961766770968,
          2.588872352536514,
          15.819619969294504,
          2.474873768647512,
          3.9703616156663654e-13,
          10.049588384380938,
          1.166960904627993,
          2.513745877538776,
          0.8599352281416524,
          1.5028470880659253,
          2.6167027524689295,
          2.275586694824907,
          1.7182653576460805,
          4.0625777331191895,
          1.5386573137601247,
          1.5002413950620979,
          33.91875447521435,
          0.8038446048608098,
          0.9997983502571735,
          0.5725640940731229,
          1.1563866213899554,
          1.1985469079561317,
          1.7064824681385,
          44.00933719073934,
          2.164615183349899,
          2.0275012920206223,
          4.522902087948496,
          16.388970561867136,
          1.0169538985245692,
          2.7489408490020915,
          1.2238802115375995,
          1.398575729137048,
          1.0872035527289927,
          1.855984196850951,
          17.295473212187616,
          11.322082614078717,
          1.7804523576267373,
          2.9614203977366502,
          0.8507377686450662,
          1.605878515990891,
          2.5672373028710163,
          1.0076245418865288,
          14.007159511734162,
          20.062494350118705,
          13.047376922892918,
          1.8487671752295063,
          2.1334067142830127,
          0.9688702636119321,
          1.3326102889673568,
          2.612889331030467,
          0.6519884782032793,
          1.1232432288002756,
          7.613603039286271,
          1.429586986204635,
          1.40883277371056,
          1.275411675399226,
          1.2975557531097666,
          2.3722320013186313,
          1.53275886651757,
          0.8044961618380988,
          0.8609233912832883,
          1.528578978575015,
          47.65573499171638,
          1.5292852727040633,
          1.777115381980518,
          3.420326885920061,
          0.8234271185528715,
          1.276213068222316,
          3.943755091771094,
          0.8315628619338844,
          1.2359196802782588,
          4.923112018908659,
          3.296004679676661,
          1.4229921393281655,
          8.934566523548913,
          0.925432477408037,
          0.7147331784978321,
          3.4575080612376055,
          1.8281955143778112,
          1.1012425172074822,
          2.121271703416075,
          0.5895020354795953,
          0.7582598836159441,
          2.1506719176535922,
          0.596730133251089,
          3.2841873808575386,
          0.8354000366110387,
          0.8012527238329122,
          4.712688483159144,
          3.3317637831145968,
          1.3846770930473957,
          2.3383961486177385,
          1.4616825255664672,
          0.6653479937656364,
          0.5945469874633277,
          0.626438598591093,
          2.1150996187124678,
          14.762702189347618,
          4.409506128980952,
          1.4966393124600998,
          2.057602561358575,
          0.5669634636954279,
          3.620827909902513,
          3.023670893561169,
          0.6932308857084748,
          0.6761758617091809,
          2.615738973983965,
          2.2812044240588936,
          2.2373678974804063,
          0.9110236732549298,
          1.1146278270054397,
          1.2359647393671986,
          4.9375968546871265,
          1.0562269131934094,
          1.3396641741023139,
          1.343549787442637,
          0.7733173685419451,
          2.5365658661146457,
          1.201860434462472,
          0.4922805252789723,
          65.72992752068426,
          0.7650124598782964,
          0.6906477022669658,
          0.20139200389332554,
          0.8295069072660919,
          0.11841147141506941,
          1.0022504126142386,
          0.5080003410385551,
          0.6718276382610762,
          2.8051929293764406,
          17.725338896764494,
          0.9519008074732712,
          3.812839913202758,
          1.1507502360595445,
          2.888389631511909,
          61.386217069366054,
          1.3991936008483161,
          5.3934352174773545,
          3.5416537196215456,
          15.284551630394047,
          2.33432386278989,
          1.3091574197291502,
          1.4081049463377118,
          3.1756616520380594,
          0.8948601835252087,
          2.5458793893455676,
          1.0643162225036669,
          2.5478308957039215,
          0.7198642609189563,
          2.7621872881096925,
          0.8720658756718,
          2.9473631475996447,
          4.1875815260748475,
          1.0176996029332035,
          1.25585415331279,
          1.14416278279882,
          0.6644627573352443,
          0.9946907761736453,
          0.7894917755573531,
          1.0030679128445317,
          0.6772601316518109,
          0.6271320610724405,
          0.7919468788519174,
          0.8958428732821282,
          0.621002223283394,
          0.5486272365767496,
          0.6215133771123968,
          1.2579490335542878,
          0.7520059433906187,
          1.0109576413181511,
          0.6556242213666534,
          1.1998172451572076,
          0.9596297986282304,
          0.8373059869172744,
          17.880583844604466,
          1.6998024450088947,
          40.86049629381801,
          9.526509911507928,
          0.5378010325279947,
          0.8977160171920816,
          0.9147452461533234,
          0.632679359008332,
          0.4247221891808784,
          0.5316797403062435,
          1.8269387597068854,
          0.869580778790596,
          4.251769660857585,
          11.351284977928847,
          0.8388962257418985,
          2.9716900344012873,
          2.5707792694011444,
          6.630360857008437,
          1.679347367152893,
          0.6946618956616125,
          0.6033457215745384,
          2.154459831677906,
          15.162708856462547,
          0.772465980973633,
          3.9945776867825744,
          0.880402589935814,
          3.0056293371265657,
          1.0812092197715202,
          1.105162170516572,
          3.7115301693098584,
          1.3552269896044018,
          3.9671179665343184,
          1.2730789020646687,
          29.982188270281785,
          4.530871277079251,
          2.71101462190198,
          1.4863297997980114,
          3.892641071830142,
          1.0564097446105511,
          15.634305137548857,
          5.610351146677696,
          1.191111013461209,
          3.3159923488589276,
          0.8734922572052992,
          1.1716181943763408,
          2.8776387734269018,
          0.979305025860908,
          3.0769689042633024,
          0.9067073748000556,
          0.756925253074665,
          3.464123661584744,
          0.8190052627901376,
          1.1126196811694693,
          50.041758123829474,
          2.0031504385740315,
          1.1109057592106208,
          1.0132702184796387,
          3.4838491852320095,
          0.8674568428862868,
          2.16855433970843,
          4.253219693261609,
          0.26559514845808974,
          0.23430250847328882,
          2.008472743252734,
          3.7519288833355238,
          1.0616771076167713,
          1.2927596378132173,
          3.0879163675547954,
          1.6667339258664426,
          84.0377693856979,
          1.0815685462921247,
          2.879188031498299,
          1.3405630173370768,
          3.621436718701597,
          2.111545343434613,
          2.406289249704164,
          1.2674170070370936,
          39.420178662410045,
          97.8506501096624,
          0.7327972839786665,
          2.157487289346872,
          40.568610361137495,
          1.0396475700726033,
          1.060273259273112,
          3.1178233583194586,
          1.539492139231002,
          3.4563329496543007,
          0.8982821834983387,
          2.493233481535913,
          0.9376555240615184,
          2.175221042107685,
          0.8194536820748132,
          2.144400836833243,
          1.727327785361293,
          4.225092703807277,
          0.8625643449122935,
          0.6451862543260103,
          1.1987624591080577,
          1.3155422208826297,
          3.041675069900955,
          0.9027959881893665,
          62.223411702619394,
          1.4656202096590418,
          1.3464636042333369,
          2.1775140848867327,
          4.394449192874783
         ],
         "xaxis": "x",
         "y": [
          87.07501793130403,
          71.56228685164665,
          97.7602646863972,
          89.20414144379455,
          60.098643620101775,
          90.40278444612795,
          77.51449589728497,
          88.5921918746377,
          88.35260524102381,
          84.62497034483948,
          84.29768622999056,
          83.79960553649866,
          null,
          92.23853042888369,
          87.58267942289993,
          84.92424440998356,
          71.88657670825191,
          91.96248113541688,
          77.1173746006943,
          60.3950639233547,
          94.8675206584322,
          56.567944797853876,
          77.63442359701338,
          60.73885135166993,
          58.85451303386539,
          87.65737967993883,
          72.36955386509287,
          81.32781535765182,
          74.99097273951385,
          61.62704353023643,
          34.43365415196017,
          30.530618951452983,
          80.42874139118221,
          95.08992716011156,
          73.51515817281195,
          93.57895758662147,
          76.80062633278472,
          46.632928411177545,
          71.67203819568425,
          90.17688531994624,
          76.26252500137987,
          83.98802479790967,
          75.21300990474057,
          84.08920314836814,
          85.99044669906273,
          84.93604482268327,
          62.3644915367028,
          93.00901470413434,
          64.72563530412594,
          90.73118254672437,
          93.28748383939369,
          62.222385538509826,
          90.76720443387299,
          52.91065549251064,
          89.28755429929848,
          92.73364849363143,
          85.07046458447131,
          92.35365451630237,
          91.7210102706647,
          83.25328881952116,
          94.02643322706938,
          80.26934786159637,
          60.35884124094557,
          18.087176441513243,
          93.8371795289022,
          93.86175268295278,
          82.97095620915125,
          100,
          45.28931787021162,
          90.97656688648928,
          31.491141780838415,
          93.15682584055294,
          35.98234110043832,
          92.61530891429057,
          100,
          57.06879854303008,
          94.91492358534366,
          89.18095204852172,
          94.03967255599969,
          91.41059341946254,
          88.26458434444963,
          84.43508788008455,
          84.23084679070827,
          87.02193312227702,
          85.44331154598166,
          85.15140917525015,
          62.88793561193617,
          72.19146827783905,
          45.136740008864216,
          67.99819514642232,
          57.12228454117603,
          86.68274405716045,
          54.66119899055815,
          84.44774134854798,
          76.79833632528417,
          88.53156327363911,
          93.23212175845754,
          86.94310604624896,
          85.94947530841071,
          85.25180471834022,
          85.39176656949525,
          92.36864231422992,
          88.5362301402802,
          81.92967934905289,
          26.347203166485922,
          51.33151570284736,
          57.22115426333026,
          64.82267750472523,
          43.2147247675978,
          62.64731213502621,
          78.14156115821429,
          85.30336909096667,
          79.87324603849353,
          70.30778035803762,
          31.668971464128504,
          85.91750148432277,
          80.47824087564024,
          43.97119860822664,
          87.12756746932016,
          83.65474218471086,
          34.917587280597616,
          91.39354221535221,
          95.49510320315258,
          88.03980895769993,
          71.21075131151373,
          90.45733695287676,
          71.96304363369397,
          94.87660333699849,
          83.87222480842836,
          79.67695639722851,
          96.28602992029714,
          85.61772578705911,
          58.345693745506175,
          82.91564666295817,
          87.69023381107421,
          86.6808320395488,
          89.5374612575838,
          95.4007188891498,
          84.86475204255842,
          65.0102377100252,
          84.49591273503754,
          77.14811753399134,
          91.15503500260101,
          92.24883572654392,
          95.23392801746894,
          90.07772735372971,
          94.52433070789591,
          91.57442732276347,
          93.95353641757555,
          96.34720029575097,
          61.29176317755724,
          89.08197404219196,
          97.11280138629547,
          85.85003201222109,
          89.17304945980666,
          90.80952878183764,
          98.36197923463463,
          68.83828611006824,
          93.10608649187544,
          91.45438404044125,
          96.29413914492922,
          94.17071076061413,
          43.386742785922216,
          97.66339215505708,
          80.89812709796534,
          97.68767945179128,
          90.53603994679449,
          93.45869024375224,
          93.2843062803809,
          90.16336793840124,
          93.64643892448146,
          50.56393341725649,
          93.28542231563891,
          91.28184317090661,
          77.74021441141737,
          40.85139918765407,
          90.97574320447876,
          90.14681297163672,
          85.92521259587505,
          94.2890507432907,
          97.28021141746892,
          74.48198061557503,
          26.390053380217495,
          65.29188276267634,
          72.91958353447767,
          87.5983944795525,
          85.47698524000835,
          85.28621205967538,
          93.02378894517243,
          52.72267547060141,
          83.22593458945502,
          59.05469886890591,
          60.28539381678571,
          63.57549843469103,
          99.74192215969427,
          84.64934166383165,
          99.21073219999971,
          6.1389591113098385,
          99.63690698118744,
          95.14308592661259,
          83.00146302499869,
          89.65572235722414,
          74.28567225112661,
          93.98716933745484,
          92.00582979464832,
          73.30399965080917,
          91.35935200768112,
          95.66347471695703,
          91.93303029455865,
          23.300891640736076,
          96.10940675806165,
          93.77003842047318,
          93.71434818043018,
          92.33012136630481,
          90.44302695854589,
          90.39874183245034,
          94.99429283462732,
          91.67964816141804,
          61.41338459140867,
          87.3716885972456,
          66.42928783022,
          96.84606957965882,
          91.06525263806355,
          43.264602574697605,
          97.35224649017954,
          86.84061274789171,
          82.7815952483975,
          70.669704231846,
          68.9596714430728,
          81.28406442114171,
          64.5126175264349,
          68.02000306557237,
          49.051495884527505,
          83.72624060957452,
          68.59811748229015,
          62.22208946662846,
          89.0065659497274,
          93.11595312330164,
          78.3856595235169,
          43.94043352510973,
          91.73319164069026,
          91.39338537141704,
          95.59103367998867,
          93.54251081576423,
          91.80628666717566,
          89.13930763607657,
          79.73568393970749,
          84.98563686182521,
          80.26631347988034,
          97.40482222266114,
          83.12660627038944,
          93.13245634612156,
          77.03072090480316,
          72.44128295725638,
          82.85989023448181,
          73.49296637860382,
          91.97299581430455,
          85.80301008514066,
          86.3685307792241,
          87.07785758828376,
          83.97933296223538,
          81.74602664935252,
          87.86349708831517,
          86.7576494600792,
          95.1653464576805,
          93.5626088631638,
          87.28027633593332,
          75.23814472972275,
          78.51155502405854,
          84.33264756582197,
          76.13103030364225,
          88.56810306767578,
          95.01702789913102,
          89.80880093425526,
          93.76069126973904,
          77.27992731226074,
          72.48132856797446,
          93.54476548703245,
          87.83171597797389,
          90.32914436271705,
          96.4108276699787,
          96.00571869813788,
          44.03015580901003,
          91.39703046614677,
          90.71198207236353,
          96.19809268338163,
          88.6706838125232,
          45.71576697969936,
          90.39226006351322,
          95.6024187398624,
          93.72983103582109,
          93.48449429477688,
          95.12591245167911,
          68.07738813465267,
          85.71180501668468,
          28.290939017821504,
          93.48714595924005,
          78.73465804048388,
          90.88676712798636,
          93.86137685421171,
          94.7259450771316,
          95.88091145825838,
          31.730177117947733,
          93.63698046267275,
          91.29055646349083,
          71.83754667967341,
          99.38753032872384,
          82.86865901499091,
          81.3833455581,
          93.12669953487796,
          85.06204158813536,
          86.57957963252505,
          82.95558912026517,
          94.81832208928004,
          72.5509224758722,
          91.45627536249673,
          85.53920504143397,
          84.94596596498583,
          67.69048925032045,
          94.67196751598084,
          92.14470923236597,
          79.60171645722562,
          56.627952887107725,
          89.52178443608295,
          71.58437071572594,
          89.4372932534488,
          88.32986320745569,
          86.78041249869175,
          85.82450468607031,
          77.0561981197331,
          81.59553550072374,
          85.3024588280777,
          93.31351552286435,
          83.62138284126812,
          94.09946650845562,
          83.63511215953918,
          94.51672643537027,
          90.62231005243164,
          84.48593141104388,
          92.71670413046209,
          96.26341767769357,
          67.30685579502558,
          92.0291751265072,
          93.84418704585076,
          78.70958749282504,
          90.61386090102638,
          80.56096617068381,
          81.70003592258999,
          94.43082935339041,
          63.25664227757215
         ],
         "yaxis": "y"
        }
       ],
       "layout": {
        "coloraxis": {
         "colorbar": {
          "title": {
           "text": "log_price"
          }
         },
         "colorscale": [
          [
           0,
           "#0d0887"
          ],
          [
           0.1111111111111111,
           "#46039f"
          ],
          [
           0.2222222222222222,
           "#7201a8"
          ],
          [
           0.3333333333333333,
           "#9c179e"
          ],
          [
           0.4444444444444444,
           "#bd3786"
          ],
          [
           0.5555555555555556,
           "#d8576b"
          ],
          [
           0.6666666666666666,
           "#ed7953"
          ],
          [
           0.7777777777777778,
           "#fb9f3a"
          ],
          [
           0.8888888888888888,
           "#fdca26"
          ],
          [
           1,
           "#f0f921"
          ]
         ]
        },
        "height": 800,
        "legend": {
         "tracegroupgap": 0
        },
        "margin": {
         "t": 60
        },
        "template": {
         "data": {
          "bar": [
           {
            "error_x": {
             "color": "#2a3f5f"
            },
            "error_y": {
             "color": "#2a3f5f"
            },
            "marker": {
             "line": {
              "color": "#E5ECF6",
              "width": 0.5
             },
             "pattern": {
              "fillmode": "overlay",
              "size": 10,
              "solidity": 0.2
             }
            },
            "type": "bar"
           }
          ],
          "barpolar": [
           {
            "marker": {
             "line": {
              "color": "#E5ECF6",
              "width": 0.5
             },
             "pattern": {
              "fillmode": "overlay",
              "size": 10,
              "solidity": 0.2
             }
            },
            "type": "barpolar"
           }
          ],
          "carpet": [
           {
            "aaxis": {
             "endlinecolor": "#2a3f5f",
             "gridcolor": "white",
             "linecolor": "white",
             "minorgridcolor": "white",
             "startlinecolor": "#2a3f5f"
            },
            "baxis": {
             "endlinecolor": "#2a3f5f",
             "gridcolor": "white",
             "linecolor": "white",
             "minorgridcolor": "white",
             "startlinecolor": "#2a3f5f"
            },
            "type": "carpet"
           }
          ],
          "choropleth": [
           {
            "colorbar": {
             "outlinewidth": 0,
             "ticks": ""
            },
            "type": "choropleth"
           }
          ],
          "contour": [
           {
            "colorbar": {
             "outlinewidth": 0,
             "ticks": ""
            },
            "colorscale": [
             [
              0,
              "#0d0887"
             ],
             [
              0.1111111111111111,
              "#46039f"
             ],
             [
              0.2222222222222222,
              "#7201a8"
             ],
             [
              0.3333333333333333,
              "#9c179e"
             ],
             [
              0.4444444444444444,
              "#bd3786"
             ],
             [
              0.5555555555555556,
              "#d8576b"
             ],
             [
              0.6666666666666666,
              "#ed7953"
             ],
             [
              0.7777777777777778,
              "#fb9f3a"
             ],
             [
              0.8888888888888888,
              "#fdca26"
             ],
             [
              1,
              "#f0f921"
             ]
            ],
            "type": "contour"
           }
          ],
          "contourcarpet": [
           {
            "colorbar": {
             "outlinewidth": 0,
             "ticks": ""
            },
            "type": "contourcarpet"
           }
          ],
          "heatmap": [
           {
            "colorbar": {
             "outlinewidth": 0,
             "ticks": ""
            },
            "colorscale": [
             [
              0,
              "#0d0887"
             ],
             [
              0.1111111111111111,
              "#46039f"
             ],
             [
              0.2222222222222222,
              "#7201a8"
             ],
             [
              0.3333333333333333,
              "#9c179e"
             ],
             [
              0.4444444444444444,
              "#bd3786"
             ],
             [
              0.5555555555555556,
              "#d8576b"
             ],
             [
              0.6666666666666666,
              "#ed7953"
             ],
             [
              0.7777777777777778,
              "#fb9f3a"
             ],
             [
              0.8888888888888888,
              "#fdca26"
             ],
             [
              1,
              "#f0f921"
             ]
            ],
            "type": "heatmap"
           }
          ],
          "heatmapgl": [
           {
            "colorbar": {
             "outlinewidth": 0,
             "ticks": ""
            },
            "colorscale": [
             [
              0,
              "#0d0887"
             ],
             [
              0.1111111111111111,
              "#46039f"
             ],
             [
              0.2222222222222222,
              "#7201a8"
             ],
             [
              0.3333333333333333,
              "#9c179e"
             ],
             [
              0.4444444444444444,
              "#bd3786"
             ],
             [
              0.5555555555555556,
              "#d8576b"
             ],
             [
              0.6666666666666666,
              "#ed7953"
             ],
             [
              0.7777777777777778,
              "#fb9f3a"
             ],
             [
              0.8888888888888888,
              "#fdca26"
             ],
             [
              1,
              "#f0f921"
             ]
            ],
            "type": "heatmapgl"
           }
          ],
          "histogram": [
           {
            "marker": {
             "pattern": {
              "fillmode": "overlay",
              "size": 10,
              "solidity": 0.2
             }
            },
            "type": "histogram"
           }
          ],
          "histogram2d": [
           {
            "colorbar": {
             "outlinewidth": 0,
             "ticks": ""
            },
            "colorscale": [
             [
              0,
              "#0d0887"
             ],
             [
              0.1111111111111111,
              "#46039f"
             ],
             [
              0.2222222222222222,
              "#7201a8"
             ],
             [
              0.3333333333333333,
              "#9c179e"
             ],
             [
              0.4444444444444444,
              "#bd3786"
             ],
             [
              0.5555555555555556,
              "#d8576b"
             ],
             [
              0.6666666666666666,
              "#ed7953"
             ],
             [
              0.7777777777777778,
              "#fb9f3a"
             ],
             [
              0.8888888888888888,
              "#fdca26"
             ],
             [
              1,
              "#f0f921"
             ]
            ],
            "type": "histogram2d"
           }
          ],
          "histogram2dcontour": [
           {
            "colorbar": {
             "outlinewidth": 0,
             "ticks": ""
            },
            "colorscale": [
             [
              0,
              "#0d0887"
             ],
             [
              0.1111111111111111,
              "#46039f"
             ],
             [
              0.2222222222222222,
              "#7201a8"
             ],
             [
              0.3333333333333333,
              "#9c179e"
             ],
             [
              0.4444444444444444,
              "#bd3786"
             ],
             [
              0.5555555555555556,
              "#d8576b"
             ],
             [
              0.6666666666666666,
              "#ed7953"
             ],
             [
              0.7777777777777778,
              "#fb9f3a"
             ],
             [
              0.8888888888888888,
              "#fdca26"
             ],
             [
              1,
              "#f0f921"
             ]
            ],
            "type": "histogram2dcontour"
           }
          ],
          "mesh3d": [
           {
            "colorbar": {
             "outlinewidth": 0,
             "ticks": ""
            },
            "type": "mesh3d"
           }
          ],
          "parcoords": [
           {
            "line": {
             "colorbar": {
              "outlinewidth": 0,
              "ticks": ""
             }
            },
            "type": "parcoords"
           }
          ],
          "pie": [
           {
            "automargin": true,
            "type": "pie"
           }
          ],
          "scatter": [
           {
            "fillpattern": {
             "fillmode": "overlay",
             "size": 10,
             "solidity": 0.2
            },
            "type": "scatter"
           }
          ],
          "scatter3d": [
           {
            "line": {
             "colorbar": {
              "outlinewidth": 0,
              "ticks": ""
             }
            },
            "marker": {
             "colorbar": {
              "outlinewidth": 0,
              "ticks": ""
             }
            },
            "type": "scatter3d"
           }
          ],
          "scattercarpet": [
           {
            "marker": {
             "colorbar": {
              "outlinewidth": 0,
              "ticks": ""
             }
            },
            "type": "scattercarpet"
           }
          ],
          "scattergeo": [
           {
            "marker": {
             "colorbar": {
              "outlinewidth": 0,
              "ticks": ""
             }
            },
            "type": "scattergeo"
           }
          ],
          "scattergl": [
           {
            "marker": {
             "colorbar": {
              "outlinewidth": 0,
              "ticks": ""
             }
            },
            "type": "scattergl"
           }
          ],
          "scattermapbox": [
           {
            "marker": {
             "colorbar": {
              "outlinewidth": 0,
              "ticks": ""
             }
            },
            "type": "scattermapbox"
           }
          ],
          "scatterpolar": [
           {
            "marker": {
             "colorbar": {
              "outlinewidth": 0,
              "ticks": ""
             }
            },
            "type": "scatterpolar"
           }
          ],
          "scatterpolargl": [
           {
            "marker": {
             "colorbar": {
              "outlinewidth": 0,
              "ticks": ""
             }
            },
            "type": "scatterpolargl"
           }
          ],
          "scatterternary": [
           {
            "marker": {
             "colorbar": {
              "outlinewidth": 0,
              "ticks": ""
             }
            },
            "type": "scatterternary"
           }
          ],
          "surface": [
           {
            "colorbar": {
             "outlinewidth": 0,
             "ticks": ""
            },
            "colorscale": [
             [
              0,
              "#0d0887"
             ],
             [
              0.1111111111111111,
              "#46039f"
             ],
             [
              0.2222222222222222,
              "#7201a8"
             ],
             [
              0.3333333333333333,
              "#9c179e"
             ],
             [
              0.4444444444444444,
              "#bd3786"
             ],
             [
              0.5555555555555556,
              "#d8576b"
             ],
             [
              0.6666666666666666,
              "#ed7953"
             ],
             [
              0.7777777777777778,
              "#fb9f3a"
             ],
             [
              0.8888888888888888,
              "#fdca26"
             ],
             [
              1,
              "#f0f921"
             ]
            ],
            "type": "surface"
           }
          ],
          "table": [
           {
            "cells": {
             "fill": {
              "color": "#EBF0F8"
             },
             "line": {
              "color": "white"
             }
            },
            "header": {
             "fill": {
              "color": "#C8D4E3"
             },
             "line": {
              "color": "white"
             }
            },
            "type": "table"
           }
          ]
         },
         "layout": {
          "annotationdefaults": {
           "arrowcolor": "#2a3f5f",
           "arrowhead": 0,
           "arrowwidth": 1
          },
          "autotypenumbers": "strict",
          "coloraxis": {
           "colorbar": {
            "outlinewidth": 0,
            "ticks": ""
           }
          },
          "colorscale": {
           "diverging": [
            [
             0,
             "#8e0152"
            ],
            [
             0.1,
             "#c51b7d"
            ],
            [
             0.2,
             "#de77ae"
            ],
            [
             0.3,
             "#f1b6da"
            ],
            [
             0.4,
             "#fde0ef"
            ],
            [
             0.5,
             "#f7f7f7"
            ],
            [
             0.6,
             "#e6f5d0"
            ],
            [
             0.7,
             "#b8e186"
            ],
            [
             0.8,
             "#7fbc41"
            ],
            [
             0.9,
             "#4d9221"
            ],
            [
             1,
             "#276419"
            ]
           ],
           "sequential": [
            [
             0,
             "#0d0887"
            ],
            [
             0.1111111111111111,
             "#46039f"
            ],
            [
             0.2222222222222222,
             "#7201a8"
            ],
            [
             0.3333333333333333,
             "#9c179e"
            ],
            [
             0.4444444444444444,
             "#bd3786"
            ],
            [
             0.5555555555555556,
             "#d8576b"
            ],
            [
             0.6666666666666666,
             "#ed7953"
            ],
            [
             0.7777777777777778,
             "#fb9f3a"
            ],
            [
             0.8888888888888888,
             "#fdca26"
            ],
            [
             1,
             "#f0f921"
            ]
           ],
           "sequentialminus": [
            [
             0,
             "#0d0887"
            ],
            [
             0.1111111111111111,
             "#46039f"
            ],
            [
             0.2222222222222222,
             "#7201a8"
            ],
            [
             0.3333333333333333,
             "#9c179e"
            ],
            [
             0.4444444444444444,
             "#bd3786"
            ],
            [
             0.5555555555555556,
             "#d8576b"
            ],
            [
             0.6666666666666666,
             "#ed7953"
            ],
            [
             0.7777777777777778,
             "#fb9f3a"
            ],
            [
             0.8888888888888888,
             "#fdca26"
            ],
            [
             1,
             "#f0f921"
            ]
           ]
          },
          "colorway": [
           "#636efa",
           "#EF553B",
           "#00cc96",
           "#ab63fa",
           "#FFA15A",
           "#19d3f3",
           "#FF6692",
           "#B6E880",
           "#FF97FF",
           "#FECB52"
          ],
          "font": {
           "color": "#2a3f5f"
          },
          "geo": {
           "bgcolor": "white",
           "lakecolor": "white",
           "landcolor": "#E5ECF6",
           "showlakes": true,
           "showland": true,
           "subunitcolor": "white"
          },
          "hoverlabel": {
           "align": "left"
          },
          "hovermode": "closest",
          "mapbox": {
           "style": "light"
          },
          "paper_bgcolor": "white",
          "plot_bgcolor": "#E5ECF6",
          "polar": {
           "angularaxis": {
            "gridcolor": "white",
            "linecolor": "white",
            "ticks": ""
           },
           "bgcolor": "#E5ECF6",
           "radialaxis": {
            "gridcolor": "white",
            "linecolor": "white",
            "ticks": ""
           }
          },
          "scene": {
           "xaxis": {
            "backgroundcolor": "#E5ECF6",
            "gridcolor": "white",
            "gridwidth": 2,
            "linecolor": "white",
            "showbackground": true,
            "ticks": "",
            "zerolinecolor": "white"
           },
           "yaxis": {
            "backgroundcolor": "#E5ECF6",
            "gridcolor": "white",
            "gridwidth": 2,
            "linecolor": "white",
            "showbackground": true,
            "ticks": "",
            "zerolinecolor": "white"
           },
           "zaxis": {
            "backgroundcolor": "#E5ECF6",
            "gridcolor": "white",
            "gridwidth": 2,
            "linecolor": "white",
            "showbackground": true,
            "ticks": "",
            "zerolinecolor": "white"
           }
          },
          "shapedefaults": {
           "line": {
            "color": "#2a3f5f"
           }
          },
          "ternary": {
           "aaxis": {
            "gridcolor": "white",
            "linecolor": "white",
            "ticks": ""
           },
           "baxis": {
            "gridcolor": "white",
            "linecolor": "white",
            "ticks": ""
           },
           "bgcolor": "#E5ECF6",
           "caxis": {
            "gridcolor": "white",
            "linecolor": "white",
            "ticks": ""
           }
          },
          "title": {
           "x": 0.05
          },
          "xaxis": {
           "automargin": true,
           "gridcolor": "white",
           "linecolor": "white",
           "ticks": "",
           "title": {
            "standoff": 15
           },
           "zerolinecolor": "white",
           "zerolinewidth": 2
          },
          "yaxis": {
           "automargin": true,
           "gridcolor": "white",
           "linecolor": "white",
           "ticks": "",
           "title": {
            "standoff": 15
           },
           "zerolinecolor": "white",
           "zerolinewidth": 2
          }
         }
        },
        "width": 800,
        "xaxis": {
         "anchor": "y",
         "domain": [
          0,
          1
         ],
         "title": {
          "text": "MAPE"
         }
        },
        "yaxis": {
         "anchor": "x",
         "domain": [
          0,
          1
         ],
         "title": {
          "text": "RSquared"
         }
        }
       }
      }
     },
     "metadata": {},
     "output_type": "display_data"
    }
   ],
   "source": [
    "fig = px.scatter(results_combined,y='RSquared',x='MAPE',color='log_price',width=800,height=800,hover_data=['PPG','Retailer_Name'])\n",
    "fig.show()"
   ]
  },
  {
   "cell_type": "code",
   "execution_count": 19,
   "metadata": {},
   "outputs": [
    {
     "data": {
      "text/plain": [
       "Index(['PPG', 'Retailer_Name', 'log_price', 'Distribution_wtd',\n",
       "       'Category_Seasonality', 'Category_Trend', 'intercept', 'RSquared',\n",
       "       'MAPE'],\n",
       "      dtype='object')"
      ]
     },
     "execution_count": 19,
     "metadata": {},
     "output_type": "execute_result"
    }
   ],
   "source": [
    "results_combined_orig.columns"
   ]
  },
  {
   "cell_type": "code",
   "execution_count": 20,
   "metadata": {},
   "outputs": [
    {
     "data": {
      "text/html": [
       "<div>\n",
       "<style scoped>\n",
       "    .dataframe tbody tr th:only-of-type {\n",
       "        vertical-align: middle;\n",
       "    }\n",
       "\n",
       "    .dataframe tbody tr th {\n",
       "        vertical-align: top;\n",
       "    }\n",
       "\n",
       "    .dataframe thead th {\n",
       "        text-align: right;\n",
       "    }\n",
       "</style>\n",
       "<table border=\"1\" class=\"dataframe\">\n",
       "  <thead>\n",
       "    <tr style=\"text-align: right;\">\n",
       "      <th></th>\n",
       "      <th>PPG</th>\n",
       "      <th>Retailer_Name</th>\n",
       "      <th>coef_log_price</th>\n",
       "      <th>coef_Distribution_wtd</th>\n",
       "      <th>coef_Category_Seasonality</th>\n",
       "      <th>coef_Category_Trend</th>\n",
       "      <th>coef_intercept</th>\n",
       "      <th>RSquared</th>\n",
       "      <th>MAPE</th>\n",
       "    </tr>\n",
       "  </thead>\n",
       "  <tbody>\n",
       "    <tr>\n",
       "      <th>0</th>\n",
       "      <td>BRAND A SUBBRAND A.1 ADULT ZAK GROENTE_KIP_RIJ...</td>\n",
       "      <td>Retailer A</td>\n",
       "      <td>2.469018</td>\n",
       "      <td>0.080496</td>\n",
       "      <td>-0.097917</td>\n",
       "      <td>-0.057558</td>\n",
       "      <td>0.959090</td>\n",
       "      <td>59.358799</td>\n",
       "      <td>35.015876</td>\n",
       "    </tr>\n",
       "    <tr>\n",
       "      <th>1</th>\n",
       "      <td>BRAND A SUBBRAND A.1 ADULT ZAK GROENTE_KIP_RIJ...</td>\n",
       "      <td>Retailer B</td>\n",
       "      <td>-2.670311</td>\n",
       "      <td>0.029349</td>\n",
       "      <td>0.025018</td>\n",
       "      <td>-0.056850</td>\n",
       "      <td>6.036856</td>\n",
       "      <td>87.075018</td>\n",
       "      <td>2.078860</td>\n",
       "    </tr>\n",
       "    <tr>\n",
       "      <th>2</th>\n",
       "      <td>BRAND A SUBBRAND A.1 ADULT ZAK GROENTE_KIP_RIJ...</td>\n",
       "      <td>Retailer C</td>\n",
       "      <td>-2.578562</td>\n",
       "      <td>0.061256</td>\n",
       "      <td>0.011250</td>\n",
       "      <td>0.005565</td>\n",
       "      <td>6.801467</td>\n",
       "      <td>71.562287</td>\n",
       "      <td>1.026281</td>\n",
       "    </tr>\n",
       "    <tr>\n",
       "      <th>3</th>\n",
       "      <td>BRAND A SUBBRAND A.2 ADULT ZAK GRONT_RND 1400_G</td>\n",
       "      <td>Retailer A</td>\n",
       "      <td>-1.877735</td>\n",
       "      <td>0.056422</td>\n",
       "      <td>-0.026015</td>\n",
       "      <td>-0.060092</td>\n",
       "      <td>6.019304</td>\n",
       "      <td>97.760265</td>\n",
       "      <td>2.442645</td>\n",
       "    </tr>\n",
       "    <tr>\n",
       "      <th>4</th>\n",
       "      <td>BRAND A SUBBRAND A.2 ADULT ZAK GRONT_RND 1400_G</td>\n",
       "      <td>Retailer B</td>\n",
       "      <td>-3.529319</td>\n",
       "      <td>0.023102</td>\n",
       "      <td>0.046967</td>\n",
       "      <td>-0.019693</td>\n",
       "      <td>7.836755</td>\n",
       "      <td>89.204141</td>\n",
       "      <td>2.384168</td>\n",
       "    </tr>\n",
       "  </tbody>\n",
       "</table>\n",
       "</div>"
      ],
      "text/plain": [
       "                                                 PPG Retailer_Name  \\\n",
       "0  BRAND A SUBBRAND A.1 ADULT ZAK GROENTE_KIP_RIJ...    Retailer A   \n",
       "1  BRAND A SUBBRAND A.1 ADULT ZAK GROENTE_KIP_RIJ...    Retailer B   \n",
       "2  BRAND A SUBBRAND A.1 ADULT ZAK GROENTE_KIP_RIJ...    Retailer C   \n",
       "3    BRAND A SUBBRAND A.2 ADULT ZAK GRONT_RND 1400_G    Retailer A   \n",
       "4    BRAND A SUBBRAND A.2 ADULT ZAK GRONT_RND 1400_G    Retailer B   \n",
       "\n",
       "   coef_log_price  coef_Distribution_wtd  coef_Category_Seasonality  \\\n",
       "0        2.469018               0.080496                  -0.097917   \n",
       "1       -2.670311               0.029349                   0.025018   \n",
       "2       -2.578562               0.061256                   0.011250   \n",
       "3       -1.877735               0.056422                  -0.026015   \n",
       "4       -3.529319               0.023102                   0.046967   \n",
       "\n",
       "   coef_Category_Trend  coef_intercept   RSquared       MAPE  \n",
       "0            -0.057558        0.959090  59.358799  35.015876  \n",
       "1            -0.056850        6.036856  87.075018   2.078860  \n",
       "2             0.005565        6.801467  71.562287   1.026281  \n",
       "3            -0.060092        6.019304  97.760265   2.442645  \n",
       "4            -0.019693        7.836755  89.204141   2.384168  "
      ]
     },
     "execution_count": 20,
     "metadata": {},
     "output_type": "execute_result"
    }
   ],
   "source": [
    "results_combined_orig.head()\n",
    "for each_col in ['log_price', 'Distribution_wtd',\n",
    "        'Category_Seasonality', 'Category_Trend',\n",
    "       'intercept']:\n",
    "    results_combined_orig.rename(columns={each_col:'coef_'+each_col},inplace=True)\n",
    "results_combined_orig.head()"
   ]
  },
  {
   "cell_type": "code",
   "execution_count": 21,
   "metadata": {},
   "outputs": [
    {
     "name": "stdout",
     "output_type": "stream",
     "text": [
      "(70104, 41)\n"
     ]
    }
   ],
   "source": [
    "df_waterfall_calc = df_rolled.merge(results_combined_orig,how='left',on=['Retailer_Name','PPG'])\n",
    "print(df_waterfall_calc.shape)"
   ]
  },
  {
   "cell_type": "code",
   "execution_count": 22,
   "metadata": {},
   "outputs": [],
   "source": [
    "df_waterfall_calc['contri_price'] = np.exp(df_waterfall_calc['log_price']*df_waterfall_calc['coef_log_price'])\n",
    "df_waterfall_calc['contri_Distribution_wtd'] = df_waterfall_calc['Distribution_wtd']*df_waterfall_calc['coef_Distribution_wtd']\n",
    "df_waterfall_calc['contri_Category_Seasonality'] = df_waterfall_calc['Category_Seasonality']*df_waterfall_calc['coef_Category_Seasonality']\n",
    "df_waterfall_calc['contri_Category_Trend'] = df_waterfall_calc['Category_Trend']*df_waterfall_calc['coef_Category_Trend']\n",
    "df_waterfall_calc['contri_intercept'] = df_waterfall_calc['coef_intercept']"
   ]
  },
  {
   "cell_type": "code",
   "execution_count": 23,
   "metadata": {},
   "outputs": [],
   "source": [
    "df_waterfall_calc['predicted_sales'] = df_waterfall_calc['contri_price'] \\\n",
    "    + df_waterfall_calc['contri_Distribution_wtd'] \\\n",
    "        +df_waterfall_calc['contri_Category_Seasonality'] \\\n",
    "        + df_waterfall_calc['contri_Category_Trend']\\\n",
    "        + df_waterfall_calc['contri_intercept']\n",
    "        "
   ]
  },
  {
   "cell_type": "code",
   "execution_count": 24,
   "metadata": {},
   "outputs": [],
   "source": [
    "df_waterfall_calc['perc_contri_price'] = np.round(((df_waterfall_calc['contri_price']/df_waterfall_calc['predicted_sales'])*100),2)\n",
    "df_waterfall_calc['perc_contri_Distribution_wtd'] = np.round(((df_waterfall_calc['contri_Distribution_wtd']/df_waterfall_calc['predicted_sales'])*100),2)\n",
    "df_waterfall_calc['perc_contri_Category_Seasonality'] = np.round(((df_waterfall_calc['contri_Category_Seasonality']/df_waterfall_calc['predicted_sales'])*100),2)\n",
    "df_waterfall_calc['perc_contri_Category_Trend'] = np.round(((df_waterfall_calc['contri_Category_Trend']/df_waterfall_calc['predicted_sales'])*100),2)\n",
    "df_waterfall_calc['perc_contri_Baseline'] = np.round(((df_waterfall_calc['contri_intercept']/df_waterfall_calc['predicted_sales'])*100),2)\n"
   ]
  },
  {
   "cell_type": "code",
   "execution_count": 25,
   "metadata": {},
   "outputs": [
    {
     "data": {
      "text/html": [
       "<div>\n",
       "<style scoped>\n",
       "    .dataframe tbody tr th:only-of-type {\n",
       "        vertical-align: middle;\n",
       "    }\n",
       "\n",
       "    .dataframe tbody tr th {\n",
       "        vertical-align: top;\n",
       "    }\n",
       "\n",
       "    .dataframe thead th {\n",
       "        text-align: right;\n",
       "    }\n",
       "</style>\n",
       "<table border=\"1\" class=\"dataframe\">\n",
       "  <thead>\n",
       "    <tr style=\"text-align: right;\">\n",
       "      <th></th>\n",
       "      <th>Total_Volume</th>\n",
       "      <th>predicted_sales</th>\n",
       "      <th>contri_price</th>\n",
       "      <th>perc_contri_price</th>\n",
       "      <th>perc_contri_Distribution_wtd</th>\n",
       "      <th>perc_contri_Baseline</th>\n",
       "    </tr>\n",
       "  </thead>\n",
       "  <tbody>\n",
       "    <tr>\n",
       "      <th>0</th>\n",
       "      <td>19818.0</td>\n",
       "      <td>11.853610</td>\n",
       "      <td>0.189442</td>\n",
       "      <td>1.60</td>\n",
       "      <td>42.46</td>\n",
       "      <td>56.63</td>\n",
       "    </tr>\n",
       "    <tr>\n",
       "      <th>1</th>\n",
       "      <td>3312.0</td>\n",
       "      <td>9.591620</td>\n",
       "      <td>0.322152</td>\n",
       "      <td>3.36</td>\n",
       "      <td>36.27</td>\n",
       "      <td>60.93</td>\n",
       "    </tr>\n",
       "    <tr>\n",
       "      <th>2</th>\n",
       "      <td>16431.0</td>\n",
       "      <td>10.661958</td>\n",
       "      <td>0.908553</td>\n",
       "      <td>8.52</td>\n",
       "      <td>11.19</td>\n",
       "      <td>80.72</td>\n",
       "    </tr>\n",
       "    <tr>\n",
       "      <th>3</th>\n",
       "      <td>780.0</td>\n",
       "      <td>971.472969</td>\n",
       "      <td>971.460738</td>\n",
       "      <td>100.00</td>\n",
       "      <td>0.43</td>\n",
       "      <td>-0.54</td>\n",
       "    </tr>\n",
       "    <tr>\n",
       "      <th>4</th>\n",
       "      <td>3216.0</td>\n",
       "      <td>8.952779</td>\n",
       "      <td>1.795947</td>\n",
       "      <td>20.06</td>\n",
       "      <td>3.54</td>\n",
       "      <td>35.65</td>\n",
       "    </tr>\n",
       "    <tr>\n",
       "      <th>...</th>\n",
       "      <td>...</td>\n",
       "      <td>...</td>\n",
       "      <td>...</td>\n",
       "      <td>...</td>\n",
       "      <td>...</td>\n",
       "      <td>...</td>\n",
       "    </tr>\n",
       "    <tr>\n",
       "      <th>70099</th>\n",
       "      <td>129.7</td>\n",
       "      <td>8.995722</td>\n",
       "      <td>0.018835</td>\n",
       "      <td>0.21</td>\n",
       "      <td>45.24</td>\n",
       "      <td>53.04</td>\n",
       "    </tr>\n",
       "    <tr>\n",
       "      <th>70100</th>\n",
       "      <td>85.4</td>\n",
       "      <td>8.179287</td>\n",
       "      <td>5.412750</td>\n",
       "      <td>66.18</td>\n",
       "      <td>40.96</td>\n",
       "      <td>-7.49</td>\n",
       "    </tr>\n",
       "    <tr>\n",
       "      <th>70101</th>\n",
       "      <td>160.8</td>\n",
       "      <td>10.635576</td>\n",
       "      <td>0.004457</td>\n",
       "      <td>0.04</td>\n",
       "      <td>22.78</td>\n",
       "      <td>74.78</td>\n",
       "    </tr>\n",
       "    <tr>\n",
       "      <th>70102</th>\n",
       "      <td>41.4</td>\n",
       "      <td>14.716581</td>\n",
       "      <td>0.000035</td>\n",
       "      <td>0.00</td>\n",
       "      <td>0.42</td>\n",
       "      <td>98.53</td>\n",
       "    </tr>\n",
       "    <tr>\n",
       "      <th>70103</th>\n",
       "      <td>130.5</td>\n",
       "      <td>21.239643</td>\n",
       "      <td>19.331901</td>\n",
       "      <td>91.02</td>\n",
       "      <td>22.55</td>\n",
       "      <td>-13.73</td>\n",
       "    </tr>\n",
       "  </tbody>\n",
       "</table>\n",
       "<p>70104 rows × 6 columns</p>\n",
       "</div>"
      ],
      "text/plain": [
       "       Total_Volume  predicted_sales  contri_price  perc_contri_price  \\\n",
       "0           19818.0        11.853610      0.189442               1.60   \n",
       "1            3312.0         9.591620      0.322152               3.36   \n",
       "2           16431.0        10.661958      0.908553               8.52   \n",
       "3             780.0       971.472969    971.460738             100.00   \n",
       "4            3216.0         8.952779      1.795947              20.06   \n",
       "...             ...              ...           ...                ...   \n",
       "70099         129.7         8.995722      0.018835               0.21   \n",
       "70100          85.4         8.179287      5.412750              66.18   \n",
       "70101         160.8        10.635576      0.004457               0.04   \n",
       "70102          41.4        14.716581      0.000035               0.00   \n",
       "70103         130.5        21.239643     19.331901              91.02   \n",
       "\n",
       "       perc_contri_Distribution_wtd  perc_contri_Baseline  \n",
       "0                             42.46                 56.63  \n",
       "1                             36.27                 60.93  \n",
       "2                             11.19                 80.72  \n",
       "3                              0.43                 -0.54  \n",
       "4                              3.54                 35.65  \n",
       "...                             ...                   ...  \n",
       "70099                         45.24                 53.04  \n",
       "70100                         40.96                 -7.49  \n",
       "70101                         22.78                 74.78  \n",
       "70102                          0.42                 98.53  \n",
       "70103                         22.55                -13.73  \n",
       "\n",
       "[70104 rows x 6 columns]"
      ]
     },
     "execution_count": 25,
     "metadata": {},
     "output_type": "execute_result"
    }
   ],
   "source": [
    "df_waterfall_calc[['Total_Volume','predicted_sales','contri_price','perc_contri_price','perc_contri_Distribution_wtd','perc_contri_Baseline']]"
   ]
  },
  {
   "cell_type": "code",
   "execution_count": 26,
   "metadata": {},
   "outputs": [
    {
     "name": "stdout",
     "output_type": "stream",
     "text": [
      "(70104, 52)\n"
     ]
    },
    {
     "data": {
      "text/plain": [
       "(645, 52)"
      ]
     },
     "execution_count": 26,
     "metadata": {},
     "output_type": "execute_result"
    }
   ],
   "source": [
    "print(df_waterfall_calc.shape)\n",
    "filtered_waterfall = df_waterfall_calc.loc[df_waterfall_calc['RSquared']>90]\n",
    "filtered_waterfall = filtered_waterfall.loc[filtered_waterfall['MAPE']<5]\n",
    "# filtered_waterfall = filtered_waterfall.loc[(filtered_waterfall['log_price']<=0)&(filtered_waterfall['log_price']>=-3)]\n",
    "filtered_waterfall = filtered_waterfall.loc[(filtered_waterfall['perc_contri_price']<=55)&(filtered_waterfall['perc_contri_price']>=30)]\n",
    "\n",
    "\n",
    "filtered_waterfall.shape"
   ]
  },
  {
   "cell_type": "code",
   "execution_count": 27,
   "metadata": {},
   "outputs": [
    {
     "data": {
      "text/plain": [
       "array(['BRAND B SUBBRAND B.1 ADULT POUCH RND_RD_KP_WRT_LM 1200_G_12_ST',\n",
       "       'BRAND B SUBBRAND B.2 ADULT ZAK GROENTE_KIP 1500_G',\n",
       "       'BRAND B SUBBRAND B.3 SENIOR BLIK GROENTE_KIP 400_G',\n",
       "       'BRAND D SUBBRAND D.3 ADULT POUCH RND_GV_KP_KLK_KN_LV_ND_LM 1200_G_12_ST',\n",
       "       'BRAND F SUBBRAND F.1 ADULT BLIK RND_KLK_ND_ZLM_LV_KP 1020_G_12_ST',\n",
       "       'BRAND H SUBBRAND H.1 PUPPY POUCH KIP_RST_LM_GV_RND 1200_G_12_ST',\n",
       "       'BRAND N SUBBRAND N.1 ADULT PAK RUND_ZLM_GRNT 1000_G',\n",
       "       'BRAND O SUBBRAND G.3 KITTEN POUCH KIP_KN_RND_LM 1200_G_12_ST'],\n",
       "      dtype=object)"
      ]
     },
     "execution_count": 27,
     "metadata": {},
     "output_type": "execute_result"
    }
   ],
   "source": [
    "filtered_waterfall.groupby(['PPG','Retailer_Name'],as_index=False).agg({'perc_contri_price':'mean'})['PPG'].unique()"
   ]
  },
  {
   "cell_type": "code",
   "execution_count": 28,
   "metadata": {},
   "outputs": [
    {
     "data": {
      "text/html": [
       "<div>\n",
       "<style scoped>\n",
       "    .dataframe tbody tr th:only-of-type {\n",
       "        vertical-align: middle;\n",
       "    }\n",
       "\n",
       "    .dataframe tbody tr th {\n",
       "        vertical-align: top;\n",
       "    }\n",
       "\n",
       "    .dataframe thead th {\n",
       "        text-align: right;\n",
       "    }\n",
       "</style>\n",
       "<table border=\"1\" class=\"dataframe\">\n",
       "  <thead>\n",
       "    <tr style=\"text-align: right;\">\n",
       "      <th></th>\n",
       "      <th>PPG</th>\n",
       "      <th>Retailer_Name</th>\n",
       "      <th>perc_contri_price</th>\n",
       "    </tr>\n",
       "  </thead>\n",
       "  <tbody>\n",
       "    <tr>\n",
       "      <th>0</th>\n",
       "      <td>BRAND B SUBBRAND B.1 ADULT POUCH RND_RD_KP_WRT...</td>\n",
       "      <td>Retailer C</td>\n",
       "      <td>53.959608</td>\n",
       "    </tr>\n",
       "    <tr>\n",
       "      <th>1</th>\n",
       "      <td>BRAND B SUBBRAND B.2 ADULT ZAK GROENTE_KIP 1500_G</td>\n",
       "      <td>Retailer B</td>\n",
       "      <td>43.970000</td>\n",
       "    </tr>\n",
       "    <tr>\n",
       "      <th>2</th>\n",
       "      <td>BRAND B SUBBRAND B.3 SENIOR BLIK GROENTE_KIP 4...</td>\n",
       "      <td>Retailer B</td>\n",
       "      <td>43.933333</td>\n",
       "    </tr>\n",
       "    <tr>\n",
       "      <th>3</th>\n",
       "      <td>BRAND D SUBBRAND D.3 ADULT POUCH RND_GV_KP_KLK...</td>\n",
       "      <td>Retailer C</td>\n",
       "      <td>42.891290</td>\n",
       "    </tr>\n",
       "    <tr>\n",
       "      <th>4</th>\n",
       "      <td>BRAND F SUBBRAND F.1 ADULT BLIK RND_KLK_ND_ZLM...</td>\n",
       "      <td>Retailer C</td>\n",
       "      <td>54.317083</td>\n",
       "    </tr>\n",
       "    <tr>\n",
       "      <th>5</th>\n",
       "      <td>BRAND H SUBBRAND H.1 PUPPY POUCH KIP_RST_LM_GV...</td>\n",
       "      <td>Retailer C</td>\n",
       "      <td>31.007750</td>\n",
       "    </tr>\n",
       "    <tr>\n",
       "      <th>6</th>\n",
       "      <td>BRAND N SUBBRAND N.1 ADULT PAK RUND_ZLM_GRNT 1...</td>\n",
       "      <td>Retailer C</td>\n",
       "      <td>34.246090</td>\n",
       "    </tr>\n",
       "    <tr>\n",
       "      <th>7</th>\n",
       "      <td>BRAND O SUBBRAND G.3 KITTEN POUCH KIP_KN_RND_L...</td>\n",
       "      <td>Retailer C</td>\n",
       "      <td>31.030000</td>\n",
       "    </tr>\n",
       "  </tbody>\n",
       "</table>\n",
       "</div>"
      ],
      "text/plain": [
       "                                                 PPG Retailer_Name  \\\n",
       "0  BRAND B SUBBRAND B.1 ADULT POUCH RND_RD_KP_WRT...    Retailer C   \n",
       "1  BRAND B SUBBRAND B.2 ADULT ZAK GROENTE_KIP 1500_G    Retailer B   \n",
       "2  BRAND B SUBBRAND B.3 SENIOR BLIK GROENTE_KIP 4...    Retailer B   \n",
       "3  BRAND D SUBBRAND D.3 ADULT POUCH RND_GV_KP_KLK...    Retailer C   \n",
       "4  BRAND F SUBBRAND F.1 ADULT BLIK RND_KLK_ND_ZLM...    Retailer C   \n",
       "5  BRAND H SUBBRAND H.1 PUPPY POUCH KIP_RST_LM_GV...    Retailer C   \n",
       "6  BRAND N SUBBRAND N.1 ADULT PAK RUND_ZLM_GRNT 1...    Retailer C   \n",
       "7  BRAND O SUBBRAND G.3 KITTEN POUCH KIP_KN_RND_L...    Retailer C   \n",
       "\n",
       "   perc_contri_price  \n",
       "0          53.959608  \n",
       "1          43.970000  \n",
       "2          43.933333  \n",
       "3          42.891290  \n",
       "4          54.317083  \n",
       "5          31.007750  \n",
       "6          34.246090  \n",
       "7          31.030000  "
      ]
     },
     "execution_count": 28,
     "metadata": {},
     "output_type": "execute_result"
    }
   ],
   "source": [
    "filtered_waterfall.groupby(['PPG','Retailer_Name'],as_index=False).agg({'perc_contri_price':'mean'})"
   ]
  },
  {
   "cell_type": "code",
   "execution_count": 30,
   "metadata": {},
   "outputs": [],
   "source": [
    "PPG = 'BRAND B SUBBRAND B.1 ADULT POUCH RND_RD_KP_WRT_LM 1200_G_12_ST'\n",
    "RETAILER = 'Retailer C'\n",
    "col_list = 'perc_contri_Baseline', 'perc_contri_price','perc_contri_Distribution_wtd',\\\n",
    "    'perc_contri_Category_Seasonality','perc_contri_Category_Trend','predicted_sales'\n",
    "value_list = list()\n",
    "for each_col in col_list:\n",
    "    val = filtered_waterfall.loc[(filtered_waterfall['PPG']==PPG)&(filtered_waterfall['Retailer_Name']==RETAILER),each_col].iloc[0]\n",
    "    value_list.append(val)"
   ]
  },
  {
   "cell_type": "code",
   "execution_count": 31,
   "metadata": {},
   "outputs": [
    {
     "data": {
      "application/vnd.plotly.v1+json": {
       "config": {
        "plotlyServerURL": "https://plot.ly"
       },
       "data": [
        {
         "connector": {
          "line": {
           "color": "rgb(63, 63, 63)"
          }
         },
         "measure": [
          "absolute",
          "relative",
          "relative",
          "relative",
          "relative",
          "total"
         ],
         "name": "%Contribution to Sales Volume",
         "orientation": "v",
         "text": [
          "21.01%",
          "54.93%",
          "24.14%",
          "-0.01%",
          "-0.08%",
          "11.19%"
         ],
         "textposition": "outside",
         "type": "waterfall",
         "x": [
          "Baseline",
          "Price",
          "Distribution",
          "Category Seasonality",
          "Category Trend",
          "Final Volume"
         ],
         "y": [
          21.01,
          54.93,
          24.14,
          -0.01,
          -0.08,
          11.187031777634203
         ]
        }
       ],
       "layout": {
        "height": 600,
        "showlegend": true,
        "template": {
         "data": {
          "bar": [
           {
            "error_x": {
             "color": "#2a3f5f"
            },
            "error_y": {
             "color": "#2a3f5f"
            },
            "marker": {
             "line": {
              "color": "#E5ECF6",
              "width": 0.5
             },
             "pattern": {
              "fillmode": "overlay",
              "size": 10,
              "solidity": 0.2
             }
            },
            "type": "bar"
           }
          ],
          "barpolar": [
           {
            "marker": {
             "line": {
              "color": "#E5ECF6",
              "width": 0.5
             },
             "pattern": {
              "fillmode": "overlay",
              "size": 10,
              "solidity": 0.2
             }
            },
            "type": "barpolar"
           }
          ],
          "carpet": [
           {
            "aaxis": {
             "endlinecolor": "#2a3f5f",
             "gridcolor": "white",
             "linecolor": "white",
             "minorgridcolor": "white",
             "startlinecolor": "#2a3f5f"
            },
            "baxis": {
             "endlinecolor": "#2a3f5f",
             "gridcolor": "white",
             "linecolor": "white",
             "minorgridcolor": "white",
             "startlinecolor": "#2a3f5f"
            },
            "type": "carpet"
           }
          ],
          "choropleth": [
           {
            "colorbar": {
             "outlinewidth": 0,
             "ticks": ""
            },
            "type": "choropleth"
           }
          ],
          "contour": [
           {
            "colorbar": {
             "outlinewidth": 0,
             "ticks": ""
            },
            "colorscale": [
             [
              0,
              "#0d0887"
             ],
             [
              0.1111111111111111,
              "#46039f"
             ],
             [
              0.2222222222222222,
              "#7201a8"
             ],
             [
              0.3333333333333333,
              "#9c179e"
             ],
             [
              0.4444444444444444,
              "#bd3786"
             ],
             [
              0.5555555555555556,
              "#d8576b"
             ],
             [
              0.6666666666666666,
              "#ed7953"
             ],
             [
              0.7777777777777778,
              "#fb9f3a"
             ],
             [
              0.8888888888888888,
              "#fdca26"
             ],
             [
              1,
              "#f0f921"
             ]
            ],
            "type": "contour"
           }
          ],
          "contourcarpet": [
           {
            "colorbar": {
             "outlinewidth": 0,
             "ticks": ""
            },
            "type": "contourcarpet"
           }
          ],
          "heatmap": [
           {
            "colorbar": {
             "outlinewidth": 0,
             "ticks": ""
            },
            "colorscale": [
             [
              0,
              "#0d0887"
             ],
             [
              0.1111111111111111,
              "#46039f"
             ],
             [
              0.2222222222222222,
              "#7201a8"
             ],
             [
              0.3333333333333333,
              "#9c179e"
             ],
             [
              0.4444444444444444,
              "#bd3786"
             ],
             [
              0.5555555555555556,
              "#d8576b"
             ],
             [
              0.6666666666666666,
              "#ed7953"
             ],
             [
              0.7777777777777778,
              "#fb9f3a"
             ],
             [
              0.8888888888888888,
              "#fdca26"
             ],
             [
              1,
              "#f0f921"
             ]
            ],
            "type": "heatmap"
           }
          ],
          "heatmapgl": [
           {
            "colorbar": {
             "outlinewidth": 0,
             "ticks": ""
            },
            "colorscale": [
             [
              0,
              "#0d0887"
             ],
             [
              0.1111111111111111,
              "#46039f"
             ],
             [
              0.2222222222222222,
              "#7201a8"
             ],
             [
              0.3333333333333333,
              "#9c179e"
             ],
             [
              0.4444444444444444,
              "#bd3786"
             ],
             [
              0.5555555555555556,
              "#d8576b"
             ],
             [
              0.6666666666666666,
              "#ed7953"
             ],
             [
              0.7777777777777778,
              "#fb9f3a"
             ],
             [
              0.8888888888888888,
              "#fdca26"
             ],
             [
              1,
              "#f0f921"
             ]
            ],
            "type": "heatmapgl"
           }
          ],
          "histogram": [
           {
            "marker": {
             "pattern": {
              "fillmode": "overlay",
              "size": 10,
              "solidity": 0.2
             }
            },
            "type": "histogram"
           }
          ],
          "histogram2d": [
           {
            "colorbar": {
             "outlinewidth": 0,
             "ticks": ""
            },
            "colorscale": [
             [
              0,
              "#0d0887"
             ],
             [
              0.1111111111111111,
              "#46039f"
             ],
             [
              0.2222222222222222,
              "#7201a8"
             ],
             [
              0.3333333333333333,
              "#9c179e"
             ],
             [
              0.4444444444444444,
              "#bd3786"
             ],
             [
              0.5555555555555556,
              "#d8576b"
             ],
             [
              0.6666666666666666,
              "#ed7953"
             ],
             [
              0.7777777777777778,
              "#fb9f3a"
             ],
             [
              0.8888888888888888,
              "#fdca26"
             ],
             [
              1,
              "#f0f921"
             ]
            ],
            "type": "histogram2d"
           }
          ],
          "histogram2dcontour": [
           {
            "colorbar": {
             "outlinewidth": 0,
             "ticks": ""
            },
            "colorscale": [
             [
              0,
              "#0d0887"
             ],
             [
              0.1111111111111111,
              "#46039f"
             ],
             [
              0.2222222222222222,
              "#7201a8"
             ],
             [
              0.3333333333333333,
              "#9c179e"
             ],
             [
              0.4444444444444444,
              "#bd3786"
             ],
             [
              0.5555555555555556,
              "#d8576b"
             ],
             [
              0.6666666666666666,
              "#ed7953"
             ],
             [
              0.7777777777777778,
              "#fb9f3a"
             ],
             [
              0.8888888888888888,
              "#fdca26"
             ],
             [
              1,
              "#f0f921"
             ]
            ],
            "type": "histogram2dcontour"
           }
          ],
          "mesh3d": [
           {
            "colorbar": {
             "outlinewidth": 0,
             "ticks": ""
            },
            "type": "mesh3d"
           }
          ],
          "parcoords": [
           {
            "line": {
             "colorbar": {
              "outlinewidth": 0,
              "ticks": ""
             }
            },
            "type": "parcoords"
           }
          ],
          "pie": [
           {
            "automargin": true,
            "type": "pie"
           }
          ],
          "scatter": [
           {
            "fillpattern": {
             "fillmode": "overlay",
             "size": 10,
             "solidity": 0.2
            },
            "type": "scatter"
           }
          ],
          "scatter3d": [
           {
            "line": {
             "colorbar": {
              "outlinewidth": 0,
              "ticks": ""
             }
            },
            "marker": {
             "colorbar": {
              "outlinewidth": 0,
              "ticks": ""
             }
            },
            "type": "scatter3d"
           }
          ],
          "scattercarpet": [
           {
            "marker": {
             "colorbar": {
              "outlinewidth": 0,
              "ticks": ""
             }
            },
            "type": "scattercarpet"
           }
          ],
          "scattergeo": [
           {
            "marker": {
             "colorbar": {
              "outlinewidth": 0,
              "ticks": ""
             }
            },
            "type": "scattergeo"
           }
          ],
          "scattergl": [
           {
            "marker": {
             "colorbar": {
              "outlinewidth": 0,
              "ticks": ""
             }
            },
            "type": "scattergl"
           }
          ],
          "scattermapbox": [
           {
            "marker": {
             "colorbar": {
              "outlinewidth": 0,
              "ticks": ""
             }
            },
            "type": "scattermapbox"
           }
          ],
          "scatterpolar": [
           {
            "marker": {
             "colorbar": {
              "outlinewidth": 0,
              "ticks": ""
             }
            },
            "type": "scatterpolar"
           }
          ],
          "scatterpolargl": [
           {
            "marker": {
             "colorbar": {
              "outlinewidth": 0,
              "ticks": ""
             }
            },
            "type": "scatterpolargl"
           }
          ],
          "scatterternary": [
           {
            "marker": {
             "colorbar": {
              "outlinewidth": 0,
              "ticks": ""
             }
            },
            "type": "scatterternary"
           }
          ],
          "surface": [
           {
            "colorbar": {
             "outlinewidth": 0,
             "ticks": ""
            },
            "colorscale": [
             [
              0,
              "#0d0887"
             ],
             [
              0.1111111111111111,
              "#46039f"
             ],
             [
              0.2222222222222222,
              "#7201a8"
             ],
             [
              0.3333333333333333,
              "#9c179e"
             ],
             [
              0.4444444444444444,
              "#bd3786"
             ],
             [
              0.5555555555555556,
              "#d8576b"
             ],
             [
              0.6666666666666666,
              "#ed7953"
             ],
             [
              0.7777777777777778,
              "#fb9f3a"
             ],
             [
              0.8888888888888888,
              "#fdca26"
             ],
             [
              1,
              "#f0f921"
             ]
            ],
            "type": "surface"
           }
          ],
          "table": [
           {
            "cells": {
             "fill": {
              "color": "#EBF0F8"
             },
             "line": {
              "color": "white"
             }
            },
            "header": {
             "fill": {
              "color": "#C8D4E3"
             },
             "line": {
              "color": "white"
             }
            },
            "type": "table"
           }
          ]
         },
         "layout": {
          "annotationdefaults": {
           "arrowcolor": "#2a3f5f",
           "arrowhead": 0,
           "arrowwidth": 1
          },
          "autotypenumbers": "strict",
          "coloraxis": {
           "colorbar": {
            "outlinewidth": 0,
            "ticks": ""
           }
          },
          "colorscale": {
           "diverging": [
            [
             0,
             "#8e0152"
            ],
            [
             0.1,
             "#c51b7d"
            ],
            [
             0.2,
             "#de77ae"
            ],
            [
             0.3,
             "#f1b6da"
            ],
            [
             0.4,
             "#fde0ef"
            ],
            [
             0.5,
             "#f7f7f7"
            ],
            [
             0.6,
             "#e6f5d0"
            ],
            [
             0.7,
             "#b8e186"
            ],
            [
             0.8,
             "#7fbc41"
            ],
            [
             0.9,
             "#4d9221"
            ],
            [
             1,
             "#276419"
            ]
           ],
           "sequential": [
            [
             0,
             "#0d0887"
            ],
            [
             0.1111111111111111,
             "#46039f"
            ],
            [
             0.2222222222222222,
             "#7201a8"
            ],
            [
             0.3333333333333333,
             "#9c179e"
            ],
            [
             0.4444444444444444,
             "#bd3786"
            ],
            [
             0.5555555555555556,
             "#d8576b"
            ],
            [
             0.6666666666666666,
             "#ed7953"
            ],
            [
             0.7777777777777778,
             "#fb9f3a"
            ],
            [
             0.8888888888888888,
             "#fdca26"
            ],
            [
             1,
             "#f0f921"
            ]
           ],
           "sequentialminus": [
            [
             0,
             "#0d0887"
            ],
            [
             0.1111111111111111,
             "#46039f"
            ],
            [
             0.2222222222222222,
             "#7201a8"
            ],
            [
             0.3333333333333333,
             "#9c179e"
            ],
            [
             0.4444444444444444,
             "#bd3786"
            ],
            [
             0.5555555555555556,
             "#d8576b"
            ],
            [
             0.6666666666666666,
             "#ed7953"
            ],
            [
             0.7777777777777778,
             "#fb9f3a"
            ],
            [
             0.8888888888888888,
             "#fdca26"
            ],
            [
             1,
             "#f0f921"
            ]
           ]
          },
          "colorway": [
           "#636efa",
           "#EF553B",
           "#00cc96",
           "#ab63fa",
           "#FFA15A",
           "#19d3f3",
           "#FF6692",
           "#B6E880",
           "#FF97FF",
           "#FECB52"
          ],
          "font": {
           "color": "#2a3f5f"
          },
          "geo": {
           "bgcolor": "white",
           "lakecolor": "white",
           "landcolor": "#E5ECF6",
           "showlakes": true,
           "showland": true,
           "subunitcolor": "white"
          },
          "hoverlabel": {
           "align": "left"
          },
          "hovermode": "closest",
          "mapbox": {
           "style": "light"
          },
          "paper_bgcolor": "white",
          "plot_bgcolor": "#E5ECF6",
          "polar": {
           "angularaxis": {
            "gridcolor": "white",
            "linecolor": "white",
            "ticks": ""
           },
           "bgcolor": "#E5ECF6",
           "radialaxis": {
            "gridcolor": "white",
            "linecolor": "white",
            "ticks": ""
           }
          },
          "scene": {
           "xaxis": {
            "backgroundcolor": "#E5ECF6",
            "gridcolor": "white",
            "gridwidth": 2,
            "linecolor": "white",
            "showbackground": true,
            "ticks": "",
            "zerolinecolor": "white"
           },
           "yaxis": {
            "backgroundcolor": "#E5ECF6",
            "gridcolor": "white",
            "gridwidth": 2,
            "linecolor": "white",
            "showbackground": true,
            "ticks": "",
            "zerolinecolor": "white"
           },
           "zaxis": {
            "backgroundcolor": "#E5ECF6",
            "gridcolor": "white",
            "gridwidth": 2,
            "linecolor": "white",
            "showbackground": true,
            "ticks": "",
            "zerolinecolor": "white"
           }
          },
          "shapedefaults": {
           "line": {
            "color": "#2a3f5f"
           }
          },
          "ternary": {
           "aaxis": {
            "gridcolor": "white",
            "linecolor": "white",
            "ticks": ""
           },
           "baxis": {
            "gridcolor": "white",
            "linecolor": "white",
            "ticks": ""
           },
           "bgcolor": "#E5ECF6",
           "caxis": {
            "gridcolor": "white",
            "linecolor": "white",
            "ticks": ""
           }
          },
          "title": {
           "x": 0.05
          },
          "xaxis": {
           "automargin": true,
           "gridcolor": "white",
           "linecolor": "white",
           "ticks": "",
           "title": {
            "standoff": 15
           },
           "zerolinecolor": "white",
           "zerolinewidth": 2
          },
          "yaxis": {
           "automargin": true,
           "gridcolor": "white",
           "linecolor": "white",
           "ticks": "",
           "title": {
            "standoff": 15
           },
           "zerolinecolor": "white",
           "zerolinewidth": 2
          }
         }
        },
        "title": {
         "text": "PPG || BRAND B SUBBRAND B.1 ADULT POUCH RND_RD_KP_WRT_LM 1200_G_12_ST||Retailer C"
        }
       }
      }
     },
     "metadata": {},
     "output_type": "display_data"
    }
   ],
   "source": [
    "\n",
    "\n",
    "fig = go.Figure(go.Waterfall(\n",
    "    name = \"%Contribution to Sales Volume\", orientation = \"v\",\n",
    "    measure = [\"absolute\", \"relative\", \"relative\", \"relative\", \"relative\", \"total\"],\n",
    "    x = [\"Baseline\", \"Price\", \"Distribution\", \"Category Seasonality\", \"Category Trend\", \"Final Volume\"],\n",
    "    textposition = \"outside\",\n",
    "    text =  [f'{i*1:.2f}%' for i in value_list],\n",
    "    y = value_list,\n",
    "    connector = {\"line\":{\"color\":\"rgb(63, 63, 63)\"}},\n",
    "))\n",
    "\n",
    "fig.update_layout(\n",
    "        title = \"PPG || \" + PPG + \"||\" + RETAILER,\n",
    "        showlegend = True,height=600\n",
    ")\n",
    "\n",
    "fig.show()"
   ]
  },
  {
   "cell_type": "code",
   "execution_count": 39,
   "metadata": {},
   "outputs": [],
   "source": [
    "import plotly.io as pio\n",
    "pio.write_image(fig, '../plots/waterfall.jpg',height=600,width=1200,)"
   ]
  },
  {
   "cell_type": "code",
   "execution_count": null,
   "metadata": {},
   "outputs": [],
   "source": []
  }
 ],
 "metadata": {
  "kernelspec": {
   "display_name": "base",
   "language": "python",
   "name": "python3"
  },
  "language_info": {
   "codemirror_mode": {
    "name": "ipython",
    "version": 3
   },
   "file_extension": ".py",
   "mimetype": "text/x-python",
   "name": "python",
   "nbconvert_exporter": "python",
   "pygments_lexer": "ipython3",
   "version": "3.9.12"
  },
  "orig_nbformat": 4
 },
 "nbformat": 4,
 "nbformat_minor": 2
}
